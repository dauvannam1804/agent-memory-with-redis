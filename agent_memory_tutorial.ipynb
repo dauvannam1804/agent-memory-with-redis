{
  "cells": [
    {
      "cell_type": "markdown",
      "metadata": {
        "id": "view-in-github",
        "colab_type": "text"
      },
      "source": [
        "<a href=\"https://colab.research.google.com/github/dauvannam1804/agent-memory-with-redis/blob/main/agent_memory_tutorial.ipynb\" target=\"_parent\"><img src=\"https://colab.research.google.com/assets/colab-badge.svg\" alt=\"Open In Colab\"/></a>"
      ]
    },
    {
      "cell_type": "markdown",
      "metadata": {
        "id": "sxdnLVT31nfd"
      },
      "source": [
        "![](https://europe-west1-atp-views-tracker.cloudfunctions.net/working-analytics?notebook=tutorials--agent-memory-with-redis--agent-memory-tutorial)\n",
        "\n",
        "# Agent Memory with Redis\n",
        "\n",
        "## 🚀 Run in Google Colab\n",
        "\n",
        "[![Open In Colab](https://colab.research.google.com/assets/colab-badge.svg)](https://colab.research.google.com/github/NirDiamant/agents-towards-production/blob/main/tutorials/agent-memory-with-redis/agent_memory_tutorial.ipynb)\n",
        "\n",
        "\n",
        "## Introduction\n",
        "\n",
        "Without memory, AI agents are like goldfish - they forget everything after each conversation and can't learn from past interactions or maintain context across sessions. Agentic systems require both **short-term** and **long-term** memory in order to complete tasks in a personalized and resilient manner. Memory is all about state management and [**Redis**](https://redis.io/try-free/?utm_source=nir&utm_medium=cpa&utm_campaign=2025-05-ai_in_production-influencer-nir&utm_content=sd-software_download-7013z000001WaRY) is the well-known in-memory database for exactly this kind of use case today in production systems.\n",
        "\n",
        "## What We'll Build\n",
        "\n",
        "This tutorial demonstrates how to build a **memory-enabled travel agent** with **Redis** and **LangGraph** that remembers user preferences and provides personalized recommendations. This is a **horizontal concept** that you can take and apply to your own agent use cases.\n",
        "\n",
        "We'll explore:\n",
        "\n",
        "1. Short-term memory management using LangGraph's checkpointer\n",
        "2. Long-term memory storage and retrieval using RedisVL\n",
        "3. Managing long-term memory as a tool for a ReAct agent\n",
        "4. Managing conversation history size with summarization"
      ]
    },
    {
      "cell_type": "markdown",
      "metadata": {
        "id": "Ee3ltHdVvKOD"
      },
      "source": [
        "# 🧠 Memory architecture overview\n",
        "\n",
        "Our agent uses a dual-memory system:\n",
        "- **Short-term**: Manages conversation context\n",
        "- **Long-term**: Stores persistent knowledge\n",
        "\n",
        "## Short-term Memory\n",
        "The agent tracks chat history using Redis through LangGraph's [checkpointer](https://github.com/redis-developer/langgraph-redis). Each node in the graph (Retrieve Memories, Respond, Summarize) saves its state to Redis, including conversation history and thread metadata.\n",
        "\n",
        "<img src=\"assets/short-term-memory.png\" width=\"400\" alt=\"Short-term Memory Diagram\">\n",
        "\n",
        "To prevent context window pollution, the agent summarizes conversations when they exceed a configurable length.\n",
        "\n",
        "## Long-term Memory\n",
        "\n",
        "Long-term memories are stored & indexed in Redis using the RedisVL client, with two types:\n",
        "- **Episodic**: User preferences and experiences\n",
        "- **Semantic**: General travel knowledge\n",
        "\n",
        "<img src=\"assets/long-term-memory.png\" width=\"600\" alt=\"Long-term Memory Diagram\">\n",
        "\n",
        ">**NOTE**: These memory types align with the [CoALA](https://arxiv.org/abs/2309.02427) paper's concepts. Our agent's procedural memory is encoded in its Python workflow."
      ]
    },
    {
      "cell_type": "markdown",
      "metadata": {
        "id": "0KciGua91nfe"
      },
      "source": [
        "---\n",
        "\n",
        "# Set up our environment\n",
        "\n",
        "Before diving into the code, let's set up our development environment with the right Python libraries.\n",
        "\n",
        ">**NOTE**: You may need to restart your kernal after installing libraries."
      ]
    },
    {
      "cell_type": "code",
      "execution_count": null,
      "metadata": {
        "colab": {
          "base_uri": "https://localhost:8080/"
        },
        "id": "0zTUm35H1nfe",
        "outputId": "d1115b85-602a-48f6-bac0-8856e3bc6f7d"
      },
      "outputs": [
        {
          "name": "stdout",
          "output_type": "stream",
          "text": [
            "\u001b[2K     \u001b[90m━━━━━━━━━━━━━━━━━━━━━━━━━━━━━━━━━━━━━━━━\u001b[0m \u001b[32m43.7/43.7 kB\u001b[0m \u001b[31m2.4 MB/s\u001b[0m eta \u001b[36m0:00:00\u001b[0m\n",
            "\u001b[2K   \u001b[90m━━━━━━━━━━━━━━━━━━━━━━━━━━━━━━━━━━━━━━━━\u001b[0m \u001b[32m69.2/69.2 kB\u001b[0m \u001b[31m6.6 MB/s\u001b[0m eta \u001b[36m0:00:00\u001b[0m\n",
            "\u001b[2K   \u001b[90m━━━━━━━━━━━━━━━━━━━━━━━━━━━━━━━━━━━━━━━━\u001b[0m \u001b[32m43.8/43.8 kB\u001b[0m \u001b[31m3.1 MB/s\u001b[0m eta \u001b[36m0:00:00\u001b[0m\n",
            "\u001b[2K   \u001b[90m━━━━━━━━━━━━━━━━━━━━━━━━━━━━━━━━━━━━━━━━\u001b[0m \u001b[32m152.4/152.4 kB\u001b[0m \u001b[31m11.0 MB/s\u001b[0m eta \u001b[36m0:00:00\u001b[0m\n",
            "\u001b[2K   \u001b[90m━━━━━━━━━━━━━━━━━━━━━━━━━━━━━━━━━━━━━━━━\u001b[0m \u001b[32m62.1/62.1 kB\u001b[0m \u001b[31m5.6 MB/s\u001b[0m eta \u001b[36m0:00:00\u001b[0m\n",
            "\u001b[2K   \u001b[90m━━━━━━━━━━━━━━━━━━━━━━━━━━━━━━━━━━━━━━━━\u001b[0m \u001b[32m50.0/50.0 kB\u001b[0m \u001b[31m4.6 MB/s\u001b[0m eta \u001b[36m0:00:00\u001b[0m\n",
            "\u001b[2K   \u001b[90m━━━━━━━━━━━━━━━━━━━━━━━━━━━━━━━━━━━━━━━━\u001b[0m \u001b[32m216.5/216.5 kB\u001b[0m \u001b[31m18.8 MB/s\u001b[0m eta \u001b[36m0:00:00\u001b[0m\n",
            "\u001b[2K   \u001b[90m━━━━━━━━━━━━━━━━━━━━━━━━━━━━━━━━━━━━━━━━\u001b[0m \u001b[32m152.3/152.3 kB\u001b[0m \u001b[31m12.6 MB/s\u001b[0m eta \u001b[36m0:00:00\u001b[0m\n",
            "\u001b[2K   \u001b[90m━━━━━━━━━━━━━━━━━━━━━━━━━━━━━━━━━━━━━━━━\u001b[0m \u001b[32m278.7/278.7 kB\u001b[0m \u001b[31m23.3 MB/s\u001b[0m eta \u001b[36m0:00:00\u001b[0m\n",
            "\u001b[?25h"
          ]
        }
      ],
      "source": [
        "%pip install -q langchain-openai langgraph-checkpoint langgraph langgraph-checkpoint-redis langchain-redis"
      ]
    },
    {
      "cell_type": "markdown",
      "metadata": {
        "id": "8R1hEM7s1nff"
      },
      "source": [
        "## Required API keys\n",
        "\n",
        "You must add an [OpenAI API](https://platform.openai.com/signup) key with billing information for this tutorial."
      ]
    },
    {
      "cell_type": "code",
      "execution_count": 7,
      "metadata": {
        "id": "365fzPsj1nff"
      },
      "outputs": [],
      "source": [
        "import getpass\n",
        "import os\n",
        "\n",
        "def _set_env(key: str):\n",
        "    if key not in os.environ:\n",
        "        os.environ[key] = getpass.getpass(f\"{key}:\")\n",
        "\n",
        "\n",
        "_set_env(\"GOOGLE_API_KEY\")"
      ]
    },
    {
      "cell_type": "markdown",
      "metadata": {
        "id": "NLkF4GB_1nff"
      },
      "source": [
        "## Setup Redis\n",
        "\n",
        "You have two options for running Redis:\n",
        "\n",
        "1. **Redis Cloud**: For a fully-managed, seamless experience, use [a free instance of Redis Cloud](https://redis.io/try-free/?utm_source=nir&utm_medium=cpa&utm_campaign=2025-05-ai_in_production-influencer-nir&utm_content=sd-software_download-7013z000001WaRY).\n",
        "2. **Local Redis**: For a simple, local (non-persistent) Redis instance, run the cell below."
      ]
    },
    {
      "cell_type": "markdown",
      "metadata": {
        "id": "zgKbb4ol1nff"
      },
      "source": [
        "Run the cell below to get a localized Redis instance on your Google colab server."
      ]
    },
    {
      "cell_type": "code",
      "execution_count": null,
      "metadata": {
        "colab": {
          "background_save": true
        },
        "id": "xs7bi1kr1nff",
        "outputId": "a707a1b8-b508-45f0-ba9a-cdb45f033e3e"
      },
      "outputs": [
        {
          "name": "stdout",
          "output_type": "stream",
          "text": [
            "deb [signed-by=/usr/share/keyrings/redis-archive-keyring.gpg] https://packages.redis.io/deb jammy main\n",
            "Starting redis-stack-server, database path /var/lib/redis-stack\n"
          ]
        }
      ],
      "source": [
        "%%sh\n",
        "curl -fsSL https://packages.redis.io/gpg | sudo gpg --dearmor -o /usr/share/keyrings/redis-archive-keyring.gpg\n",
        "echo \"deb [signed-by=/usr/share/keyrings/redis-archive-keyring.gpg] https://packages.redis.io/deb $(lsb_release -cs) main\" | sudo tee /etc/apt/sources.list.d/redis.list\n",
        "sudo apt-get update  > /dev/null 2>&1\n",
        "sudo apt-get install redis-stack-server  > /dev/null 2>&1\n",
        "redis-stack-server --daemonize yes"
      ]
    },
    {
      "cell_type": "markdown",
      "metadata": {
        "id": "-B8XRKHR1nff"
      },
      "source": [
        "Let's test out Redis connection and create a client to communicate with the server."
      ]
    },
    {
      "cell_type": "code",
      "execution_count": null,
      "metadata": {
        "colab": {
          "background_save": true
        },
        "id": "dauPT3PT1nff",
        "outputId": "048df669-a041-4dd4-c434-1216080fd416"
      },
      "outputs": [
        {
          "data": {
            "text/plain": [
              "True"
            ]
          },
          "execution_count": 4,
          "metadata": {},
          "output_type": "execute_result"
        }
      ],
      "source": [
        "import os\n",
        "\n",
        "from redis import Redis\n",
        "\n",
        "# Use the environment variable if set, otherwise default to localhost\n",
        "REDIS_URL = os.getenv(\"REDIS_URL\", \"redis://localhost:6379\")\n",
        "\n",
        "redis_client = Redis.from_url(REDIS_URL)\n",
        "redis_client.ping()"
      ]
    },
    {
      "cell_type": "markdown",
      "metadata": {
        "id": "aRxYTTOf1nfg"
      },
      "source": [
        "## Prepare memory data models\n",
        "\n",
        "In this section, we'll create a robust data modeling system for our agent's memory using `Pydantic`. These models will ensure type safety and provide clear data structures for storing and retrieving memories from Redis.\n",
        "\n",
        "We'll implement four key components:\n",
        "\n",
        "1. `MemoryType` - An enumeration that categorizes memories into two types:\n",
        "   - Episodic: Personal experiences and user preferences\n",
        "   - Semantic: General knowledge and domain facts\n",
        "\n",
        "2. `Memory` - The core model representing a single memory entry with its content and metadata\n",
        "\n",
        "3. `Memories` - A container model that holds collections of memory objects\n",
        "\n",
        "4. `StoredMemory` - A specialized model for memories that have been persisted to Redis\n",
        "\n",
        "These models work together to create a complete memory lifecycle, from creation to storage and retrieval."
      ]
    },
    {
      "cell_type": "code",
      "execution_count": 6,
      "metadata": {
        "id": "Ix6Pe6qG1nfg"
      },
      "outputs": [],
      "source": [
        "import ulid\n",
        "\n",
        "from datetime import datetime\n",
        "from enum import Enum\n",
        "from typing import List, Optional\n",
        "from pydantic import BaseModel, Field\n",
        "\n",
        "\n",
        "class MemoryType(str, Enum):\n",
        "    \"\"\"\n",
        "    Defines the type of long-term memory for categorization and retrieval.\n",
        "\n",
        "    EPISODIC: Personal experiences and user-specific preferences\n",
        "              (e.g., \"User prefers Delta airlines\", \"User visited Paris last year\")\n",
        "\n",
        "    SEMANTIC: General domain knowledge and facts\n",
        "              (e.g., \"Singapore requires passport\", \"Tokyo has excellent public transit\")\n",
        "\n",
        "    The type of a long-term memory.\n",
        "\n",
        "    EPISODIC: User specific experiences and preferences\n",
        "\n",
        "    SEMANTIC: General knowledge on top of the user's preferences and LLM's\n",
        "    training data.\n",
        "    \"\"\"\n",
        "\n",
        "    EPISODIC = \"episodic\"\n",
        "    SEMANTIC = \"semantic\"\n",
        "\n",
        "\n",
        "class Memory(BaseModel):\n",
        "    \"\"\"Represents a single long-term memory.\"\"\"\n",
        "\n",
        "    content: str\n",
        "    memory_type: MemoryType\n",
        "    metadata: str\n",
        "\n",
        "\n",
        "class Memories(BaseModel):\n",
        "    \"\"\"\n",
        "    A list of memories extracted from a conversation by an LLM.\n",
        "\n",
        "    NOTE: OpenAI's structured output requires us to wrap the list in an object.\n",
        "    \"\"\"\n",
        "\n",
        "    memories: List[Memory]\n",
        "\n",
        "\n",
        "class StoredMemory(Memory):\n",
        "    \"\"\"A stored long-term memory\"\"\"\n",
        "\n",
        "    id: str  # The redis key\n",
        "    memory_id: ulid.ULID = Field(default_factory=lambda: ulid.ULID())\n",
        "    created_at: datetime = Field(default_factory=datetime.now)\n",
        "    user_id: Optional[str] = None\n",
        "    thread_id: Optional[str] = None\n",
        "    memory_type: Optional[MemoryType] = None"
      ]
    },
    {
      "cell_type": "markdown",
      "metadata": {
        "id": "P6a03f4b1nfg"
      },
      "source": [
        "Now we have type-safe data models that handle the complete memory lifecycle from LLM extraction to Redis storage, with proper metadata tracking for production use. Next, we'll set up the Redis infrastructure to store and search these memories using vector embeddings."
      ]
    },
    {
      "cell_type": "markdown",
      "metadata": {
        "id": "T0FBUdRY1nfg"
      },
      "source": [
        "# Memory Storage\n",
        "\n",
        "- **Short-term memory** is handled automatically by `RedisSaver` from `langgraph-checkpoint-redis`.\n",
        "- For **long-term memory**, we'll use RedisVL with vector embeddings to enable semantic search of past experiences and knowledge.\n",
        "\n",
        "Below, we will create a search index schema in Redis to hold our long term memories. The schema has a few different fields including content, memory type, metadata, timestamps, user id, memory id, and the embedding of the memory."
      ]
    },
    {
      "cell_type": "code",
      "execution_count": 8,
      "metadata": {
        "id": "D-bfk_Ro1nfg"
      },
      "outputs": [],
      "source": [
        "from redisvl.index import SearchIndex\n",
        "from redisvl.schema.schema import IndexSchema\n",
        "\n",
        "\n",
        "# Define the schema for our vector search index\n",
        "# This creates the structure for storing and querying memories\n",
        "memory_schema = IndexSchema.from_dict({\n",
        "        \"index\": {\n",
        "            \"name\": \"agent_memories\",  # Index name for identification\n",
        "            \"prefix\": \"memory\",       # Redis key prefix (memory:1, memory:2, etc.)\n",
        "            \"key_separator\": \":\",\n",
        "            \"storage_type\": \"json\",\n",
        "        },\n",
        "        \"fields\": [\n",
        "            {\"name\": \"content\", \"type\": \"text\"},\n",
        "            {\"name\": \"memory_type\", \"type\": \"tag\"},\n",
        "            {\"name\": \"metadata\", \"type\": \"text\"},\n",
        "            {\"name\": \"created_at\", \"type\": \"text\"},\n",
        "            {\"name\": \"user_id\", \"type\": \"tag\"},\n",
        "            {\"name\": \"memory_id\", \"type\": \"tag\"},\n",
        "            {\n",
        "                \"name\": \"embedding\",\n",
        "                \"type\": \"vector\",\n",
        "                \"attrs\": {\n",
        "                    \"algorithm\": \"flat\",\n",
        "                    # \"dims\": 1536,  # OpenAI embedding dimension\n",
        "                    \"dims\": 768,\n",
        "                    \"distance_metric\": \"cosine\",\n",
        "                    \"datatype\": \"float32\",\n",
        "                },\n",
        "            },\n",
        "        ],\n",
        "    }\n",
        ")"
      ]
    },
    {
      "cell_type": "markdown",
      "metadata": {
        "id": "IHUC6A6tvKOF"
      },
      "source": [
        "Below we create the `SearchIndex` from the `IndexSchema` and our Redis client connection object. We will overwrite the index spec if its already created!"
      ]
    },
    {
      "cell_type": "code",
      "execution_count": 9,
      "metadata": {
        "colab": {
          "base_uri": "https://localhost:8080/"
        },
        "id": "iMHgajwyvKOF",
        "outputId": "a2981b2e-bb77-4304-f9a3-bbfa1690781c"
      },
      "outputs": [
        {
          "output_type": "stream",
          "name": "stdout",
          "text": [
            "Long-term memory index ready\n"
          ]
        }
      ],
      "source": [
        "try:\n",
        "    long_term_memory_index = SearchIndex(\n",
        "        schema=memory_schema,\n",
        "        redis_client=redis_client,\n",
        "        validate_on_load=True\n",
        "    )\n",
        "    long_term_memory_index.create(overwrite=True)\n",
        "    print(\"Long-term memory index ready\")\n",
        "except Exception as e:\n",
        "    print(f\"Error creating index: {e}\")"
      ]
    },
    {
      "cell_type": "markdown",
      "metadata": {
        "id": "q9J3oIwN24M-"
      },
      "source": [
        "Now that the index is created, we can inspect the long term memory index in Redis using the `rvl` cli:"
      ]
    },
    {
      "cell_type": "code",
      "execution_count": 10,
      "metadata": {
        "colab": {
          "base_uri": "https://localhost:8080/"
        },
        "id": "smnQbc5-2y_C",
        "outputId": "a1fb05b5-5a83-4539-9d96-777d7559ea44"
      },
      "outputs": [
        {
          "output_type": "stream",
          "name": "stdout",
          "text": [
            "\n",
            "\n",
            "Index Information:\n",
            "╭────────────────┬────────────────┬────────────────┬────────────────┬────────────────┬\b╮\n",
            "│ Index Name     │ Storage Type   │ Prefixes       │ Index Options  │ Indexing       │\n",
            "├────────────────┼────────────────┼────────────────┼────────────────┼────────────────┼\b┤\n",
            "| agent_memories | JSON           | ['memory']     | []             | 0              |\n",
            "╰────────────────┴────────────────┴────────────────┴────────────────┴────────────────┴\b╯\n",
            "Index Fields:\n",
            "╭─────────────────┬─────────────────┬─────────────────┬─────────────────┬─────────────────┬─────────────────┬─────────────────┬─────────────────┬─────────────────┬─────────────────┬─────────────────┬\b╮\n",
            "│ Name            │ Attribute       │ Type            │ Field Option    │ Option Value    │ Field Option    │ Option Value    │ Field Option    │ Option Value    │ Field Option    │ Option Value    │\n",
            "├─────────────────┼─────────────────┼─────────────────┼─────────────────┼─────────────────┼─────────────────┼─────────────────┼─────────────────┼─────────────────┼─────────────────┼─────────────────┼\b┤\n",
            "│ $.content       │ content         │ TEXT            │ WEIGHT          │ 1               │                 │                 │                 │                 │                 │                 │\n",
            "│ $.memory_type   │ memory_type     │ TAG             │ SEPARATOR       │ ,               │                 │                 │                 │                 │                 │                 │\n",
            "│ $.metadata      │ metadata        │ TEXT            │ WEIGHT          │ 1               │                 │                 │                 │                 │                 │                 │\n",
            "│ $.created_at    │ created_at      │ TEXT            │ WEIGHT          │ 1               │                 │                 │                 │                 │                 │                 │\n",
            "│ $.user_id       │ user_id         │ TAG             │ SEPARATOR       │ ,               │                 │                 │                 │                 │                 │                 │\n",
            "│ $.memory_id     │ memory_id       │ TAG             │ SEPARATOR       │ ,               │                 │                 │                 │                 │                 │                 │\n",
            "│ $.embedding     │ embedding       │ VECTOR          │ algorithm       │ FLAT            │ data_type       │ FLOAT32         │ dim             │ 768             │ distance_metric │ COSINE          │\n",
            "╰─────────────────┴─────────────────┴─────────────────┴─────────────────┴─────────────────┴─────────────────┴─────────────────┴─────────────────┴─────────────────┴─────────────────┴─────────────────┴\b╯\n"
          ]
        }
      ],
      "source": [
        "!rvl index info -i agent_memories"
      ]
    },
    {
      "cell_type": "markdown",
      "metadata": {
        "id": "r5ybTN2l1nfg"
      },
      "source": [
        "## Functions to access memories\n",
        "\n",
        "Next, we provide three core functions to access, store and retrieve memories. We will eventually use these in tools for the LLM to call. We will start by loading a vectorizer class to create OpenAI embeddings.\n"
      ]
    },
    {
      "cell_type": "code",
      "execution_count": 11,
      "metadata": {
        "colab": {
          "base_uri": "https://localhost:8080/",
          "height": 493,
          "referenced_widgets": [
            "7c7cda1a6a6e4aa895bf4dfd1b2654ba",
            "d871843f74854d168992ecb794c21eb1",
            "5ed01975f9784f68b05412e5a2963b65",
            "30656f7b9b6f41b18c0d0437f4fd5654",
            "115661ea462444c1a16f56d5a75b7b56",
            "93dc9dc0c9bb464d8d45b3492de10a0f",
            "332aa835f6e3486886f26ad6ae8685e2",
            "eae708ff086743ecbea038201c25d589",
            "3787f5fa49d744949dbe14d7a89610a6",
            "77537224a7114526888ddcfcf685fc7c",
            "3fe012c5d2e042ee9a13fdb6ffd714cf",
            "d69aea9d21b14e1787cbbbfa3ad7ef5a",
            "435245de64074baf93143e112a981856",
            "a205878d95a2491e9455072ad03d0447",
            "981f4deabc6549fab78544995fdc18ec",
            "86c090b8b5e143dab30917f508569206",
            "8a776adf60f14b1c8520c15a51cb6fd1",
            "8dc22b83e9d645b481fb06cb05d6c892",
            "c2c9056a1250450d8caa539cbdd53610",
            "3102578a5b734e79b450515e124c7f68",
            "7967378915384715b9fbdd2db7d009e4",
            "248ab2aa748d411dbb9be1cec946eb67",
            "a8901c5af4664ef587908f1cdfa2016a",
            "a6030f797d294f3ab1376869e2b7d1c5",
            "6f1e73b65dda45bd9c9f1dddbfa713c6",
            "fbfd67c540d54b9aa7573a46303c9136",
            "9a01f3e5a1e8444a8e5b561c7278fddb",
            "72e76610a9b14439a962e7f2df1e9bba",
            "1103aead3de8449da8fcb469b6818973",
            "299698468bd74f8f95a3fade4eb6b6a4",
            "59d5f72006434038ba9a8a42e686c097",
            "523b5fb2d0184f28883da24108e2ef9d",
            "95ecc7104d7749d79d0dfe8ab80847da",
            "66afbc1671d54423b14211f077478618",
            "9f21d3d0346f44dd83e54e6ea3acc9c3",
            "4dfb4bafc653414e840b5a993add99c5",
            "6c981a34b441445a9cab940f9e44ad07",
            "7d20045f10f54dfba3e62706fae5bd5f",
            "234e2c422b6944729e636f735f51c571",
            "a2898f9f77dd420a9df141a43046f2ce",
            "e11d27ed53504bd5b43d3751b3d7fb2d",
            "3c50bb0e40d9462eb39e616d874b8e77",
            "9455c5fded36441d83e869d57a3ca5f0",
            "517679e674f849c2ade07fb0b9fcddbc",
            "293708b77ef243a99f298130bd0abb1b",
            "2f826d3221a24055aae16d40ba29ea7c",
            "42af3fef4d854b6fb73a46b0988e5e98",
            "b8109affa38e40ba811b7685469c253b",
            "5f33333b264a4b1fb3a687c48c56ee15",
            "a1771b39600c4133bfcb87f710518cb2",
            "f95cd3ffb20041b9b7b7a185664bccc6",
            "0f52839df68f4749afe13f3e96112f3d",
            "969ec9b6561e4cecbfca68352e518d94",
            "d39fbee07e0e4780bca851d19dd3f583",
            "ac3cbe5c6f024d0dbb4b2246080c470e",
            "326af36f056844479407e93b99cb03d8",
            "201de2d660964e5fb2f830a0af06332a",
            "d0f1dd5b50464d7bb8364596639434cf",
            "93f2ab5bad08425fbf4851b205fc39d1",
            "25fd3bef7e0644f7a5215a286216dbf1",
            "9e39f0cea3514a71a63af3fe1563a3a5",
            "2baef7bf8048425fb2d6168753227c9a",
            "c0c6ebd4e52d4788992f42d50489b2e1",
            "0dce6ee05f604caaa4f42464326f649e",
            "930c420cd39c4aebab9b42a29c19e156",
            "b012bc98bce94b27b42192d5e1dc9ec8",
            "981875442fa94419858beaf4d7f6d610",
            "a35aadabb85145acb84c4793ebb2d5f1",
            "41bca52d34604768aa7ec21d8db1c6fb",
            "3b1366b3c76d414cae9fe7efe19e88b8",
            "f9bc297e3d8f420a8a5b9edfd22d2c66",
            "9d4a75e29a754455a85fd71d1280a88f",
            "fdd016cea07f47258658f28c19ff57c3",
            "d893c556f34340d1976c28c2e0b21168",
            "e144e0e57d854b578fd004598f42635a",
            "992b03ff13b94a80854428c905bddfa8",
            "606e7f18b17f4e6e9a5d7d4b354d472c",
            "5f145766efca4b3880dade2478e2d9fe",
            "6270ee2f7e154ffaa4a8e31ec98d2be0",
            "9eb44d34943b42a3b4256df96d33fe55",
            "3435651246ae48a1b3b6ee351623d0c8",
            "3fcda6cd38f24db8991a0d7e6f073659",
            "bad7f9d62f2744989e388c927799b8c9",
            "36677e56a2304198b8ff3ecc2c7cfde0",
            "586a69c661b7494c87256042e7b982d7",
            "eefcca028f1c4d918e763e3fec097e51",
            "edb1b804658b497a934852e95e5fc17f",
            "18ec392e0c9c4fe088676f8a34a9a7e8",
            "2d9232ff1a9d47eeb2dc2835f00bcb25",
            "650aeac81fa049c981e7ad186d99c492",
            "a04792224a6f4abd9a64a86f973a77cf",
            "eb45e0b3452e41a38dcf5c668e33f478",
            "2d59c82232274bce90a195939aae46ac",
            "6e7802e748f941d6bde3671541d25f06",
            "ada546d9c4814b888d0ba3c743e6e185",
            "fb9b5843e692435fbfbab4dc57dfdb02",
            "534e813a9e58428f8ad80797664df9b9",
            "8a9c48172ffe42cc819dbcf3f519c42e",
            "0d5890eaae7d48b387c93dc635e3dfab",
            "ff9de64e725a43bc9ff8b9fd9299f00c",
            "90b0cb2063364f07a3c261710921d3a5",
            "78b6770fc15f4a059e92d9f16ac1074f",
            "434240be3266461e812a8b2faef6b174",
            "0066c3189f69469cb3e07924a8cbf3b6",
            "0d544f623f0542fd8922496fee8d3c32",
            "4811d0bfb2694b8b81f4d272f32709c1",
            "3bf7dccba96146a29c7b0043a56006d6",
            "fb3d5f9daa59499ba818a995fa3252b4",
            "d81f7633c5cd453c85519720dda7778a",
            "822d66d272bd4ef69ddaf62314d5fd7c",
            "6b83dfc8ff004548b9bb2b6b7cf6e858",
            "dae6c6ef6e0245a6b5480721f46dcab1",
            "744ed4bbb1e24cdaa9609823907ccb73",
            "bd3021f1efc54baeaf24ce7e48726922",
            "115992d4ebb84025b342bc3f2a6ad1f3",
            "c51c0c50ff6743e68a0b2dd2439be4ae",
            "c77ddd8dea8b48d596388fc7077d0b87",
            "06318635f0394915ae688650515e3ac5",
            "993b2f7eb7f74310bc63a3ad4984ea23",
            "264d123f37124edd92cb940efee6cea0",
            "0cc939a49b544ee58d750ee518a0d587"
          ]
        },
        "id": "ruYpDU_lvKOF",
        "outputId": "c4e86357-feb3-4791-fb72-f6480e933bb3"
      },
      "outputs": [
        {
          "output_type": "stream",
          "name": "stderr",
          "text": [
            "/usr/local/lib/python3.11/dist-packages/huggingface_hub/utils/_auth.py:94: UserWarning: \n",
            "The secret `HF_TOKEN` does not exist in your Colab secrets.\n",
            "To authenticate with the Hugging Face Hub, create a token in your settings tab (https://huggingface.co/settings/tokens), set it as secret in your Google Colab and restart your session.\n",
            "You will be able to reuse this secret in all of your notebooks.\n",
            "Please note that authentication is recommended but still optional to access public models or datasets.\n",
            "  warnings.warn(\n"
          ]
        },
        {
          "output_type": "display_data",
          "data": {
            "text/plain": [
              "modules.json:   0%|          | 0.00/349 [00:00<?, ?B/s]"
            ],
            "application/vnd.jupyter.widget-view+json": {
              "version_major": 2,
              "version_minor": 0,
              "model_id": "7c7cda1a6a6e4aa895bf4dfd1b2654ba"
            }
          },
          "metadata": {}
        },
        {
          "output_type": "display_data",
          "data": {
            "text/plain": [
              "config_sentence_transformers.json:   0%|          | 0.00/116 [00:00<?, ?B/s]"
            ],
            "application/vnd.jupyter.widget-view+json": {
              "version_major": 2,
              "version_minor": 0,
              "model_id": "d69aea9d21b14e1787cbbbfa3ad7ef5a"
            }
          },
          "metadata": {}
        },
        {
          "output_type": "display_data",
          "data": {
            "text/plain": [
              "README.md: 0.00B [00:00, ?B/s]"
            ],
            "application/vnd.jupyter.widget-view+json": {
              "version_major": 2,
              "version_minor": 0,
              "model_id": "a8901c5af4664ef587908f1cdfa2016a"
            }
          },
          "metadata": {}
        },
        {
          "output_type": "display_data",
          "data": {
            "text/plain": [
              "sentence_bert_config.json:   0%|          | 0.00/53.0 [00:00<?, ?B/s]"
            ],
            "application/vnd.jupyter.widget-view+json": {
              "version_major": 2,
              "version_minor": 0,
              "model_id": "66afbc1671d54423b14211f077478618"
            }
          },
          "metadata": {}
        },
        {
          "output_type": "display_data",
          "data": {
            "text/plain": [
              "config.json:   0%|          | 0.00/571 [00:00<?, ?B/s]"
            ],
            "application/vnd.jupyter.widget-view+json": {
              "version_major": 2,
              "version_minor": 0,
              "model_id": "293708b77ef243a99f298130bd0abb1b"
            }
          },
          "metadata": {}
        },
        {
          "output_type": "display_data",
          "data": {
            "text/plain": [
              "model.safetensors:   0%|          | 0.00/438M [00:00<?, ?B/s]"
            ],
            "application/vnd.jupyter.widget-view+json": {
              "version_major": 2,
              "version_minor": 0,
              "model_id": "326af36f056844479407e93b99cb03d8"
            }
          },
          "metadata": {}
        },
        {
          "output_type": "display_data",
          "data": {
            "text/plain": [
              "tokenizer_config.json:   0%|          | 0.00/363 [00:00<?, ?B/s]"
            ],
            "application/vnd.jupyter.widget-view+json": {
              "version_major": 2,
              "version_minor": 0,
              "model_id": "981875442fa94419858beaf4d7f6d610"
            }
          },
          "metadata": {}
        },
        {
          "output_type": "display_data",
          "data": {
            "text/plain": [
              "vocab.txt: 0.00B [00:00, ?B/s]"
            ],
            "application/vnd.jupyter.widget-view+json": {
              "version_major": 2,
              "version_minor": 0,
              "model_id": "5f145766efca4b3880dade2478e2d9fe"
            }
          },
          "metadata": {}
        },
        {
          "output_type": "display_data",
          "data": {
            "text/plain": [
              "tokenizer.json: 0.00B [00:00, ?B/s]"
            ],
            "application/vnd.jupyter.widget-view+json": {
              "version_major": 2,
              "version_minor": 0,
              "model_id": "2d9232ff1a9d47eeb2dc2835f00bcb25"
            }
          },
          "metadata": {}
        },
        {
          "output_type": "display_data",
          "data": {
            "text/plain": [
              "special_tokens_map.json:   0%|          | 0.00/239 [00:00<?, ?B/s]"
            ],
            "application/vnd.jupyter.widget-view+json": {
              "version_major": 2,
              "version_minor": 0,
              "model_id": "ff9de64e725a43bc9ff8b9fd9299f00c"
            }
          },
          "metadata": {}
        },
        {
          "output_type": "display_data",
          "data": {
            "text/plain": [
              "config.json:   0%|          | 0.00/190 [00:00<?, ?B/s]"
            ],
            "application/vnd.jupyter.widget-view+json": {
              "version_major": 2,
              "version_minor": 0,
              "model_id": "6b83dfc8ff004548b9bb2b6b7cf6e858"
            }
          },
          "metadata": {}
        }
      ],
      "source": [
        "# from redisvl.utils.vectorize.text.openai import OpenAITextVectorizer\n",
        "\n",
        "# openai_embed = OpenAITextVectorizer(model=\"text-embedding-ada-002\")\n",
        "\n",
        "from redisvl.utils.vectorize.text.huggingface import HFTextVectorizer\n",
        "\n",
        "openai_embed = HFTextVectorizer(model=\"sentence-transformers/all-mpnet-base-v2\")"
      ]
    },
    {
      "cell_type": "markdown",
      "metadata": {
        "id": "HXLu70owvKOF"
      },
      "source": [
        "Next we will set up a simple logger so our functions will record log activity of whats happening."
      ]
    },
    {
      "cell_type": "code",
      "execution_count": 12,
      "metadata": {
        "id": "-XIpiadMvKOF"
      },
      "outputs": [],
      "source": [
        "import logging\n",
        "\n",
        "# Set up a logger\n",
        "logger = logging.getLogger(__name__)"
      ]
    },
    {
      "cell_type": "markdown",
      "metadata": {
        "id": "eMBbx2MkvKOF"
      },
      "source": [
        "### 1. Check for similar memories\n",
        "First, we'll write a utility function to check if a memory similar to a given\n",
        "memory already exists in the index.\n",
        "\n",
        "This function checks for duplicate memories in Redis by:\n",
        "1. Converting the input content into a vector embedding\n",
        "2. Creating filters for user_id and memory_type\n",
        "3. Using vector similarity search with a vector range query to find any existing + similar memories\n",
        "4. Returning True if a similar memory exists, False otherwise\n",
        "\n",
        "This helps prevent storing redundant information in the agent's memory."
      ]
    },
    {
      "cell_type": "code",
      "execution_count": 13,
      "metadata": {
        "id": "GN9zPAWO1nfg"
      },
      "outputs": [],
      "source": [
        "from redisvl.query import VectorRangeQuery\n",
        "from redisvl.query.filter import Tag\n",
        "\n",
        "\n",
        "# If we have any memories that aren't associated with a user, we'll use this ID.\n",
        "SYSTEM_USER_ID = \"system\"\n",
        "\n",
        "\n",
        "def similar_memory_exists(\n",
        "    content: str,\n",
        "    memory_type: MemoryType,\n",
        "    user_id: str = SYSTEM_USER_ID,\n",
        "    thread_id: Optional[str] = None,\n",
        "    distance_threshold: float = 0.1,\n",
        ") -> bool:\n",
        "    \"\"\"Check if a similar long-term memory already exists in Redis.\"\"\"\n",
        "    content_embedding = openai_embed.embed(content)\n",
        "\n",
        "    filters = (Tag(\"user_id\") == user_id) & (Tag(\"memory_type\") == memory_type)\n",
        "\n",
        "    if thread_id:\n",
        "        filters = filters & (Tag(\"thread_id\") == thread_id)\n",
        "\n",
        "    # Search for similar memories\n",
        "    vector_query = VectorRangeQuery(\n",
        "        vector=content_embedding,\n",
        "        num_results=1,\n",
        "        vector_field_name=\"embedding\",\n",
        "        filter_expression=filters,\n",
        "        distance_threshold=distance_threshold,\n",
        "        return_fields=[\"id\"],\n",
        "    )\n",
        "    results = long_term_memory_index.query(vector_query)\n",
        "    logger.debug(f\"Similar memory search results: {results}\")\n",
        "\n",
        "    if results:\n",
        "        logger.debug(\n",
        "            f\"{len(results)} similar {'memory' if results.count == 1 else 'memories'} found. First: \"\n",
        "            f\"{results[0]['id']}. Skipping storage.\"\n",
        "        )\n",
        "        return True\n",
        "\n",
        "    return False"
      ]
    },
    {
      "cell_type": "markdown",
      "metadata": {
        "id": "_zqJwlXx1nfg"
      },
      "source": [
        "### 2. Store long-term memories"
      ]
    },
    {
      "cell_type": "markdown",
      "metadata": {
        "id": "KIu2CrUq1nfg"
      },
      "source": [
        "Below is a function that handles storing long-term memories in Redis with built-in deduplication.\n",
        "\n",
        "It's a key part of our memory system that:\n",
        "1. Prevents duplicate memories by checking for similar content\n",
        "2. Creates vector embeddings for semantic search capabilities\n",
        "3. Stores the memory with relevant metadata for future retrieval\n",
        "\n",
        "We'll use the `similar_memory_exists()` function when we store memories in order to perform in-line memory deduplication."
      ]
    },
    {
      "cell_type": "code",
      "execution_count": 14,
      "metadata": {
        "id": "oKA39Qp21nfh"
      },
      "outputs": [],
      "source": [
        "\n",
        "\n",
        "from datetime import datetime\n",
        "from typing import List, Optional, Union\n",
        "\n",
        "import ulid\n",
        "\n",
        "\n",
        "def store_memory(\n",
        "    content: str,\n",
        "    memory_type: MemoryType,\n",
        "    user_id: str = SYSTEM_USER_ID,\n",
        "    thread_id: Optional[str] = None,\n",
        "    metadata: Optional[str] = None,\n",
        "):\n",
        "    \"\"\"Store a long-term memory in Redis with deduplication.\n",
        "\n",
        "        This function:\n",
        "        1. Checks for similar existing memories to avoid duplicates\n",
        "        2. Generates vector embeddings for semantic search\n",
        "        3. Stores the memory with metadata for retrieval\n",
        "        \"\"\"\n",
        "    if metadata is None:\n",
        "        metadata = \"{}\"\n",
        "\n",
        "    logger.info(f\"Preparing to store memory: {content}\")\n",
        "\n",
        "    if similar_memory_exists(content, memory_type, user_id, thread_id):\n",
        "        logger.info(\"Similar memory found, skipping storage\")\n",
        "        return\n",
        "\n",
        "    embedding = openai_embed.embed(content)\n",
        "\n",
        "    memory_data = {\n",
        "        \"user_id\": user_id or SYSTEM_USER_ID,\n",
        "        \"content\": content,\n",
        "        \"memory_type\": memory_type.value,\n",
        "        \"metadata\": metadata,\n",
        "        \"created_at\": datetime.now().isoformat(),\n",
        "        \"embedding\": embedding,\n",
        "        \"memory_id\": str(ulid.ULID()),\n",
        "        \"thread_id\": thread_id,\n",
        "    }\n",
        "\n",
        "    try:\n",
        "        long_term_memory_index.load([memory_data])\n",
        "    except Exception as e:\n",
        "        logger.error(f\"Error storing memory: {e}\")\n",
        "        return\n",
        "\n",
        "    logger.info(f\"Stored {memory_type} memory: {content}\")"
      ]
    },
    {
      "cell_type": "markdown",
      "metadata": {
        "id": "0cpk-m7Z1nfh"
      },
      "source": [
        "### 3. Retrieve relevant long-term memories\n",
        "And now that we're storing memories, we can retrieve them using vector similarity search with metadata filters using RedisVL.\n",
        "\n",
        "This function:\n",
        "1. Takes a query string, optional filters (memory type, user ID, thread ID), and a distance threshold (semantic)\n",
        "2. Creates a vector range query using the query's embedding\n",
        "3. Builds a filter object based on passed options\n",
        "4. Filters to narrow down the search results\n",
        "4. Executes the search and returns parsed memory objects"
      ]
    },
    {
      "cell_type": "code",
      "execution_count": 15,
      "metadata": {
        "id": "xuEAMNjq1nfh"
      },
      "outputs": [],
      "source": [
        "def retrieve_memories(\n",
        "    query: str,\n",
        "    memory_type: Union[Optional[MemoryType], List[MemoryType]] = None,\n",
        "    user_id: str = SYSTEM_USER_ID,\n",
        "    thread_id: Optional[str] = None,\n",
        "    distance_threshold: float = 0.1,\n",
        "    limit: int = 5,\n",
        ") -> List[StoredMemory]:\n",
        "    \"\"\"Retrieve relevant memories from Redis using vector similarity search.\n",
        "\n",
        "    \"\"\"\n",
        "    # Create vector query using query embedding\n",
        "    logger.debug(f\"Retrieving memories for query: {query}\")\n",
        "    vector_query = VectorRangeQuery(\n",
        "        vector=openai_embed.embed(query),\n",
        "        return_fields=[\n",
        "            \"content\",\n",
        "            \"memory_type\",\n",
        "            \"metadata\",\n",
        "            \"created_at\",\n",
        "            \"memory_id\",\n",
        "            \"thread_id\",\n",
        "            \"user_id\",\n",
        "        ],\n",
        "        num_results=limit,\n",
        "        vector_field_name=\"embedding\",\n",
        "        dialect=2,\n",
        "        distance_threshold=distance_threshold,\n",
        "    )\n",
        "\n",
        "    # Build filter conditions\n",
        "    base_filters = [f\"@user_id:{{{user_id or SYSTEM_USER_ID}}}\"]\n",
        "\n",
        "    if memory_type:\n",
        "        if isinstance(memory_type, list):\n",
        "            base_filters.append(f\"@memory_type:{{{'|'.join(memory_type)}}}\")\n",
        "        else:\n",
        "            base_filters.append(f\"@memory_type:{{{memory_type.value}}}\")\n",
        "\n",
        "    if thread_id:\n",
        "        base_filters.append(f\"@thread_id:{{{thread_id}}}\")\n",
        "\n",
        "    vector_query.set_filter(\" \".join(base_filters))\n",
        "\n",
        "    # Execute vector similarity search\n",
        "    results = long_term_memory_index.query(vector_query)\n",
        "\n",
        "    # Parse results into StoredMemory objects\n",
        "    memories = []\n",
        "    for doc in results:\n",
        "        try:\n",
        "            memory = StoredMemory(\n",
        "                id=doc[\"id\"],\n",
        "                memory_id=doc[\"memory_id\"],\n",
        "                user_id=doc[\"user_id\"],\n",
        "                thread_id=doc.get(\"thread_id\", None),\n",
        "                memory_type=MemoryType(doc[\"memory_type\"]),\n",
        "                content=doc[\"content\"],\n",
        "                created_at=doc[\"created_at\"],\n",
        "                metadata=doc[\"metadata\"],\n",
        "            )\n",
        "            memories.append(memory)\n",
        "        except Exception as e:\n",
        "            logger.error(f\"Error parsing memory: {e}\")\n",
        "            continue\n",
        "    return memories"
      ]
    },
    {
      "cell_type": "markdown",
      "metadata": {
        "id": "YinPoLcc1nfh"
      },
      "source": [
        "## 🛠️ Managing Long-Term Memory with Tools\n",
        "\n",
        "Memory operations are exposed as **tools** that the LLM can call to store or retrieve memories.\n",
        "\n",
        "**Tool-based memory management:**\n",
        "- LLM decides when to store/retrieve memories\n",
        "- Fewer Redis calls but may miss some context\n",
        "- Adds some latency due to LLM decision-making\n",
        "\n",
        "Alternatively, you can always manually manage memories in your workflows.\n",
        "\n",
        "**Manual memory management:**\n",
        "- More Redis calls but faster response times\n",
        "- Extracts more memories, providing richer context\n",
        "- Higher token usage due to more context\n",
        "\n",
        "> NOTE: **This tutorial uses tool-based memory** for optimal balance of control and efficiency.\n",
        "\n",
        "<img src=\"assets/memory-agents.png\" width=\"600\" alt=\"Memory Agents Diagram\">"
      ]
    },
    {
      "cell_type": "markdown",
      "metadata": {
        "id": "BmwB-sUJ1nfh"
      },
      "source": [
        "### Define Agent Tools\n",
        "\n",
        "Now that we have our storage functions defined, we can create the tools that will enable our agent to interact with the memory system. These tools will be used by the LLM to manage memories during conversations.\n",
        "\n",
        "Let's start with the Store Memory Tool:\n",
        "\n",
        "#### Store Memory Tool\n",
        "\n",
        "This tool enables the agent to save important information as long-term memories in Redis. It's particularly useful for capturing:\n",
        "- User preferences and habits\n",
        "- Personal experiences and anecdotes\n",
        "- Important facts and knowledge shared during conversations\n",
        "\n",
        "The tool accepts the following parameters:\n",
        "- `content`: The actual memory content to store (e.g., \"User prefers window seats on flights\")\n",
        "- `memory_type`: The type of memory (e.g., `MemoryType.EPISODIC` for personal experiences, `MemoryType.SEMANTIC` for general knowledge)\n",
        "- `metadata`: Optional dictionary for additional context (e.g., timestamps, source, confidence)\n",
        "- `config`: Optional configuration for user/thread context (automatically handled by the agent)\n",
        "\n",
        "When called, the tool:\n",
        "1. Validates the input parameters\n",
        "2. Stores the memory in Redis with proper indexing\n",
        "3. Returns a success message with the stored content\n",
        "4. Handles errors gracefully with informative messages\n",
        "\n",
        "This tool is designed to be used by the LLM to build a persistent memory of the user's preferences and experiences, enabling more personalized and context-aware interactions over time."
      ]
    },
    {
      "cell_type": "code",
      "execution_count": 16,
      "metadata": {
        "id": "T-S0eN4B1nfh"
      },
      "outputs": [],
      "source": [
        "from typing import Dict, Optional\n",
        "\n",
        "from langchain_core.tools import tool\n",
        "from langchain_core.runnables.config import RunnableConfig\n",
        "\n",
        "\n",
        "@tool\n",
        "def store_memory_tool(\n",
        "    content: str,\n",
        "    memory_type: MemoryType,\n",
        "    metadata: Optional[Dict[str, str]] = None,\n",
        "    config: Optional[RunnableConfig] = None,\n",
        ") -> str:\n",
        "    \"\"\"\n",
        "    Store a long-term memory in the system.\n",
        "\n",
        "    Use this tool to save important information about user preferences,\n",
        "    experiences, or general knowledge that might be useful in future\n",
        "    interactions.\n",
        "    \"\"\"\n",
        "    config = config or RunnableConfig()\n",
        "    user_id = config.get(\"user_id\", SYSTEM_USER_ID)\n",
        "    thread_id = config.get(\"thread_id\")\n",
        "\n",
        "    try:\n",
        "        # Store in long-term memory\n",
        "        store_memory(\n",
        "            content=content,\n",
        "            memory_type=memory_type,\n",
        "            user_id=user_id,\n",
        "            thread_id=thread_id,\n",
        "            metadata=str(metadata) if metadata else None,\n",
        "        )\n",
        "\n",
        "        return f\"Successfully stored {memory_type} memory: {content}\"\n",
        "    except Exception as e:\n",
        "        return f\"Error storing memory: {str(e)}\"\n"
      ]
    },
    {
      "cell_type": "markdown",
      "metadata": {
        "id": "9Am1Z_hItKpc"
      },
      "source": [
        "Test the tool:"
      ]
    },
    {
      "cell_type": "code",
      "execution_count": 27,
      "metadata": {
        "colab": {
          "base_uri": "https://localhost:8080/",
          "height": 35
        },
        "id": "H1-HPwag-im_",
        "outputId": "514ae222-1615-4de6-f5be-1d582e380ec2"
      },
      "outputs": [
        {
          "output_type": "execute_result",
          "data": {
            "text/plain": [
              "'Successfully stored MemoryType.EPISODIC memory: I like flying on Delta Airline when possible'"
            ],
            "application/vnd.google.colaboratory.intrinsic+json": {
              "type": "string"
            }
          },
          "metadata": {},
          "execution_count": 27
        }
      ],
      "source": [
        "store_memory_tool.invoke({\"content\": \"I like flying on Delta Airline when possible\", \"memory_type\": \"episodic\"})"
      ]
    },
    {
      "cell_type": "code",
      "source": [
        "keys = redis_client.keys(\"memory:*\")\n",
        "for key in keys:\n",
        "    value = redis_client.json().get(key)\n",
        "    print(f\"{key.decode()}: {value}\")\n"
      ],
      "metadata": {
        "colab": {
          "base_uri": "https://localhost:8080/"
        },
        "id": "tqNsbSXt3V_z",
        "outputId": "2d7ee6c8-85a5-432b-afcc-7d21d3d94e30"
      },
      "execution_count": 28,
      "outputs": [
        {
          "output_type": "stream",
          "name": "stdout",
          "text": [
            "memory:01JYNDJ80QWMQ6597RVKE4W357: {'content': 'I like flying on Delta when possible', 'memory_type': 'episodic', 'metadata': '{}', 'created_at': '2025-06-26T06:07:25.719369', 'user_id': 'system', 'memory_id': '01JYNDJ80Q88FHFSE5SQ1GEH6G', 'embedding': [-0.06261200457811356, 0.07398364692926407, -0.033175595104694366, -0.03229431062936783, -0.054717883467674255, -0.030949270352721214, -0.06159188970923424, -0.0063019003719091415, -0.025460269302129745, -0.01043408177793026, 0.008506258949637413, -0.004963187500834465, 0.025602886453270912, 0.07659021019935608, -0.007416569162160158, 0.02358301728963852, 9.186418901663274e-05, -0.049684129655361176, 0.01860126480460167, -0.012834609486162664, -0.060183409601449966, -0.014848439022898674, -0.051023371517658234, -0.008094962686300278, -0.007323015946894884, 0.0008922868873924017, 0.0009817210957407951, 0.06185922399163246, 0.03916196897625923, 0.021136527881026268, 0.05859611928462982, 0.019424527883529663, 0.06232580915093422, 0.012111783027648926, 1.6115540120154035e-06, -4.6072735131019726e-05, -0.015330152586102486, 0.01125425472855568, -0.009559753350913525, 0.033032145351171494, 0.03786370158195496, 0.02567896619439125, -0.0057132663205266, -0.004023050423711538, -0.014835067093372343, -0.00401295768097043, 0.009479629807174206, 0.005888844840228558, -0.009104630909860134, 0.020480792969465256, -0.01517121121287346, -0.009762180037796496, -0.04592933505773544, 0.04164164513349533, 0.005440679844468832, 0.005378223955631256, 0.030782999470829964, 0.04941054433584213, -0.003428724827244878, -0.03933541476726532, -0.02386249415576458, -0.04118344187736511, 0.01856069825589657, -0.03625616058707237, 0.020768936723470688, 0.03560547158122063, 0.02856411598622799, 0.054834697395563126, -0.01403253898024559, -0.00620296923443675, 0.03835164383053779, 0.0261987317353487, -0.017215708270668983, 0.039633408188819885, -0.024440521374344822, -0.046464938670396805, 0.009588836692273617, -0.08450382947921753, 0.04711729288101196, 0.06973612308502197, 0.021817151457071304, 0.02069258503615856, -0.011506499722599983, 0.016329891979694366, -0.07638958841562271, -0.03173882141709328, -0.01252054888755083, -0.03274725750088692, 0.010057597421109676, 0.020723462104797363, -0.032441623508930206, -0.029855402186512947, -0.03218931332230568, -0.034410182386636734, -0.024020051583647728, -0.02011614851653576, 0.028524063527584076, -0.03667109459638595, -0.0475902296602726, 0.018913285806775093, 0.014745835214853288, 0.025738323107361794, -0.05861420929431915, -0.009939415380358696, -0.068027064204216, 0.01087216567248106, 0.04873250797390938, 0.021081073209643364, 0.04371461644768715, 0.026232248172163963, 0.04070768877863884, -0.0028889363165944815, 0.008877442218363285, 0.08189644664525986, 0.002735402900725603, -0.008010633289813995, -0.07380076497793198, -0.014359161257743835, -0.06420507282018661, 0.022836778312921524, 0.10471289604902267, -0.02570866420865059, 0.03851906582713127, 0.03297021985054016, 0.0008997630793601274, -0.024077346548438072, 0.02455284260213375, 0.02828170359134674, -0.010637626051902773, 0.03606155142188072, -0.017834536731243134, 0.017437156289815903, 0.02845269814133644, -0.02967326156795025, -0.06420940160751343, 0.06971760094165802, -0.05889195576310158, -0.07026850432157516, -0.031076259911060333, 0.003997999243438244, -0.0064442758448421955, 0.016119685024023056, -0.001020723721012473, 0.011577130295336246, -0.04772839695215225, -0.03064483404159546, -0.03995085507631302, 0.012175464071333408, -0.01863129436969757, -0.005890446715056896, 0.04487917199730873, 0.01928400620818138, 0.04265116527676582, -0.027043530717492104, 0.010545016266405582, -0.04977185279130936, -0.043184250593185425, 0.012077474035322666, 0.022848373278975487, 0.016217488795518875, 0.0489070862531662, 0.008250406943261623, -0.03344845399260521, -0.00786300003528595, -0.02506686933338642, -0.03588840737938881, -0.028953250497579575, 0.008390465751290321, 0.011938894167542458, -0.01999865844845772, 0.02760947309434414, -0.05548153445124626, -0.03332039713859558, -0.05154157429933548, 0.07015512138605118, -0.045502208173274994, 0.04398177191615105, -0.0642085000872612, 0.002284649759531021, 0.017122782766819, -0.0610969141125679, -0.07545538246631622, -0.018610313534736633, -0.01716688461601734, 0.02158970758318901, 0.013460667803883553, 0.05190442502498627, 0.0754002034664154, 0.06110881268978119, -0.01549762673676014, -0.031919121742248535, -0.004499759525060654, -0.032498665153980255, 0.05863334238529205, -0.01699325628578663, -0.04123150557279587, 0.014174245297908785, -0.010102631524205208, 0.04146919399499893, 0.031069712713360783, -0.08187244832515717, -0.015008061192929745, -0.06256880611181259, 0.06494390219449997, -0.014310202561318874, 0.027996962890028954, -0.032865677028894424, -0.02156202681362629, 0.05234985426068306, -0.04151886701583862, 0.0975681096315384, 0.0249125137925148, 0.00948948599398136, -0.006996000651270151, 0.02550218626856804, 0.060051508247852325, 0.048954181373119354, 0.006140819285064936, 0.04255765676498413, 0.06668519228696823, -0.05677833780646324, -0.07258269935846329, -0.04852134734392166, 0.03118763118982315, 0.07733523845672607, 0.03981141000986099, 0.10303819924592972, 0.012787744402885435, 0.05703689903020859, -0.008562848903238773, 0.035353515297174454, -0.019351469352841377, -0.005213471595197916, -0.03074028342962265, 0.01865540631115437, 0.0046896240673959255, -0.00033985404297709465, 0.013608310371637344, -0.021518008783459663, 0.05619126558303833, 0.00787847489118576, 0.10019350051879884, 0.02677311934530735, -0.007428039330989122, -0.00823297444730997, 0.007128577213734388, 0.03821311891078949, 0.041968002915382385, -0.01351569127291441, 0.02248562313616276, -0.0006900912849232554, -0.038391657173633575, 0.045025572180747986, -0.041550248861312866, -0.01694674789905548, -0.05532587319612503, 0.06154332309961319, -0.016810519620776176, 0.012280545197427273, 0.029939085245132446, 0.05883318558335304, -0.04135933890938759, 0.020290862768888474, 0.008759998716413975, 0.010797332040965555, -0.013281386345624924, 0.009711048565804958, 0.03451330214738846, -0.013461671769618988, -0.043165624141693115, 0.0019099123310297728, -0.04302570968866348, -0.04641978070139885, 0.000234110135352239, 0.023002998903393745, -0.01251369807869196, 0.009512241929769516, -0.022706089541316032, -0.013275654055178164, -0.03795948624610901, -0.03752206638455391, -0.07500302046537399, -0.02831409871578217, -0.017676301300525665, 0.018601058050990105, -0.006758437491953373, -0.023557523265480995, -0.02260999195277691, -0.015192369930446148, -0.011464475654065607, -0.043943338096141815, -0.02283589169383049, -0.009313331916928291, -0.014625932089984415, 0.01439636666327715, -0.0436658039689064, -0.01843651756644249, -0.017826078459620476, -0.00683855265378952, -0.04637410119175911, -0.022680707275867466, 0.009975762106478214, -0.04598044231534004, 0.018261883407831192, -0.03594920411705971, -0.04122397303581238, 0.055537763983011246, 0.007709654048085213, -0.03170223534107208, 0.04576539248228073, -0.0045878151431679726, 0.0012409930350258946, -0.0287748072296381, -0.018327660858631138, 0.030610285699367523, 0.043500591069459915, 0.0628967136144638, 0.03209158033132553, 0.006497650872915983, 0.04897764325141907, 0.0296719241887331, -0.05084151402115822, 0.053207460790872574, 0.003070617094635963, 0.04401492699980736, -0.003654343541711569, 0.011460616253316402, -0.015078441239893436, -0.021607989445328712, -0.0734206959605217, -0.03557579219341278, 0.005874386988580227, 0.015429790131747724, 0.017038581892848015, -0.016081271693110466, -0.026114679872989655, 0.007802706677466631, 0.08096690475940704, 0.013888100162148476, 0.05541398748755455, 0.008634773083031178, -0.0470224991440773, -0.027944717556238174, 0.045199017971754074, -0.10024239867925644, -0.018402768298983577, -0.00625568674877286, -0.04490593820810318, 0.01301196590065956, 0.019000690430402756, 0.05438147857785225, -0.026056891307234764, -0.01491677574813366, -0.011498975567519665, 0.021083295345306396, -0.019173206761479374, -0.046935297548770905, 0.04469772055745125, 0.0074448115192353725, 0.06994129717350006, -0.07555901259183884, -0.021055269986391068, 0.027559731155633926, 0.000243969596340321, 0.011949253268539906, 0.01816819049417973, 0.015492311678826807, -0.026033101603388783, -0.004536038264632225, -0.0053834677673876286, -0.05093202367424965, 0.013470451347529888, 0.029630089178681377, -0.03535233810544014, 0.004793749190866947, -0.08650681376457214, 0.05762723088264465, -0.03846150264143944, 0.08615346997976303, -0.00920445006340742, 0.008277615532279015, -0.052913401275873184, -0.06765894591808319, -0.04137172922492027, -0.01351541094481945, 0.0091029554605484, -0.01725832372903824, 0.013120134361088276, 0.033349547535181046, -0.026120124384760857, -0.03380923718214035, -0.033240482211112976, -0.025415688753128052, -0.011426513083279133, 0.05611839517951012, -0.0626915991306305, -0.0076095652766525745, 0.029591020196676254, -0.01583670824766159, 0.005431309808045626, 0.017253372818231583, 0.0787733718752861, -0.07486177980899811, -0.01704452931880951, -0.026233350858092308, -0.059157002717256546, -0.02637035958468914, 0.01870274916291237, 0.0086003877222538, -0.04611638933420181, 0.005725315771996975, 0.0020947798620909452, 0.027797948569059372, 0.007509356364607811, 0.003935576882213354, -0.043175652623176575, -0.005293708294630051, 0.012926651164889336, 0.02008018083870411, -0.07358905673027039, 0.009495952166616917, 0.00020972956554032865, 0.00874348171055317, 0.031065871939063072, -0.03261373192071915, 0.004985305946320295, 0.0047498359344899654, -0.006216451525688171, -0.028640838339924812, -0.07492362707853317, 0.025996580719947815, -0.035413436591625214, -0.0055582113564014435, 0.04418425261974335, 0.0068093170411884785, -0.028242936357855797, 0.04574989154934883, 0.05112502351403237, -0.11747866868972778, -0.010771037079393864, 0.00017862538516055793, 0.0024292634334415197, 0.02444106712937355, -0.09817969053983688, 0.04507332295179367, -0.04193577170372009, 0.006884540431201458, 0.02913917414844036, -0.04971002787351608, -0.07223526388406754, 0.018489722162485123, 0.02499222755432129, -0.04399266839027405, 0.010451896116137505, 0.0319136418402195, -0.021180614829063416, 0.05544235557317734, -0.04146149381995201, 0.013787636533379556, 0.03426629304885864, -0.010770360939204693, 0.016673002392053604, 0.013078276067972183, 0.0645492821931839, 0.07635396718978882, -8.008217992028221e-05, 0.02426370047032833, 0.015451901592314243, 0.03141038119792938, -0.04073192924261093, -0.03153687343001366, -0.013436236418783665, 0.014209435321390629, 0.014770050533115864, -0.08555618673563004, 0.023956995457410812, 0.025478901341557503, 0.03448332101106644, -0.06434693187475204, -0.0326155386865139, 0.017356181517243385, -0.032471682876348495, 0.0296490341424942, 0.015011422336101532, -0.0024750789161771536, 0.05451705679297447, 0.01820150762796402, 0.0385638065636158, 0.03617629036307335, -0.0039742146618664265, -0.045092519372701645, 0.006029568612575531, -0.01129672210663557, -0.02037731185555458, 0.05962998792529106, -0.034311484545469284, 0.06408977508544922, -0.08177443593740463, -0.018258003517985344, -0.035049475729465485, 0.02187877893447876, 0.044705163687467575, -0.010068021714687347, 0.016538482159376144, 0.044573698192834854, -0.04855013266205788, -0.00400163047015667, -0.008117717690765858, 0.03007806651294231, 0.0025832829996943474, -0.029508639127016068, -0.01653612032532692, -0.025665972381830215, -0.033022768795490265, 0.05145701393485069, -0.04065389931201935, 0.029719147831201553, 0.032198742032051086, -0.011605235747992992, -0.03898517042398453, 0.04265040904283523, 0.043230779469013214, -0.00081882334779948, 0.06477095186710358, 0.002264791401103139, 0.0266323946416378, -0.02891034074127674, -0.01917965896427631, 0.05065389722585678, 0.06445196270942688, 0.017316002398729324, -0.03152502328157425, -0.05254986509680748, -0.004346581641584635, -0.027961330488324165, 0.04115273058414459, 0.03903895616531372, 0.02277282625436783, 0.01423108670860529, 0.01774248667061329, -0.021127665415406227, -0.0008984392625279725, 0.04113554581999779, 0.02135450951755047, -0.007431226782500744, -0.04450000822544098, 0.0247702207416296, 0.014781679026782513, 0.049062520265579224, -0.007461521774530411, 0.015476720407605171, -0.08154182136058807, -0.03486001491546631, -0.017223145812749863, -0.046996284276247025, -5.50540134345329e-33, 0.018693698570132256, -0.0007871686830185354, -0.004139420576393604, -0.0234836433082819, -0.03222016617655754, -0.03266357257962227, 0.06739437580108643, 0.0027408935129642487, -0.005910536274313927, 0.0026588747277855873, 0.013726863078773022, -0.013734403066337109, 0.028044549748301503, -0.014439855702221394, 0.0096927797421813, -0.041060250252485275, 0.004569379612803459, 0.0017831767909228802, 0.006508735474199057, -0.015904512256383896, -0.027645699679851532, 0.014735523611307144, -0.04350889474153519, 0.046111028641462326, -0.0170616302639246, 0.015844661742448807, -0.02979126200079918, 0.01937956176698208, 0.011693818494677544, 0.01396580133587122, -0.00021408897009678185, -0.012170609086751938, -0.03401557728648186, 0.06556881964206696, -0.008176933042705059, -0.03698309510946274, 0.02519361488521099, -0.0383448600769043, 0.028488067910075188, -0.01534544676542282, 0.05420999601483345, -0.024134453386068344, 0.038906753063201904, -0.01282944343984127, 0.024338893592357635, -0.011722379364073277, 0.010872600600123404, 0.013293239288032057, -0.06954430788755417, 0.03055746667087078, -0.021540194749832153, -0.02469000034034252, -0.010811654850840569, 0.04326003044843674, -0.028699161484837532, -0.010292807593941689, -0.01118165161460638, -0.0024038543924689293, 0.0520932674407959, 0.008528823964297771, 0.003040103940293193, -0.023578042164444923, -0.022427601739764217, -0.007695403415709734, 0.04377986490726471, 0.014467917382717133, -0.021931029856204987, 0.03572787716984749, 0.01671438477933407, -0.04554873704910278, 0.03880862146615982, 0.0047605219297111034, -0.026190223172307014, 0.008129117079079151, -0.05204755812883377, -0.09984604269266129, -0.030149808153510097, -0.03022758476436138, -0.02404944598674774, -0.064659483730793, -0.0021411380730569363, 0.014777611941099169, -0.035406772047281265, 0.021900473162531853, -0.016566069796681404, 0.0007890144479461014, 0.0022943089716136456, -0.04823197051882744, -0.03823169320821762, 0.06971582770347595, -0.038360726088285446, 0.05667823180556297, 0.02838110737502575, 0.03300369158387184, -0.017188770696520805, 0.00712731946259737, -0.033270563930273056, 0.019525675103068352, -0.03724755346775055, -0.046030182391405106, -0.014295347034931185, 0.09554440528154372, -0.030794594436883926, -0.06696661561727524, 0.004073749762028456, -0.03070061095058918, 0.009947473183274267, -0.017801769077777863, -0.02771984785795212, 0.02893492765724659, -0.021489791572093964, 0.0028972995933145285, 0.013002486899495125, -0.0017799953930079937, 0.06160346046090126, 0.049355436116456985, 9.47147054830566e-05, 0.03115181438624859, -0.027256907895207405, 0.010455979965627192, -0.006081291940063238, 0.05739310011267662, -0.027113400399684903, 0.06693746149539948, -0.02157188579440117, -0.014008022844791412, -0.005634928587824106, 0.04113040119409561, -0.022725651040673256, -0.06927928328514099, 0.03180397301912308, 0.006411463487893343, 2.2371997943082533e-07, -0.032186396420001984, -0.04096206650137901, 0.0020017565693706274, 0.04356301948428154, 0.002324047964066267, 0.02506297640502453, 0.014409777708351612, -0.04832657799124718, -0.006017266307026148, 0.0415608249604702, -0.011706111021339892, 0.007970373146235943, -0.005056359805166721, 0.03473830595612526, 0.039042674005031586, -0.0480680949985981, 0.06165275350213051, -0.012067103758454325, 0.02125183865427971, 0.02149810455739498, 0.07292181253433228, 0.016171736642718315, -0.03189399093389511, 0.0016158528160303831, -0.013359684497117996, -0.0006641151267103851, -0.01222010888159275, -0.04313887655735016, -0.03108959458768368, 0.014023295603692532, -0.02212372794747353, 0.01157209649682045, -0.013344607315957546, -0.03815764561295509, 0.006787543650716543, 0.008075268939137459, -0.008805072866380215, 0.021234186366200447, -0.004416370764374733, -0.009824478067457676, -0.016504067927598953, 0.01486173365265131, 0.02657068334519863, 0.022007059305906296, 0.0057418085634708405, -0.04834569990634918, 0.06337142735719681, 0.029612870886921883, 0.0227119792252779, -0.012921007350087166, -0.004526216071099043, 0.016656359657645226, -0.05377674475312233, 0.052928630262613297, 0.012019612826406956, 0.04457337409257889, 0.054123200476169586, -0.018560390919446945, -0.0011622137390077114, 0.06401477009057999, -0.014054198749363422, 0.0712839663028717, 0.02086341194808483, 0.06052343174815178, 0.07697419077157974, 0.10438022017478944, -0.03446698188781738, 1.3262574706224962e-34, -0.02797798067331314, -0.005388501565903425, -0.030282629653811455, 0.01716294139623642, 0.020727846771478653, -0.026606330648064613, 0.02121749334037304, 0.006091081537306309, 0.00012149752001278102, 0.015341254882514477, -0.033276114612817764]}\n"
          ]
        }
      ]
    },
    {
      "cell_type": "markdown",
      "metadata": {
        "id": "MkjIWht9vKOG"
      },
      "source": [
        "Now that we've seen how to store memories, let's look at how to retrieve them.\n",
        "\n",
        "#### Retrieve Memoreis Tool\n",
        "This tool allows us to search through our stored memories using semantic similarity and filtering.\n",
        "\n",
        "This tool is particularly useful when you want to:\n",
        "- Find relevant past experiences or preferences\n",
        "- Filter memories by type (episodic or semantic)\n",
        "- Get user-specific information\n",
        "- Limit the number of results to keep responses focused\n",
        "\n",
        "The tool works by:\n",
        "1. Taking a query string and searching for semantically similar memories\n",
        "2. Filtering results based on memory type\n",
        "3. Applying a similarity threshold to ensure relevance\n",
        "4. Formatting the results in a clear, readable way"
      ]
    },
    {
      "cell_type": "code",
      "execution_count": 18,
      "metadata": {
        "id": "NEqm-q1ovKOG"
      },
      "outputs": [],
      "source": [
        "@tool\n",
        "def retrieve_memories_tool(\n",
        "    query: str,\n",
        "    memory_type: List[MemoryType],\n",
        "    limit: int = 5,\n",
        "    config: Optional[RunnableConfig] = None,\n",
        ") -> str:\n",
        "    \"\"\"\n",
        "    Retrieve long-term memories relevant to the query.\n",
        "\n",
        "    Use this tool to access previously stored information about user\n",
        "    preferences, experiences, or general knowledge.\n",
        "    \"\"\"\n",
        "    config = config or RunnableConfig()\n",
        "    user_id = config.get(\"user_id\", SYSTEM_USER_ID)\n",
        "\n",
        "    try:\n",
        "        # Get long-term memories\n",
        "        stored_memories = retrieve_memories(\n",
        "            query=query,\n",
        "            memory_type=memory_type,\n",
        "            user_id=user_id,\n",
        "            limit=limit,\n",
        "            distance_threshold=0.3,\n",
        "        )\n",
        "\n",
        "        # Format the response\n",
        "        response = []\n",
        "\n",
        "        if stored_memories:\n",
        "            response.append(\"Long-term memories:\")\n",
        "            for memory in stored_memories:\n",
        "                response.append(f\"- [{memory.memory_type}] {memory.content}\")\n",
        "\n",
        "        return \"\\n\".join(response) if response else \"No relevant memories found.\"\n",
        "\n",
        "    except Exception as e:\n",
        "        return f\"Error retrieving memories: {str(e)}\""
      ]
    },
    {
      "cell_type": "markdown",
      "metadata": {
        "id": "4irYew3pvKON"
      },
      "source": [
        "Test the tool:"
      ]
    },
    {
      "cell_type": "code",
      "source": [
        "keys = redis_client.keys(\"memory:*\")\n",
        "for key in keys:\n",
        "    print(key)\n",
        "    print(redis_client.json().get(key))"
      ],
      "metadata": {
        "colab": {
          "base_uri": "https://localhost:8080/"
        },
        "id": "ngfoBC_G4Sb7",
        "outputId": "c15605d9-22f8-46a9-c6ea-fb58cfefb849"
      },
      "execution_count": 29,
      "outputs": [
        {
          "output_type": "stream",
          "name": "stdout",
          "text": [
            "b'memory:01JYNDJ80QWMQ6597RVKE4W357'\n",
            "{'content': 'I like flying on Delta when possible', 'memory_type': 'episodic', 'metadata': '{}', 'created_at': '2025-06-26T06:07:25.719369', 'user_id': 'system', 'memory_id': '01JYNDJ80Q88FHFSE5SQ1GEH6G', 'embedding': [-0.06261200457811356, 0.07398364692926407, -0.033175595104694366, -0.03229431062936783, -0.054717883467674255, -0.030949270352721214, -0.06159188970923424, -0.0063019003719091415, -0.025460269302129745, -0.01043408177793026, 0.008506258949637413, -0.004963187500834465, 0.025602886453270912, 0.07659021019935608, -0.007416569162160158, 0.02358301728963852, 9.186418901663274e-05, -0.049684129655361176, 0.01860126480460167, -0.012834609486162664, -0.060183409601449966, -0.014848439022898674, -0.051023371517658234, -0.008094962686300278, -0.007323015946894884, 0.0008922868873924017, 0.0009817210957407951, 0.06185922399163246, 0.03916196897625923, 0.021136527881026268, 0.05859611928462982, 0.019424527883529663, 0.06232580915093422, 0.012111783027648926, 1.6115540120154035e-06, -4.6072735131019726e-05, -0.015330152586102486, 0.01125425472855568, -0.009559753350913525, 0.033032145351171494, 0.03786370158195496, 0.02567896619439125, -0.0057132663205266, -0.004023050423711538, -0.014835067093372343, -0.00401295768097043, 0.009479629807174206, 0.005888844840228558, -0.009104630909860134, 0.020480792969465256, -0.01517121121287346, -0.009762180037796496, -0.04592933505773544, 0.04164164513349533, 0.005440679844468832, 0.005378223955631256, 0.030782999470829964, 0.04941054433584213, -0.003428724827244878, -0.03933541476726532, -0.02386249415576458, -0.04118344187736511, 0.01856069825589657, -0.03625616058707237, 0.020768936723470688, 0.03560547158122063, 0.02856411598622799, 0.054834697395563126, -0.01403253898024559, -0.00620296923443675, 0.03835164383053779, 0.0261987317353487, -0.017215708270668983, 0.039633408188819885, -0.024440521374344822, -0.046464938670396805, 0.009588836692273617, -0.08450382947921753, 0.04711729288101196, 0.06973612308502197, 0.021817151457071304, 0.02069258503615856, -0.011506499722599983, 0.016329891979694366, -0.07638958841562271, -0.03173882141709328, -0.01252054888755083, -0.03274725750088692, 0.010057597421109676, 0.020723462104797363, -0.032441623508930206, -0.029855402186512947, -0.03218931332230568, -0.034410182386636734, -0.024020051583647728, -0.02011614851653576, 0.028524063527584076, -0.03667109459638595, -0.0475902296602726, 0.018913285806775093, 0.014745835214853288, 0.025738323107361794, -0.05861420929431915, -0.009939415380358696, -0.068027064204216, 0.01087216567248106, 0.04873250797390938, 0.021081073209643364, 0.04371461644768715, 0.026232248172163963, 0.04070768877863884, -0.0028889363165944815, 0.008877442218363285, 0.08189644664525986, 0.002735402900725603, -0.008010633289813995, -0.07380076497793198, -0.014359161257743835, -0.06420507282018661, 0.022836778312921524, 0.10471289604902267, -0.02570866420865059, 0.03851906582713127, 0.03297021985054016, 0.0008997630793601274, -0.024077346548438072, 0.02455284260213375, 0.02828170359134674, -0.010637626051902773, 0.03606155142188072, -0.017834536731243134, 0.017437156289815903, 0.02845269814133644, -0.02967326156795025, -0.06420940160751343, 0.06971760094165802, -0.05889195576310158, -0.07026850432157516, -0.031076259911060333, 0.003997999243438244, -0.0064442758448421955, 0.016119685024023056, -0.001020723721012473, 0.011577130295336246, -0.04772839695215225, -0.03064483404159546, -0.03995085507631302, 0.012175464071333408, -0.01863129436969757, -0.005890446715056896, 0.04487917199730873, 0.01928400620818138, 0.04265116527676582, -0.027043530717492104, 0.010545016266405582, -0.04977185279130936, -0.043184250593185425, 0.012077474035322666, 0.022848373278975487, 0.016217488795518875, 0.0489070862531662, 0.008250406943261623, -0.03344845399260521, -0.00786300003528595, -0.02506686933338642, -0.03588840737938881, -0.028953250497579575, 0.008390465751290321, 0.011938894167542458, -0.01999865844845772, 0.02760947309434414, -0.05548153445124626, -0.03332039713859558, -0.05154157429933548, 0.07015512138605118, -0.045502208173274994, 0.04398177191615105, -0.0642085000872612, 0.002284649759531021, 0.017122782766819, -0.0610969141125679, -0.07545538246631622, -0.018610313534736633, -0.01716688461601734, 0.02158970758318901, 0.013460667803883553, 0.05190442502498627, 0.0754002034664154, 0.06110881268978119, -0.01549762673676014, -0.031919121742248535, -0.004499759525060654, -0.032498665153980255, 0.05863334238529205, -0.01699325628578663, -0.04123150557279587, 0.014174245297908785, -0.010102631524205208, 0.04146919399499893, 0.031069712713360783, -0.08187244832515717, -0.015008061192929745, -0.06256880611181259, 0.06494390219449997, -0.014310202561318874, 0.027996962890028954, -0.032865677028894424, -0.02156202681362629, 0.05234985426068306, -0.04151886701583862, 0.0975681096315384, 0.0249125137925148, 0.00948948599398136, -0.006996000651270151, 0.02550218626856804, 0.060051508247852325, 0.048954181373119354, 0.006140819285064936, 0.04255765676498413, 0.06668519228696823, -0.05677833780646324, -0.07258269935846329, -0.04852134734392166, 0.03118763118982315, 0.07733523845672607, 0.03981141000986099, 0.10303819924592972, 0.012787744402885435, 0.05703689903020859, -0.008562848903238773, 0.035353515297174454, -0.019351469352841377, -0.005213471595197916, -0.03074028342962265, 0.01865540631115437, 0.0046896240673959255, -0.00033985404297709465, 0.013608310371637344, -0.021518008783459663, 0.05619126558303833, 0.00787847489118576, 0.10019350051879884, 0.02677311934530735, -0.007428039330989122, -0.00823297444730997, 0.007128577213734388, 0.03821311891078949, 0.041968002915382385, -0.01351569127291441, 0.02248562313616276, -0.0006900912849232554, -0.038391657173633575, 0.045025572180747986, -0.041550248861312866, -0.01694674789905548, -0.05532587319612503, 0.06154332309961319, -0.016810519620776176, 0.012280545197427273, 0.029939085245132446, 0.05883318558335304, -0.04135933890938759, 0.020290862768888474, 0.008759998716413975, 0.010797332040965555, -0.013281386345624924, 0.009711048565804958, 0.03451330214738846, -0.013461671769618988, -0.043165624141693115, 0.0019099123310297728, -0.04302570968866348, -0.04641978070139885, 0.000234110135352239, 0.023002998903393745, -0.01251369807869196, 0.009512241929769516, -0.022706089541316032, -0.013275654055178164, -0.03795948624610901, -0.03752206638455391, -0.07500302046537399, -0.02831409871578217, -0.017676301300525665, 0.018601058050990105, -0.006758437491953373, -0.023557523265480995, -0.02260999195277691, -0.015192369930446148, -0.011464475654065607, -0.043943338096141815, -0.02283589169383049, -0.009313331916928291, -0.014625932089984415, 0.01439636666327715, -0.0436658039689064, -0.01843651756644249, -0.017826078459620476, -0.00683855265378952, -0.04637410119175911, -0.022680707275867466, 0.009975762106478214, -0.04598044231534004, 0.018261883407831192, -0.03594920411705971, -0.04122397303581238, 0.055537763983011246, 0.007709654048085213, -0.03170223534107208, 0.04576539248228073, -0.0045878151431679726, 0.0012409930350258946, -0.0287748072296381, -0.018327660858631138, 0.030610285699367523, 0.043500591069459915, 0.0628967136144638, 0.03209158033132553, 0.006497650872915983, 0.04897764325141907, 0.0296719241887331, -0.05084151402115822, 0.053207460790872574, 0.003070617094635963, 0.04401492699980736, -0.003654343541711569, 0.011460616253316402, -0.015078441239893436, -0.021607989445328712, -0.0734206959605217, -0.03557579219341278, 0.005874386988580227, 0.015429790131747724, 0.017038581892848015, -0.016081271693110466, -0.026114679872989655, 0.007802706677466631, 0.08096690475940704, 0.013888100162148476, 0.05541398748755455, 0.008634773083031178, -0.0470224991440773, -0.027944717556238174, 0.045199017971754074, -0.10024239867925644, -0.018402768298983577, -0.00625568674877286, -0.04490593820810318, 0.01301196590065956, 0.019000690430402756, 0.05438147857785225, -0.026056891307234764, -0.01491677574813366, -0.011498975567519665, 0.021083295345306396, -0.019173206761479374, -0.046935297548770905, 0.04469772055745125, 0.0074448115192353725, 0.06994129717350006, -0.07555901259183884, -0.021055269986391068, 0.027559731155633926, 0.000243969596340321, 0.011949253268539906, 0.01816819049417973, 0.015492311678826807, -0.026033101603388783, -0.004536038264632225, -0.0053834677673876286, -0.05093202367424965, 0.013470451347529888, 0.029630089178681377, -0.03535233810544014, 0.004793749190866947, -0.08650681376457214, 0.05762723088264465, -0.03846150264143944, 0.08615346997976303, -0.00920445006340742, 0.008277615532279015, -0.052913401275873184, -0.06765894591808319, -0.04137172922492027, -0.01351541094481945, 0.0091029554605484, -0.01725832372903824, 0.013120134361088276, 0.033349547535181046, -0.026120124384760857, -0.03380923718214035, -0.033240482211112976, -0.025415688753128052, -0.011426513083279133, 0.05611839517951012, -0.0626915991306305, -0.0076095652766525745, 0.029591020196676254, -0.01583670824766159, 0.005431309808045626, 0.017253372818231583, 0.0787733718752861, -0.07486177980899811, -0.01704452931880951, -0.026233350858092308, -0.059157002717256546, -0.02637035958468914, 0.01870274916291237, 0.0086003877222538, -0.04611638933420181, 0.005725315771996975, 0.0020947798620909452, 0.027797948569059372, 0.007509356364607811, 0.003935576882213354, -0.043175652623176575, -0.005293708294630051, 0.012926651164889336, 0.02008018083870411, -0.07358905673027039, 0.009495952166616917, 0.00020972956554032865, 0.00874348171055317, 0.031065871939063072, -0.03261373192071915, 0.004985305946320295, 0.0047498359344899654, -0.006216451525688171, -0.028640838339924812, -0.07492362707853317, 0.025996580719947815, -0.035413436591625214, -0.0055582113564014435, 0.04418425261974335, 0.0068093170411884785, -0.028242936357855797, 0.04574989154934883, 0.05112502351403237, -0.11747866868972778, -0.010771037079393864, 0.00017862538516055793, 0.0024292634334415197, 0.02444106712937355, -0.09817969053983688, 0.04507332295179367, -0.04193577170372009, 0.006884540431201458, 0.02913917414844036, -0.04971002787351608, -0.07223526388406754, 0.018489722162485123, 0.02499222755432129, -0.04399266839027405, 0.010451896116137505, 0.0319136418402195, -0.021180614829063416, 0.05544235557317734, -0.04146149381995201, 0.013787636533379556, 0.03426629304885864, -0.010770360939204693, 0.016673002392053604, 0.013078276067972183, 0.0645492821931839, 0.07635396718978882, -8.008217992028221e-05, 0.02426370047032833, 0.015451901592314243, 0.03141038119792938, -0.04073192924261093, -0.03153687343001366, -0.013436236418783665, 0.014209435321390629, 0.014770050533115864, -0.08555618673563004, 0.023956995457410812, 0.025478901341557503, 0.03448332101106644, -0.06434693187475204, -0.0326155386865139, 0.017356181517243385, -0.032471682876348495, 0.0296490341424942, 0.015011422336101532, -0.0024750789161771536, 0.05451705679297447, 0.01820150762796402, 0.0385638065636158, 0.03617629036307335, -0.0039742146618664265, -0.045092519372701645, 0.006029568612575531, -0.01129672210663557, -0.02037731185555458, 0.05962998792529106, -0.034311484545469284, 0.06408977508544922, -0.08177443593740463, -0.018258003517985344, -0.035049475729465485, 0.02187877893447876, 0.044705163687467575, -0.010068021714687347, 0.016538482159376144, 0.044573698192834854, -0.04855013266205788, -0.00400163047015667, -0.008117717690765858, 0.03007806651294231, 0.0025832829996943474, -0.029508639127016068, -0.01653612032532692, -0.025665972381830215, -0.033022768795490265, 0.05145701393485069, -0.04065389931201935, 0.029719147831201553, 0.032198742032051086, -0.011605235747992992, -0.03898517042398453, 0.04265040904283523, 0.043230779469013214, -0.00081882334779948, 0.06477095186710358, 0.002264791401103139, 0.0266323946416378, -0.02891034074127674, -0.01917965896427631, 0.05065389722585678, 0.06445196270942688, 0.017316002398729324, -0.03152502328157425, -0.05254986509680748, -0.004346581641584635, -0.027961330488324165, 0.04115273058414459, 0.03903895616531372, 0.02277282625436783, 0.01423108670860529, 0.01774248667061329, -0.021127665415406227, -0.0008984392625279725, 0.04113554581999779, 0.02135450951755047, -0.007431226782500744, -0.04450000822544098, 0.0247702207416296, 0.014781679026782513, 0.049062520265579224, -0.007461521774530411, 0.015476720407605171, -0.08154182136058807, -0.03486001491546631, -0.017223145812749863, -0.046996284276247025, -5.50540134345329e-33, 0.018693698570132256, -0.0007871686830185354, -0.004139420576393604, -0.0234836433082819, -0.03222016617655754, -0.03266357257962227, 0.06739437580108643, 0.0027408935129642487, -0.005910536274313927, 0.0026588747277855873, 0.013726863078773022, -0.013734403066337109, 0.028044549748301503, -0.014439855702221394, 0.0096927797421813, -0.041060250252485275, 0.004569379612803459, 0.0017831767909228802, 0.006508735474199057, -0.015904512256383896, -0.027645699679851532, 0.014735523611307144, -0.04350889474153519, 0.046111028641462326, -0.0170616302639246, 0.015844661742448807, -0.02979126200079918, 0.01937956176698208, 0.011693818494677544, 0.01396580133587122, -0.00021408897009678185, -0.012170609086751938, -0.03401557728648186, 0.06556881964206696, -0.008176933042705059, -0.03698309510946274, 0.02519361488521099, -0.0383448600769043, 0.028488067910075188, -0.01534544676542282, 0.05420999601483345, -0.024134453386068344, 0.038906753063201904, -0.01282944343984127, 0.024338893592357635, -0.011722379364073277, 0.010872600600123404, 0.013293239288032057, -0.06954430788755417, 0.03055746667087078, -0.021540194749832153, -0.02469000034034252, -0.010811654850840569, 0.04326003044843674, -0.028699161484837532, -0.010292807593941689, -0.01118165161460638, -0.0024038543924689293, 0.0520932674407959, 0.008528823964297771, 0.003040103940293193, -0.023578042164444923, -0.022427601739764217, -0.007695403415709734, 0.04377986490726471, 0.014467917382717133, -0.021931029856204987, 0.03572787716984749, 0.01671438477933407, -0.04554873704910278, 0.03880862146615982, 0.0047605219297111034, -0.026190223172307014, 0.008129117079079151, -0.05204755812883377, -0.09984604269266129, -0.030149808153510097, -0.03022758476436138, -0.02404944598674774, -0.064659483730793, -0.0021411380730569363, 0.014777611941099169, -0.035406772047281265, 0.021900473162531853, -0.016566069796681404, 0.0007890144479461014, 0.0022943089716136456, -0.04823197051882744, -0.03823169320821762, 0.06971582770347595, -0.038360726088285446, 0.05667823180556297, 0.02838110737502575, 0.03300369158387184, -0.017188770696520805, 0.00712731946259737, -0.033270563930273056, 0.019525675103068352, -0.03724755346775055, -0.046030182391405106, -0.014295347034931185, 0.09554440528154372, -0.030794594436883926, -0.06696661561727524, 0.004073749762028456, -0.03070061095058918, 0.009947473183274267, -0.017801769077777863, -0.02771984785795212, 0.02893492765724659, -0.021489791572093964, 0.0028972995933145285, 0.013002486899495125, -0.0017799953930079937, 0.06160346046090126, 0.049355436116456985, 9.47147054830566e-05, 0.03115181438624859, -0.027256907895207405, 0.010455979965627192, -0.006081291940063238, 0.05739310011267662, -0.027113400399684903, 0.06693746149539948, -0.02157188579440117, -0.014008022844791412, -0.005634928587824106, 0.04113040119409561, -0.022725651040673256, -0.06927928328514099, 0.03180397301912308, 0.006411463487893343, 2.2371997943082533e-07, -0.032186396420001984, -0.04096206650137901, 0.0020017565693706274, 0.04356301948428154, 0.002324047964066267, 0.02506297640502453, 0.014409777708351612, -0.04832657799124718, -0.006017266307026148, 0.0415608249604702, -0.011706111021339892, 0.007970373146235943, -0.005056359805166721, 0.03473830595612526, 0.039042674005031586, -0.0480680949985981, 0.06165275350213051, -0.012067103758454325, 0.02125183865427971, 0.02149810455739498, 0.07292181253433228, 0.016171736642718315, -0.03189399093389511, 0.0016158528160303831, -0.013359684497117996, -0.0006641151267103851, -0.01222010888159275, -0.04313887655735016, -0.03108959458768368, 0.014023295603692532, -0.02212372794747353, 0.01157209649682045, -0.013344607315957546, -0.03815764561295509, 0.006787543650716543, 0.008075268939137459, -0.008805072866380215, 0.021234186366200447, -0.004416370764374733, -0.009824478067457676, -0.016504067927598953, 0.01486173365265131, 0.02657068334519863, 0.022007059305906296, 0.0057418085634708405, -0.04834569990634918, 0.06337142735719681, 0.029612870886921883, 0.0227119792252779, -0.012921007350087166, -0.004526216071099043, 0.016656359657645226, -0.05377674475312233, 0.052928630262613297, 0.012019612826406956, 0.04457337409257889, 0.054123200476169586, -0.018560390919446945, -0.0011622137390077114, 0.06401477009057999, -0.014054198749363422, 0.0712839663028717, 0.02086341194808483, 0.06052343174815178, 0.07697419077157974, 0.10438022017478944, -0.03446698188781738, 1.3262574706224962e-34, -0.02797798067331314, -0.005388501565903425, -0.030282629653811455, 0.01716294139623642, 0.020727846771478653, -0.026606330648064613, 0.02121749334037304, 0.006091081537306309, 0.00012149752001278102, 0.015341254882514477, -0.033276114612817764]}\n"
          ]
        }
      ]
    },
    {
      "cell_type": "code",
      "execution_count": 30,
      "metadata": {
        "colab": {
          "base_uri": "https://localhost:8080/",
          "height": 35
        },
        "id": "CMlAHmTe9vhN",
        "outputId": "3f1080f2-a929-4acb-bf27-c24e7eb53db2"
      },
      "outputs": [
        {
          "output_type": "execute_result",
          "data": {
            "text/plain": [
              "'Long-term memories:\\n- [MemoryType.EPISODIC] I like flying on Delta when possible'"
            ],
            "application/vnd.google.colaboratory.intrinsic+json": {
              "type": "string"
            }
          },
          "metadata": {},
          "execution_count": 30
        }
      ],
      "source": [
        "retrieve_memories_tool.invoke({\"query\": \"Airline Delta\", \"memory_type\": [\"episodic\"]})"
      ]
    },
    {
      "cell_type": "markdown",
      "metadata": {
        "id": "PftV2tTG1nfh"
      },
      "source": [
        "# 🌎 Build the Travel Agent\n",
        "\n",
        "## Setting Up the ReAct Agent\n",
        "\n",
        "We'll use LangGraph's prebuilt components to create a ReAct agent with memory capabilities:\n",
        "\n",
        "1. **Short-term Memory**: A checkpoint saver tracks conversation history per thread\n",
        "2. **Long-term Memory**: We'll extract and store key information from conversations\n",
        "   - Episodic memories: User preferences and experiences\n",
        "   - Semantic memories: General travel knowledge\n",
        "\n",
        "The system will automatically summarize conversations to manage context while preserving important details in long-term storage.\n",
        "\n",
        "Below we start with setting up the Redis checkpointer (`RedisSaver`) that will handle short term memory for the agent."
      ]
    },
    {
      "cell_type": "code",
      "execution_count": 31,
      "metadata": {
        "id": "QSouau_jvKON"
      },
      "outputs": [],
      "source": [
        "from langchain_core.messages import AIMessage, SystemMessage\n",
        "from langchain_openai import ChatOpenAI\n",
        "from langgraph.prebuilt.chat_agent_executor import create_react_agent\n",
        "from langgraph.checkpoint.redis import RedisSaver\n",
        "\n",
        "# Set up the Redis checkpointer for short term memory\n",
        "redis_saver = RedisSaver(redis_client=redis_client)\n",
        "redis_saver.setup()"
      ]
    },
    {
      "cell_type": "markdown",
      "metadata": {
        "id": "a8LEro_PvKON"
      },
      "source": [
        "Next we define the set of tools for the agent."
      ]
    },
    {
      "cell_type": "code",
      "execution_count": 32,
      "metadata": {
        "id": "EtZo92KuvKON"
      },
      "outputs": [],
      "source": [
        "# Define the set of tools\n",
        "tools = [store_memory_tool, retrieve_memories_tool]"
      ]
    },
    {
      "cell_type": "markdown",
      "metadata": {
        "id": "e-2IMJaLvKON"
      },
      "source": [
        "Configure the LLM from OpenAI."
      ]
    },
    {
      "cell_type": "code",
      "execution_count": 33,
      "metadata": {
        "colab": {
          "base_uri": "https://localhost:8080/"
        },
        "id": "6z6YV3S-6sBM",
        "outputId": "34ef6603-a598-48ed-e052-b67b177dfa23"
      },
      "outputs": [
        {
          "output_type": "stream",
          "name": "stdout",
          "text": [
            "\u001b[2K   \u001b[90m━━━━━━━━━━━━━━━━━━━━━━━━━━━━━━━━━━━━━━━━\u001b[0m \u001b[32m44.8/44.8 kB\u001b[0m \u001b[31m2.5 MB/s\u001b[0m eta \u001b[36m0:00:00\u001b[0m\n",
            "\u001b[2K   \u001b[90m━━━━━━━━━━━━━━━━━━━━━━━━━━━━━━━━━━━━━━━━\u001b[0m \u001b[32m1.4/1.4 MB\u001b[0m \u001b[31m27.8 MB/s\u001b[0m eta \u001b[36m0:00:00\u001b[0m\n",
            "\u001b[?25h\u001b[31mERROR: pip's dependency resolver does not currently take into account all the packages that are installed. This behaviour is the source of the following dependency conflicts.\n",
            "google-generativeai 0.8.5 requires google-ai-generativelanguage==0.6.15, but you have google-ai-generativelanguage 0.6.18 which is incompatible.\u001b[0m\u001b[31m\n",
            "\u001b[0m"
          ]
        }
      ],
      "source": [
        "!pip install -qU langchain-google-genai"
      ]
    },
    {
      "cell_type": "code",
      "execution_count": 34,
      "metadata": {
        "id": "YJ5uNpSF6y-V"
      },
      "outputs": [],
      "source": [
        "from langchain_google_genai import ChatGoogleGenerativeAI\n",
        "\n",
        "llm = ChatGoogleGenerativeAI(\n",
        "    model=\"gemini-2.5-flash\",\n",
        "    temperature=0.7\n",
        ").bind_tools(tools)"
      ]
    },
    {
      "cell_type": "code",
      "execution_count": null,
      "metadata": {
        "id": "kWz7rC5_vKON"
      },
      "outputs": [],
      "source": [
        "# # Configure an LLM for the agent with a more creative temperature.\n",
        "# llm = ChatOpenAI(model=\"gpt-4o\", temperature=0.7).bind_tools(tools)"
      ]
    },
    {
      "cell_type": "markdown",
      "metadata": {
        "id": "JLKB-V9HvKON"
      },
      "source": [
        "Assemble the ReAct agent combining the LLM, tools, checkpointer, and system prompt!"
      ]
    },
    {
      "cell_type": "code",
      "execution_count": 35,
      "metadata": {
        "id": "e-TpYxYb1nfh"
      },
      "outputs": [],
      "source": [
        "# Defint the travel agent\n",
        "travel_agent = create_react_agent(\n",
        "    model=llm,\n",
        "    tools=tools,               # Long-term memory: provided as a set of custom tools\n",
        "    checkpointer=redis_saver,  # Short-term memory: the conversation history\n",
        "    prompt=SystemMessage(\n",
        "        content=\"\"\"\n",
        "        You are a travel assistant helping users plan their trips. You remember user preferences\n",
        "        and provide personalized recommendations based on past interactions.\n",
        "\n",
        "        You have access to the following types of memory:\n",
        "        1. Short-term memory: The current conversation thread\n",
        "        2. Long-term memory:\n",
        "           - Episodic: User preferences and past trip experiences (e.g., \"User prefers window seats\")\n",
        "           - Semantic: General knowledge about travel destinations and requirements\n",
        "\n",
        "        Your procedural knowledge (how to search, book flights, etc.) is built into your tools and prompts.\n",
        "\n",
        "        Always be helpful, personal, and context-aware in your responses.\n",
        "        \"\"\"\n",
        "    ),\n",
        ")"
      ]
    },
    {
      "cell_type": "markdown",
      "metadata": {
        "id": "htuJmhkY1nfi"
      },
      "source": [
        "✅ Now that we have the basic agent in place, we will build a LangGraph workflow that invokes this agent as a node. The graph will consist of three nodes in total. We will move through each one separately."
      ]
    },
    {
      "cell_type": "markdown",
      "metadata": {
        "id": "R2mZwvHj1nfi"
      },
      "source": [
        "## Node 1: Respond to the user\n",
        "In LangGraph, a **node** represents a discrete unit of processing in a workflow. Each node is a function that takes a state object and configuration as input, processes the data, and returns an updated state. Nodes can be connected to form a directed graph that defines the flow of execution.\n",
        "\n",
        "The `respond_to_user` node (below) is our first node in the travel agent workflow. It serves as the entry point for user interactions and handles the core conversation flow. Here's how it works:\n",
        "\n",
        "1. It receives the current conversation state and configuration\n",
        "2. Extracts any human messages from the state\n",
        "3. Invokes our travel agent to generate a response\n",
        "4. Handles any errors gracefully\n",
        "5. Updates the conversation state with the agent's response\n",
        "\n",
        "The node uses a custom `RuntimeState` class that inherits from `MessagesState` to maintain the conversation history. This state object is passed between nodes in the graph, allowing each node to access and modify the conversation context as needed."
      ]
    },
    {
      "cell_type": "code",
      "execution_count": 36,
      "metadata": {
        "id": "PFdGi8fd1nfi"
      },
      "outputs": [],
      "source": [
        "\n",
        "from langchain_core.messages import HumanMessage\n",
        "from langgraph.graph.message import MessagesState\n",
        "\n",
        "\n",
        "class RuntimeState(MessagesState):\n",
        "    \"\"\"Runtime state for the travel agent.\"\"\"\n",
        "    pass\n",
        "\n",
        "\n",
        "def respond_to_user(state: RuntimeState, config: RunnableConfig) -> RuntimeState:\n",
        "    \"\"\"Invoke the travel agent to generate a response.\"\"\"\n",
        "    human_messages = [m for m in state[\"messages\"] if isinstance(m, HumanMessage)]\n",
        "    if not human_messages:\n",
        "        logger.warning(\"No HumanMessage found in state\")\n",
        "        return state\n",
        "\n",
        "    try:\n",
        "        # Single agent invocation, not streamed (simplified for reliability)\n",
        "        result = travel_agent.invoke({\"messages\": state[\"messages\"]}, config=config)\n",
        "        agent_message = result[\"messages\"][-1]\n",
        "        state[\"messages\"].append(agent_message)\n",
        "    except Exception as e:\n",
        "        logger.error(f\"Error invoking travel agent: {e}\")\n",
        "        agent_message = AIMessage(\n",
        "            content=\"I'm sorry, I encountered an error processing your request.\"\n",
        "        )\n",
        "        state[\"messages\"].append(agent_message)\n",
        "\n",
        "    return state"
      ]
    },
    {
      "cell_type": "markdown",
      "metadata": {
        "id": "kZyQE3MeyoQw"
      },
      "source": [
        "## Node 2: Execute Tools\n",
        "\n",
        "The `execute_tools` node is a critical component in our travel agent's workflow that bridges the gap between the LLM's decisions and actual tool execution. Positioned after the `respond_to_user` node, it handles the practical side of the agent's tool-using capabilities.\n",
        "\n",
        "When the LLM determines it needs to use a tool, it includes tool calls in its response. This node then:\n",
        "\n",
        "1. Scans the conversation history to find the most recent AI message containing tool calls\n",
        "2. For each tool call found:\n",
        "   - Extracts the tool name, arguments, and call ID from the message\n",
        "   - Matches the tool name against our available tools\n",
        "   - Executes the tool with the provided arguments\n",
        "   - Creates a ToolMessage containing the result\n",
        "3. Handles any errors that occur during tool execution\n",
        "4. Adds all tool results back to the conversation history\n",
        "\n",
        "This node is essential because it enables our agent to interact with external systems and services while maintaining a coherent conversation flow. Without it, the agent would be limited to just generating text responses without the ability to perform actual actions or retrieve real-time information.\n"
      ]
    },
    {
      "cell_type": "code",
      "execution_count": 37,
      "metadata": {
        "id": "bkFA2_vgyrdZ"
      },
      "outputs": [],
      "source": [
        "from langchain_core.messages import ToolMessage\n",
        "\n",
        "\n",
        "def execute_tools(state: RuntimeState, config: RunnableConfig) -> RuntimeState:\n",
        "    \"\"\"Execute tools specified in the latest AIMessage and append ToolMessages.\"\"\"\n",
        "    messages = state[\"messages\"]\n",
        "    latest_ai_message = next(\n",
        "        (m for m in reversed(messages) if isinstance(m, AIMessage) and m.tool_calls),\n",
        "        None\n",
        "    )\n",
        "\n",
        "    if not latest_ai_message:\n",
        "        return state  # No tool calls to process\n",
        "\n",
        "    tool_messages = []\n",
        "    for tool_call in latest_ai_message.tool_calls:\n",
        "        tool_name = tool_call[\"name\"]\n",
        "        tool_args = tool_call[\"args\"]\n",
        "        tool_id = tool_call[\"id\"]\n",
        "\n",
        "        # Find the corresponding tool\n",
        "        tool = next((t for t in tools if t.name == tool_name), None)\n",
        "        if not tool:\n",
        "            continue  # Skip if tool not found\n",
        "\n",
        "        try:\n",
        "            # Execute the tool with the provided arguments\n",
        "            result = tool.invoke(tool_args, config=config)\n",
        "            # Create a ToolMessage with the result\n",
        "            tool_message = ToolMessage(\n",
        "                content=str(result),\n",
        "                tool_call_id=tool_id,\n",
        "                name=tool_name\n",
        "            )\n",
        "            tool_messages.append(tool_message)\n",
        "        except Exception as e:\n",
        "            # Handle tool execution errors\n",
        "            error_message = ToolMessage(\n",
        "                content=f\"Error executing tool '{tool_name}': {str(e)}\",\n",
        "                tool_call_id=tool_id,\n",
        "                name=tool_name\n",
        "            )\n",
        "            tool_messages.append(error_message)\n",
        "\n",
        "    # Append the ToolMessages to the message history\n",
        "    messages.extend(tool_messages)\n",
        "    state[\"messages\"] = messages\n",
        "    return state"
      ]
    },
    {
      "cell_type": "markdown",
      "metadata": {
        "id": "LM3oPg101nfi"
      },
      "source": [
        "## Node 3: Conversation Summarization\n",
        "\n",
        "The conversation summarization node helps manage context by condensing chat history into concise summaries. This prevents the LLM's context window from being overwhelmed as the conversation grows.\n",
        "\n",
        "Key features:\n",
        "\n",
        "1. **Automatic Triggering**: Summarizes after every 6 messages (configurable)\n",
        "\n",
        "2. **Smart Summarization**:\n",
        "   - Uses GPT-4o with low temperature (0.3) for consistent summaries\n",
        "   - Preserves key information like preferences and pending items\n",
        "   - Replaces old messages while keeping recent context\n",
        "\n",
        "3. **Benefits**:\n",
        "   - Prevents context window overflow\n",
        "   - Maintains conversation coherence\n",
        "   - Optimizes token usage\n",
        "\n",
        "The summary becomes part of the conversation history, allowing the agent to reference past interactions efficiently."
      ]
    },
    {
      "cell_type": "code",
      "execution_count": 38,
      "metadata": {
        "id": "KUYw18Xb1nfi"
      },
      "outputs": [],
      "source": [
        "from langchain_core.messages import RemoveMessage\n",
        "\n",
        "# An LLM configured for summarization.\n",
        "# summarizer = ChatOpenAI(model=\"gpt-4o\", temperature=0.3)\n",
        "summarizer = ChatGoogleGenerativeAI(\n",
        "    model=\"gemini-2.5-flash\",\n",
        "    temperature=0.7\n",
        ")\n",
        "\n",
        "# The number of messages after which we'll summarize the conversation.\n",
        "MESSAGE_SUMMARIZATION_THRESHOLD = 6\n",
        "\n",
        "\n",
        "def summarize_conversation(\n",
        "    state: RuntimeState, config: RunnableConfig\n",
        ") -> RuntimeState:\n",
        "    \"\"\"\n",
        "    Summarize a list of messages into a concise summary to reduce context length\n",
        "    while preserving important information.\n",
        "    \"\"\"\n",
        "    messages = state[\"messages\"]\n",
        "    current_message_count = len(messages)\n",
        "    if current_message_count < MESSAGE_SUMMARIZATION_THRESHOLD:\n",
        "        logger.debug(f\"Not summarizing conversation: {current_message_count}\")\n",
        "        return state\n",
        "\n",
        "    system_prompt = \"\"\"\n",
        "    You are a conversation summarizer. Create a concise summary of the previous\n",
        "    conversation between a user and a travel assistant.\n",
        "\n",
        "    The summary should:\n",
        "    1. Highlight key topics, preferences, and decisions\n",
        "    2. Include any specific trip details (destinations, dates, preferences)\n",
        "    3. Note any outstanding questions or topics that need follow-up\n",
        "    4. Be concise but informative\n",
        "\n",
        "    Format your summary as a brief narrative paragraph.\n",
        "    \"\"\"\n",
        "\n",
        "    message_content = \"\\n\".join(\n",
        "        [\n",
        "            f\"{'User' if isinstance(msg, HumanMessage) else 'Assistant'}: {msg.content}\"\n",
        "            for msg in messages\n",
        "        ]\n",
        "    )\n",
        "\n",
        "    # Invoke the summarizer\n",
        "    summary_messages = [\n",
        "        SystemMessage(content=system_prompt),\n",
        "        HumanMessage(\n",
        "            content=f\"Please summarize this conversation:\\n\\n{message_content}\"\n",
        "        ),\n",
        "    ]\n",
        "\n",
        "    summary_response = summarizer.invoke(summary_messages)\n",
        "\n",
        "    logger.info(f\"Summarized {len(messages)} messages into a conversation summary\")\n",
        "\n",
        "    summary_message = SystemMessage(\n",
        "        content=f\"\"\"\n",
        "        Summary of the conversation so far:\n",
        "\n",
        "        {summary_response.content}\n",
        "\n",
        "        Please continue the conversation based on this summary and the recent messages.\n",
        "        \"\"\"\n",
        "    )\n",
        "    remove_messages = [\n",
        "        RemoveMessage(id=msg.id) for msg in messages if msg.id is not None\n",
        "    ]\n",
        "\n",
        "    state[\"messages\"] = [  # type: ignore\n",
        "        *remove_messages,\n",
        "        summary_message,\n",
        "        state[\"messages\"][-1],\n",
        "    ]\n",
        "\n",
        "    return state.copy()"
      ]
    },
    {
      "cell_type": "markdown",
      "metadata": {
        "id": "dpzjQxXi1nfi"
      },
      "source": [
        "## Assemble the full graph\n",
        "\n",
        "🚧 It's time to assemble our graph for end-to-end agent execution. We will attach all three **nodes** we defined above."
      ]
    },
    {
      "cell_type": "code",
      "execution_count": 39,
      "metadata": {
        "colab": {
          "base_uri": "https://localhost:8080/"
        },
        "id": "h6TvQaob1nfi",
        "outputId": "d718d5d1-2e82-4781-c4f1-8a4750609677"
      },
      "outputs": [
        {
          "output_type": "execute_result",
          "data": {
            "text/plain": [
              "<langgraph.graph.state.StateGraph at 0x7e9d092b6b10>"
            ]
          },
          "metadata": {},
          "execution_count": 39
        }
      ],
      "source": [
        "from langgraph.graph import StateGraph, END\n",
        "\n",
        "workflow = StateGraph(RuntimeState)\n",
        "\n",
        "# Add nodes to the graph\n",
        "workflow.add_node(\"agent\", respond_to_user)\n",
        "workflow.add_node(\"execute_tools\", execute_tools)\n",
        "workflow.add_node(\"summarize_conversation\", summarize_conversation)"
      ]
    },
    {
      "cell_type": "markdown",
      "metadata": {
        "id": "cYGE-DLuvKOO"
      },
      "source": [
        "Next, we will tie the nodes together using **edges** which control process flow. There is a conditional edge between the agent node and what comes next. What comes next is based on whether we need to handle + execute a tool call or proceed..."
      ]
    },
    {
      "cell_type": "code",
      "execution_count": 40,
      "metadata": {
        "colab": {
          "base_uri": "https://localhost:8080/"
        },
        "id": "61Un_szhvKOO",
        "outputId": "bcc17999-6e3c-4816-80ad-062e9b1a0c62"
      },
      "outputs": [
        {
          "output_type": "execute_result",
          "data": {
            "text/plain": [
              "<langgraph.graph.state.StateGraph at 0x7e9d092b6b10>"
            ]
          },
          "metadata": {},
          "execution_count": 40
        }
      ],
      "source": [
        "def decide_next_step(state):\n",
        "    latest_ai_message = next((m for m in reversed(state[\"messages\"]) if isinstance(m, AIMessage)), None)\n",
        "    if latest_ai_message and latest_ai_message.tool_calls:\n",
        "        return \"execute_tools\"\n",
        "    return \"summarize_conversation\"\n",
        "\n",
        "\n",
        "workflow.set_entry_point(\"agent\")\n",
        "workflow.add_conditional_edges(\n",
        "    \"agent\",\n",
        "    decide_next_step,\n",
        "    {\"execute_tools\": \"execute_tools\", \"summarize_conversation\": \"summarize_conversation\"},\n",
        ")\n",
        "workflow.add_edge(\"execute_tools\", \"agent\")\n",
        "workflow.add_edge(\"summarize_conversation\", END)"
      ]
    },
    {
      "cell_type": "markdown",
      "metadata": {
        "id": "3L_OEc80vKOO"
      },
      "source": [
        "Compile the graph!"
      ]
    },
    {
      "cell_type": "code",
      "execution_count": 41,
      "metadata": {
        "id": "kuwdsVhYvKOO"
      },
      "outputs": [],
      "source": [
        "graph = workflow.compile(checkpointer=redis_saver)"
      ]
    },
    {
      "cell_type": "markdown",
      "metadata": {
        "id": "sQSfnQDK1nfo"
      },
      "source": [
        " ## Testing the Main Agent Loop\n",
        "\n",
        " Let's put our travel agent to work! The main loop handles the conversation flow:\n",
        "\n",
        " **Initialization**: Sets up a unique thread ID and empty message state\n",
        "\n",
        " **Input Processing**: Gets user input, handles empty inputs, and exit commands  \n",
        "\n",
        " **Message Flow**: Converts input to HumanMessage and streams through our workflow\n",
        "\n",
        "  **Response Generation**: Processes state and displays AI responses\n",
        "\n",
        " **Error Handling**: Catches errors and keeps the conversation flowing smoothly\n",
        "\n"
      ]
    },
    {
      "cell_type": "code",
      "execution_count": 45,
      "metadata": {
        "id": "xD1BTjXY1nfp"
      },
      "outputs": [],
      "source": [
        "def main(thread_id: str = \"book_flight\", user_id: str = \"demo_user\"):\n",
        "    \"\"\"Main interaction loop for the travel agent\"\"\"\n",
        "\n",
        "    print(\"Welcome to the Travel Assistant! (Type 'exit' to quit)\")\n",
        "\n",
        "    config = RunnableConfig(configurable={\"thread_id\": thread_id, \"user_id\": user_id})\n",
        "    state = RuntimeState(messages=[])\n",
        "\n",
        "    while True:\n",
        "        user_input = input(\"\\nYou (type 'quit' to quit): \")\n",
        "\n",
        "        if not user_input:\n",
        "            continue\n",
        "\n",
        "        if user_input.lower() in [\"exit\", \"quit\"]:\n",
        "            print(\"Thank you for using the Travel Assistant. Goodbye!\")\n",
        "            break\n",
        "\n",
        "        state[\"messages\"].append(HumanMessage(content=user_input))\n",
        "\n",
        "        try:\n",
        "            # Process user input through the graph\n",
        "            for result in graph.stream(state, config=config, stream_mode=\"values\"):\n",
        "                state = RuntimeState(**result)\n",
        "\n",
        "            logger.debug(f\"# of messages after run: {len(state['messages'])}\")\n",
        "\n",
        "            # Find the most recent AI message, so we can print the response\n",
        "            ai_messages = [m for m in state[\"messages\"] if isinstance(m, AIMessage)]\n",
        "            if ai_messages:\n",
        "                message = ai_messages[-1].content\n",
        "            else:\n",
        "                logger.error(\"No AI messages after run\")\n",
        "                message = \"I'm sorry, I couldn't process your request properly.\"\n",
        "                # Add the error message to the state\n",
        "                state[\"messages\"].append(AIMessage(content=message))\n",
        "\n",
        "            print(f\"\\nAssistant: {message}\")\n",
        "\n",
        "        except Exception as e:\n",
        "            logger.exception(f\"Error processing request: {e}\")\n",
        "            error_message = \"I'm sorry, I encountered an error processing your request.\"\n",
        "            print(f\"\\nAssistant: {error_message}\")\n",
        "            # Add the error message to the state\n",
        "            state[\"messages\"].append(AIMessage(content=error_message))"
      ]
    },
    {
      "cell_type": "markdown",
      "metadata": {
        "id": "P51RdhnzfZa1"
      },
      "source": [
        "Before you try your own, take a look at the current conversation between Tyler and the travel agent. Notice the memory storage actions, the calls to the LLM, and also the conversation summarization that take place during the workflow!"
      ]
    },
    {
      "cell_type": "code",
      "execution_count": 46,
      "metadata": {
        "colab": {
          "base_uri": "https://localhost:8080/",
          "height": 1000
        },
        "id": "C5fg4PH97YGY",
        "outputId": "97f86969-1b48-4d33-9131-e3198365ed65"
      },
      "outputs": [
        {
          "output_type": "stream",
          "name": "stdout",
          "text": [
            "Enter a user ID: styler\n",
            "Enter a thread ID: 123\n",
            "Welcome to the Travel Assistant! (Type 'exit' to quit)\n",
            "\n",
            "You (type 'quit' to quit): Excellent thank you. I would love help booking flights. What are the best routes typically flown from Atlanta to Singapore?\n",
            "\n",
            "Assistant: I don't have information on specific flight routes from Atlanta to Singapore in my memory at the moment. However, I can help you look up flights if you provide me with your desired travel dates and any other preferences you might have (e.g., preferred airlines, number of stops).\n",
            "\n",
            "Would you like me to do that? Also, is there anything specific you'd like me to remember about your travel preferences for future reference?\n",
            "\n",
            "You (type 'quit' to quit): Let's hold on bookingtyler for now. Back to activities. Based on what you know about me, what do you think we should do? Design the perfect Sunday for me and my wife in Singapore.\n",
            "\n",
            "Assistant: I'd love to help design a perfect Sunday for you and your wife in Singapore! To make it truly perfect, I need to know a little more about your preferences.\n",
            "\n",
            "For example, do you enjoy:\n",
            "*   **Nature and outdoors** (e.g., gardens, walks, wildlife)?\n",
            "*   **Culture and history** (e.g., museums, temples, historical sites)?\n",
            "*   **Food and dining** (e.g., hawker centers, fine dining, specific cuisines)?\n",
            "*   **Shopping and entertainment** (e.g., malls, shows, unique boutiques)?\n",
            "*   **Relaxation** (e.g., spas, leisurely brunches)?\n",
            "*   **Adventure or unique experiences**?\n",
            "\n",
            "Once I have a better idea of what you both enjoy, I can craft a personalized itinerary!\n",
            "\n",
            "You (type 'quit' to quit): Great as long as there are no shellfish items featured as my wife is very allergic.\n",
            "\n",
            "Assistant: Thank you for that crucial information! I've made a note that your wife has a severe shellfish allergy, and I will ensure all future food recommendations avoid shellfish.\n",
            "\n",
            "To design the perfect Sunday, could you tell me a bit more about what you both enjoy, beyond the dietary restriction? For example, are you interested in:\n",
            "\n",
            "*   **Nature and gardens** like Gardens by the Bay or the Botanic Gardens?\n",
            "*   **Cultural experiences** such as exploring Chinatown or Little India?\n",
            "*   **Unique attractions** like Sentosa Island or the ArtScience Museum?\n",
            "*   **Relaxation** like a spa day or a leisurely brunch?\n",
            "*   **Shopping** or **nightlife**?\n",
            "\n",
            "Knowing your general interests will help me create a truly personalized and enjoyable itinerary for your Sunday in Singapore!\n",
            "\n",
            "You (type 'quit' to quit): Excellent. Back to booking flights. For our preferred airline, will you recommend best route to get there from the US?\n",
            "\n",
            "Assistant: Certainly! To recommend the best route for your preferred airline, could you please let me know which airline that is? Once I have that, I can look into the best options for you from the US to Singapore.\n",
            "\n",
            "You (type 'quit' to quit): Sounds great. We will go with this one. I havent been to Singapore since I was 15 years old when I went with my family during my dads business trip. We had such a great time. I think you are going to help us have a fantastic trip!!\n",
            "\n",
            "Assistant: That's wonderful to hear! I'm delighted that I can help you create another fantastic trip to Singapore, especially since your last visit holds such fond memories. I'm sure we'll make this one just as special.\n",
            "\n",
            "Before I can recommend the best route, could you please confirm which airline you'd like to go with?\n",
            "\n",
            "You (type 'quit' to quit): quit\n",
            "Thank you for using the Travel Assistant. Goodbye!\n"
          ]
        },
        {
          "output_type": "execute_result",
          "data": {
            "text/plain": [
              "\"\\nHi I plan to go to singapore with my wife this summer. We love outdoors activities and trying new kinds of foods. Any good recommendations?\\nExcellent thank you. I would love help booking flights. What are the best routes typically flown from Atlanta to Singapore?\\nLet's hold on bookingtyler for now. Back to activities. Based on what you know about me, what do you think we should do? Design the perfect Sunday for me and my wife in Singapore.\\nGreat as long as there are no shellfish items featured as my wife is very allergic.\\nExcellent. Back to booking flights. For our preferred airline, will you recommend best route to get there from the US?\\nSounds great. We will go with this one. I havent been to Singapore since I was 15 years old when I went with my family during my dads business trip. We had such a great time. I think you are going to help us have a fantastic trip!!\\nquit\\n\""
            ],
            "application/vnd.google.colaboratory.intrinsic+json": {
              "type": "string"
            }
          },
          "metadata": {},
          "execution_count": 46
        }
      ],
      "source": [
        "try:\n",
        "    user_id = input(\"Enter a user ID: \") or \"demo_user\"\n",
        "    thread_id = input(\"Enter a thread ID: \") or \"demo_thread\"\n",
        "except Exception:\n",
        "    # If we're running in CI, we don't have a terminal to input from, so just exit\n",
        "    exit()\n",
        "else:\n",
        "    main(thread_id, user_id)\n",
        "\n",
        "'''\n",
        "Excellent thank you. I would love help booking flights. What are the best routes typically flown from Atlanta to Singapore?\n",
        "Let's hold on bookingtyler for now. Back to activities. Based on what you know about me, what do you think we should do? Design the perfect Sunday for me and my wife in Singapore.\n",
        "Great as long as there are no shellfish items featured as my wife is very allergic.\n",
        "Excellent. Back to booking flights. For our preferred airline, will you recommend best route to get there from the US?\n",
        "quitquit\n",
        "'''"
      ]
    },
    {
      "cell_type": "markdown",
      "metadata": {
        "id": "xmFwUzVo2qxB"
      },
      "source": [
        "Let's review what the agent learned about me during the process!"
      ]
    },
    {
      "cell_type": "code",
      "execution_count": null,
      "metadata": {
        "colab": {
          "base_uri": "https://localhost:8080/"
        },
        "id": "-txziZxw2jik",
        "outputId": "adca54d5-7ecb-476a-df92-eb4d1ef2421d"
      },
      "outputs": [
        {
          "data": {
            "text/plain": [
              "['No relevant memories found.']"
            ]
          },
          "execution_count": 45,
          "metadata": {},
          "output_type": "execute_result"
        }
      ],
      "source": [
        "res = retrieve_memories_tool.invoke({\"query\": \"Travel, activity, and dietary preferences\", \"memory_type\": [\"episodic\", \"semantic\"]})\n",
        "res.split(\"\\n\")"
      ]
    },
    {
      "cell_type": "markdown",
      "metadata": {
        "id": "M2UrJxte5HRT"
      },
      "source": [
        "Don't forget, we have the RedisVL index we can use to manually query or work with as needed:"
      ]
    },
    {
      "cell_type": "code",
      "execution_count": null,
      "metadata": {
        "colab": {
          "base_uri": "https://localhost:8080/"
        },
        "id": "qYm3HQj54WPX",
        "outputId": "13361c13-8b02-44f1-a841-9c745dc29df1"
      },
      "outputs": [
        {
          "data": {
            "text/plain": [
              "0"
            ]
          },
          "execution_count": 47,
          "metadata": {},
          "output_type": "execute_result"
        }
      ],
      "source": [
        "from redisvl.query import CountQuery\n",
        "\n",
        "# count total long-term memories in Redis\n",
        "long_term_memory_index.query(CountQuery())"
      ]
    },
    {
      "cell_type": "markdown",
      "metadata": {
        "id": "recap-summary"
      },
      "source": [
        "___\n",
        "\n",
        "# 🎓 Recap\n",
        "\n",
        "You've now learned the fundamentals from scratch and built a **production-ready memory-enabled AI agent** from the ground up. Let's recap the key accomplishments:\n",
        "\n",
        "## 🏗️ What we built\n",
        "\n",
        "1. ✅ **Dual-Memory Architecture**: Short-term conversation state + long-term persistent knowledge with LangGraph and Redis\n",
        "2. ✅ **Vector-Powered Memory**: Semantic search using RedisVL\n",
        "3. ✅ **Smart Deduplication**: Prevents storing similar memories multiple times  \n",
        "4. ✅ **Tool-Based Memory Management**: LLM controls when to store/retrieve memories  \n",
        "5. ✅ **Conversation Summarization**: Automatic context window management  \n",
        "\n",
        "**Why Redis?**\n",
        "\n",
        "- **Performance**: Sub-millisecond memory retrieval at scale  \n",
        "- **Versatility**: Handles both structured state (checkpoints) and unstructured data (vectors)  \n",
        "- **Production-Ready**: Built-in persistence, clustering, and high availability  \n",
        "- **Developer Experience**: Rich ecosystem with tools like RedisVL and AI framework integrations  \n",
        "\n",
        "## 🔧 Alternative memory dev frameworks\n",
        "\n",
        "While this tutorial shows hands-on implementation, consider these frameworks for faster development:\n",
        "\n",
        "- **[LangMem](https://github.com/langchain-ai/langmem)**: LangChain's official memory framework\n",
        "- **[Mem0](https://github.com/mem0-ai/mem0)**: Dedicated memory layer for AI applications\n",
        "\n",
        "**When to Use Each Approach:**\n",
        "- **Custom Implementation** (this tutorial): Maximum control, specific requirements, learning\n",
        "- **LangMem**: LangChain ecosystem integration, rapid prototyping\n",
        "- **Mem0**: Multi-application memory sharing, enterprise features\n",
        "\n",
        "## 🔄 Next Steps\n",
        "\n",
        "You now have the foundation to build sophisticated, memory-enabled AI agents that feel truly intelligent and personalized.\n",
        "\n",
        " **Need Expert Guidance?**\n",
        "#\n",
        " [Schedule a consultation](https://redis.io/meeting/?utm_source=nir&utm_medium=cpa&utm_campaign=2025-06-ai_in_production&utm_content=cr-all_contact_us_forms-7013z000000evRk) with our Redis experts to optimize your agent architecture and implementation."
      ]
    }
  ],
  "metadata": {
    "colab": {
      "provenance": [],
      "include_colab_link": true
    },
    "kernelspec": {
      "display_name": ".venv",
      "language": "python",
      "name": "python3"
    },
    "language_info": {
      "codemirror_mode": {
        "name": "ipython",
        "version": 3
      },
      "file_extension": ".py",
      "mimetype": "text/x-python",
      "name": "python",
      "nbconvert_exporter": "python",
      "pygments_lexer": "ipython3",
      "version": "3.11.11"
    },
    "widgets": {
      "application/vnd.jupyter.widget-state+json": {
        "7c7cda1a6a6e4aa895bf4dfd1b2654ba": {
          "model_module": "@jupyter-widgets/controls",
          "model_name": "HBoxModel",
          "model_module_version": "1.5.0",
          "state": {
            "_dom_classes": [],
            "_model_module": "@jupyter-widgets/controls",
            "_model_module_version": "1.5.0",
            "_model_name": "HBoxModel",
            "_view_count": null,
            "_view_module": "@jupyter-widgets/controls",
            "_view_module_version": "1.5.0",
            "_view_name": "HBoxView",
            "box_style": "",
            "children": [
              "IPY_MODEL_d871843f74854d168992ecb794c21eb1",
              "IPY_MODEL_5ed01975f9784f68b05412e5a2963b65",
              "IPY_MODEL_30656f7b9b6f41b18c0d0437f4fd5654"
            ],
            "layout": "IPY_MODEL_115661ea462444c1a16f56d5a75b7b56"
          }
        },
        "d871843f74854d168992ecb794c21eb1": {
          "model_module": "@jupyter-widgets/controls",
          "model_name": "HTMLModel",
          "model_module_version": "1.5.0",
          "state": {
            "_dom_classes": [],
            "_model_module": "@jupyter-widgets/controls",
            "_model_module_version": "1.5.0",
            "_model_name": "HTMLModel",
            "_view_count": null,
            "_view_module": "@jupyter-widgets/controls",
            "_view_module_version": "1.5.0",
            "_view_name": "HTMLView",
            "description": "",
            "description_tooltip": null,
            "layout": "IPY_MODEL_93dc9dc0c9bb464d8d45b3492de10a0f",
            "placeholder": "​",
            "style": "IPY_MODEL_332aa835f6e3486886f26ad6ae8685e2",
            "value": "modules.json: 100%"
          }
        },
        "5ed01975f9784f68b05412e5a2963b65": {
          "model_module": "@jupyter-widgets/controls",
          "model_name": "FloatProgressModel",
          "model_module_version": "1.5.0",
          "state": {
            "_dom_classes": [],
            "_model_module": "@jupyter-widgets/controls",
            "_model_module_version": "1.5.0",
            "_model_name": "FloatProgressModel",
            "_view_count": null,
            "_view_module": "@jupyter-widgets/controls",
            "_view_module_version": "1.5.0",
            "_view_name": "ProgressView",
            "bar_style": "success",
            "description": "",
            "description_tooltip": null,
            "layout": "IPY_MODEL_eae708ff086743ecbea038201c25d589",
            "max": 349,
            "min": 0,
            "orientation": "horizontal",
            "style": "IPY_MODEL_3787f5fa49d744949dbe14d7a89610a6",
            "value": 349
          }
        },
        "30656f7b9b6f41b18c0d0437f4fd5654": {
          "model_module": "@jupyter-widgets/controls",
          "model_name": "HTMLModel",
          "model_module_version": "1.5.0",
          "state": {
            "_dom_classes": [],
            "_model_module": "@jupyter-widgets/controls",
            "_model_module_version": "1.5.0",
            "_model_name": "HTMLModel",
            "_view_count": null,
            "_view_module": "@jupyter-widgets/controls",
            "_view_module_version": "1.5.0",
            "_view_name": "HTMLView",
            "description": "",
            "description_tooltip": null,
            "layout": "IPY_MODEL_77537224a7114526888ddcfcf685fc7c",
            "placeholder": "​",
            "style": "IPY_MODEL_3fe012c5d2e042ee9a13fdb6ffd714cf",
            "value": " 349/349 [00:00&lt;00:00, 18.6kB/s]"
          }
        },
        "115661ea462444c1a16f56d5a75b7b56": {
          "model_module": "@jupyter-widgets/base",
          "model_name": "LayoutModel",
          "model_module_version": "1.2.0",
          "state": {
            "_model_module": "@jupyter-widgets/base",
            "_model_module_version": "1.2.0",
            "_model_name": "LayoutModel",
            "_view_count": null,
            "_view_module": "@jupyter-widgets/base",
            "_view_module_version": "1.2.0",
            "_view_name": "LayoutView",
            "align_content": null,
            "align_items": null,
            "align_self": null,
            "border": null,
            "bottom": null,
            "display": null,
            "flex": null,
            "flex_flow": null,
            "grid_area": null,
            "grid_auto_columns": null,
            "grid_auto_flow": null,
            "grid_auto_rows": null,
            "grid_column": null,
            "grid_gap": null,
            "grid_row": null,
            "grid_template_areas": null,
            "grid_template_columns": null,
            "grid_template_rows": null,
            "height": null,
            "justify_content": null,
            "justify_items": null,
            "left": null,
            "margin": null,
            "max_height": null,
            "max_width": null,
            "min_height": null,
            "min_width": null,
            "object_fit": null,
            "object_position": null,
            "order": null,
            "overflow": null,
            "overflow_x": null,
            "overflow_y": null,
            "padding": null,
            "right": null,
            "top": null,
            "visibility": null,
            "width": null
          }
        },
        "93dc9dc0c9bb464d8d45b3492de10a0f": {
          "model_module": "@jupyter-widgets/base",
          "model_name": "LayoutModel",
          "model_module_version": "1.2.0",
          "state": {
            "_model_module": "@jupyter-widgets/base",
            "_model_module_version": "1.2.0",
            "_model_name": "LayoutModel",
            "_view_count": null,
            "_view_module": "@jupyter-widgets/base",
            "_view_module_version": "1.2.0",
            "_view_name": "LayoutView",
            "align_content": null,
            "align_items": null,
            "align_self": null,
            "border": null,
            "bottom": null,
            "display": null,
            "flex": null,
            "flex_flow": null,
            "grid_area": null,
            "grid_auto_columns": null,
            "grid_auto_flow": null,
            "grid_auto_rows": null,
            "grid_column": null,
            "grid_gap": null,
            "grid_row": null,
            "grid_template_areas": null,
            "grid_template_columns": null,
            "grid_template_rows": null,
            "height": null,
            "justify_content": null,
            "justify_items": null,
            "left": null,
            "margin": null,
            "max_height": null,
            "max_width": null,
            "min_height": null,
            "min_width": null,
            "object_fit": null,
            "object_position": null,
            "order": null,
            "overflow": null,
            "overflow_x": null,
            "overflow_y": null,
            "padding": null,
            "right": null,
            "top": null,
            "visibility": null,
            "width": null
          }
        },
        "332aa835f6e3486886f26ad6ae8685e2": {
          "model_module": "@jupyter-widgets/controls",
          "model_name": "DescriptionStyleModel",
          "model_module_version": "1.5.0",
          "state": {
            "_model_module": "@jupyter-widgets/controls",
            "_model_module_version": "1.5.0",
            "_model_name": "DescriptionStyleModel",
            "_view_count": null,
            "_view_module": "@jupyter-widgets/base",
            "_view_module_version": "1.2.0",
            "_view_name": "StyleView",
            "description_width": ""
          }
        },
        "eae708ff086743ecbea038201c25d589": {
          "model_module": "@jupyter-widgets/base",
          "model_name": "LayoutModel",
          "model_module_version": "1.2.0",
          "state": {
            "_model_module": "@jupyter-widgets/base",
            "_model_module_version": "1.2.0",
            "_model_name": "LayoutModel",
            "_view_count": null,
            "_view_module": "@jupyter-widgets/base",
            "_view_module_version": "1.2.0",
            "_view_name": "LayoutView",
            "align_content": null,
            "align_items": null,
            "align_self": null,
            "border": null,
            "bottom": null,
            "display": null,
            "flex": null,
            "flex_flow": null,
            "grid_area": null,
            "grid_auto_columns": null,
            "grid_auto_flow": null,
            "grid_auto_rows": null,
            "grid_column": null,
            "grid_gap": null,
            "grid_row": null,
            "grid_template_areas": null,
            "grid_template_columns": null,
            "grid_template_rows": null,
            "height": null,
            "justify_content": null,
            "justify_items": null,
            "left": null,
            "margin": null,
            "max_height": null,
            "max_width": null,
            "min_height": null,
            "min_width": null,
            "object_fit": null,
            "object_position": null,
            "order": null,
            "overflow": null,
            "overflow_x": null,
            "overflow_y": null,
            "padding": null,
            "right": null,
            "top": null,
            "visibility": null,
            "width": null
          }
        },
        "3787f5fa49d744949dbe14d7a89610a6": {
          "model_module": "@jupyter-widgets/controls",
          "model_name": "ProgressStyleModel",
          "model_module_version": "1.5.0",
          "state": {
            "_model_module": "@jupyter-widgets/controls",
            "_model_module_version": "1.5.0",
            "_model_name": "ProgressStyleModel",
            "_view_count": null,
            "_view_module": "@jupyter-widgets/base",
            "_view_module_version": "1.2.0",
            "_view_name": "StyleView",
            "bar_color": null,
            "description_width": ""
          }
        },
        "77537224a7114526888ddcfcf685fc7c": {
          "model_module": "@jupyter-widgets/base",
          "model_name": "LayoutModel",
          "model_module_version": "1.2.0",
          "state": {
            "_model_module": "@jupyter-widgets/base",
            "_model_module_version": "1.2.0",
            "_model_name": "LayoutModel",
            "_view_count": null,
            "_view_module": "@jupyter-widgets/base",
            "_view_module_version": "1.2.0",
            "_view_name": "LayoutView",
            "align_content": null,
            "align_items": null,
            "align_self": null,
            "border": null,
            "bottom": null,
            "display": null,
            "flex": null,
            "flex_flow": null,
            "grid_area": null,
            "grid_auto_columns": null,
            "grid_auto_flow": null,
            "grid_auto_rows": null,
            "grid_column": null,
            "grid_gap": null,
            "grid_row": null,
            "grid_template_areas": null,
            "grid_template_columns": null,
            "grid_template_rows": null,
            "height": null,
            "justify_content": null,
            "justify_items": null,
            "left": null,
            "margin": null,
            "max_height": null,
            "max_width": null,
            "min_height": null,
            "min_width": null,
            "object_fit": null,
            "object_position": null,
            "order": null,
            "overflow": null,
            "overflow_x": null,
            "overflow_y": null,
            "padding": null,
            "right": null,
            "top": null,
            "visibility": null,
            "width": null
          }
        },
        "3fe012c5d2e042ee9a13fdb6ffd714cf": {
          "model_module": "@jupyter-widgets/controls",
          "model_name": "DescriptionStyleModel",
          "model_module_version": "1.5.0",
          "state": {
            "_model_module": "@jupyter-widgets/controls",
            "_model_module_version": "1.5.0",
            "_model_name": "DescriptionStyleModel",
            "_view_count": null,
            "_view_module": "@jupyter-widgets/base",
            "_view_module_version": "1.2.0",
            "_view_name": "StyleView",
            "description_width": ""
          }
        },
        "d69aea9d21b14e1787cbbbfa3ad7ef5a": {
          "model_module": "@jupyter-widgets/controls",
          "model_name": "HBoxModel",
          "model_module_version": "1.5.0",
          "state": {
            "_dom_classes": [],
            "_model_module": "@jupyter-widgets/controls",
            "_model_module_version": "1.5.0",
            "_model_name": "HBoxModel",
            "_view_count": null,
            "_view_module": "@jupyter-widgets/controls",
            "_view_module_version": "1.5.0",
            "_view_name": "HBoxView",
            "box_style": "",
            "children": [
              "IPY_MODEL_435245de64074baf93143e112a981856",
              "IPY_MODEL_a205878d95a2491e9455072ad03d0447",
              "IPY_MODEL_981f4deabc6549fab78544995fdc18ec"
            ],
            "layout": "IPY_MODEL_86c090b8b5e143dab30917f508569206"
          }
        },
        "435245de64074baf93143e112a981856": {
          "model_module": "@jupyter-widgets/controls",
          "model_name": "HTMLModel",
          "model_module_version": "1.5.0",
          "state": {
            "_dom_classes": [],
            "_model_module": "@jupyter-widgets/controls",
            "_model_module_version": "1.5.0",
            "_model_name": "HTMLModel",
            "_view_count": null,
            "_view_module": "@jupyter-widgets/controls",
            "_view_module_version": "1.5.0",
            "_view_name": "HTMLView",
            "description": "",
            "description_tooltip": null,
            "layout": "IPY_MODEL_8a776adf60f14b1c8520c15a51cb6fd1",
            "placeholder": "​",
            "style": "IPY_MODEL_8dc22b83e9d645b481fb06cb05d6c892",
            "value": "config_sentence_transformers.json: 100%"
          }
        },
        "a205878d95a2491e9455072ad03d0447": {
          "model_module": "@jupyter-widgets/controls",
          "model_name": "FloatProgressModel",
          "model_module_version": "1.5.0",
          "state": {
            "_dom_classes": [],
            "_model_module": "@jupyter-widgets/controls",
            "_model_module_version": "1.5.0",
            "_model_name": "FloatProgressModel",
            "_view_count": null,
            "_view_module": "@jupyter-widgets/controls",
            "_view_module_version": "1.5.0",
            "_view_name": "ProgressView",
            "bar_style": "success",
            "description": "",
            "description_tooltip": null,
            "layout": "IPY_MODEL_c2c9056a1250450d8caa539cbdd53610",
            "max": 116,
            "min": 0,
            "orientation": "horizontal",
            "style": "IPY_MODEL_3102578a5b734e79b450515e124c7f68",
            "value": 116
          }
        },
        "981f4deabc6549fab78544995fdc18ec": {
          "model_module": "@jupyter-widgets/controls",
          "model_name": "HTMLModel",
          "model_module_version": "1.5.0",
          "state": {
            "_dom_classes": [],
            "_model_module": "@jupyter-widgets/controls",
            "_model_module_version": "1.5.0",
            "_model_name": "HTMLModel",
            "_view_count": null,
            "_view_module": "@jupyter-widgets/controls",
            "_view_module_version": "1.5.0",
            "_view_name": "HTMLView",
            "description": "",
            "description_tooltip": null,
            "layout": "IPY_MODEL_7967378915384715b9fbdd2db7d009e4",
            "placeholder": "​",
            "style": "IPY_MODEL_248ab2aa748d411dbb9be1cec946eb67",
            "value": " 116/116 [00:00&lt;00:00, 9.34kB/s]"
          }
        },
        "86c090b8b5e143dab30917f508569206": {
          "model_module": "@jupyter-widgets/base",
          "model_name": "LayoutModel",
          "model_module_version": "1.2.0",
          "state": {
            "_model_module": "@jupyter-widgets/base",
            "_model_module_version": "1.2.0",
            "_model_name": "LayoutModel",
            "_view_count": null,
            "_view_module": "@jupyter-widgets/base",
            "_view_module_version": "1.2.0",
            "_view_name": "LayoutView",
            "align_content": null,
            "align_items": null,
            "align_self": null,
            "border": null,
            "bottom": null,
            "display": null,
            "flex": null,
            "flex_flow": null,
            "grid_area": null,
            "grid_auto_columns": null,
            "grid_auto_flow": null,
            "grid_auto_rows": null,
            "grid_column": null,
            "grid_gap": null,
            "grid_row": null,
            "grid_template_areas": null,
            "grid_template_columns": null,
            "grid_template_rows": null,
            "height": null,
            "justify_content": null,
            "justify_items": null,
            "left": null,
            "margin": null,
            "max_height": null,
            "max_width": null,
            "min_height": null,
            "min_width": null,
            "object_fit": null,
            "object_position": null,
            "order": null,
            "overflow": null,
            "overflow_x": null,
            "overflow_y": null,
            "padding": null,
            "right": null,
            "top": null,
            "visibility": null,
            "width": null
          }
        },
        "8a776adf60f14b1c8520c15a51cb6fd1": {
          "model_module": "@jupyter-widgets/base",
          "model_name": "LayoutModel",
          "model_module_version": "1.2.0",
          "state": {
            "_model_module": "@jupyter-widgets/base",
            "_model_module_version": "1.2.0",
            "_model_name": "LayoutModel",
            "_view_count": null,
            "_view_module": "@jupyter-widgets/base",
            "_view_module_version": "1.2.0",
            "_view_name": "LayoutView",
            "align_content": null,
            "align_items": null,
            "align_self": null,
            "border": null,
            "bottom": null,
            "display": null,
            "flex": null,
            "flex_flow": null,
            "grid_area": null,
            "grid_auto_columns": null,
            "grid_auto_flow": null,
            "grid_auto_rows": null,
            "grid_column": null,
            "grid_gap": null,
            "grid_row": null,
            "grid_template_areas": null,
            "grid_template_columns": null,
            "grid_template_rows": null,
            "height": null,
            "justify_content": null,
            "justify_items": null,
            "left": null,
            "margin": null,
            "max_height": null,
            "max_width": null,
            "min_height": null,
            "min_width": null,
            "object_fit": null,
            "object_position": null,
            "order": null,
            "overflow": null,
            "overflow_x": null,
            "overflow_y": null,
            "padding": null,
            "right": null,
            "top": null,
            "visibility": null,
            "width": null
          }
        },
        "8dc22b83e9d645b481fb06cb05d6c892": {
          "model_module": "@jupyter-widgets/controls",
          "model_name": "DescriptionStyleModel",
          "model_module_version": "1.5.0",
          "state": {
            "_model_module": "@jupyter-widgets/controls",
            "_model_module_version": "1.5.0",
            "_model_name": "DescriptionStyleModel",
            "_view_count": null,
            "_view_module": "@jupyter-widgets/base",
            "_view_module_version": "1.2.0",
            "_view_name": "StyleView",
            "description_width": ""
          }
        },
        "c2c9056a1250450d8caa539cbdd53610": {
          "model_module": "@jupyter-widgets/base",
          "model_name": "LayoutModel",
          "model_module_version": "1.2.0",
          "state": {
            "_model_module": "@jupyter-widgets/base",
            "_model_module_version": "1.2.0",
            "_model_name": "LayoutModel",
            "_view_count": null,
            "_view_module": "@jupyter-widgets/base",
            "_view_module_version": "1.2.0",
            "_view_name": "LayoutView",
            "align_content": null,
            "align_items": null,
            "align_self": null,
            "border": null,
            "bottom": null,
            "display": null,
            "flex": null,
            "flex_flow": null,
            "grid_area": null,
            "grid_auto_columns": null,
            "grid_auto_flow": null,
            "grid_auto_rows": null,
            "grid_column": null,
            "grid_gap": null,
            "grid_row": null,
            "grid_template_areas": null,
            "grid_template_columns": null,
            "grid_template_rows": null,
            "height": null,
            "justify_content": null,
            "justify_items": null,
            "left": null,
            "margin": null,
            "max_height": null,
            "max_width": null,
            "min_height": null,
            "min_width": null,
            "object_fit": null,
            "object_position": null,
            "order": null,
            "overflow": null,
            "overflow_x": null,
            "overflow_y": null,
            "padding": null,
            "right": null,
            "top": null,
            "visibility": null,
            "width": null
          }
        },
        "3102578a5b734e79b450515e124c7f68": {
          "model_module": "@jupyter-widgets/controls",
          "model_name": "ProgressStyleModel",
          "model_module_version": "1.5.0",
          "state": {
            "_model_module": "@jupyter-widgets/controls",
            "_model_module_version": "1.5.0",
            "_model_name": "ProgressStyleModel",
            "_view_count": null,
            "_view_module": "@jupyter-widgets/base",
            "_view_module_version": "1.2.0",
            "_view_name": "StyleView",
            "bar_color": null,
            "description_width": ""
          }
        },
        "7967378915384715b9fbdd2db7d009e4": {
          "model_module": "@jupyter-widgets/base",
          "model_name": "LayoutModel",
          "model_module_version": "1.2.0",
          "state": {
            "_model_module": "@jupyter-widgets/base",
            "_model_module_version": "1.2.0",
            "_model_name": "LayoutModel",
            "_view_count": null,
            "_view_module": "@jupyter-widgets/base",
            "_view_module_version": "1.2.0",
            "_view_name": "LayoutView",
            "align_content": null,
            "align_items": null,
            "align_self": null,
            "border": null,
            "bottom": null,
            "display": null,
            "flex": null,
            "flex_flow": null,
            "grid_area": null,
            "grid_auto_columns": null,
            "grid_auto_flow": null,
            "grid_auto_rows": null,
            "grid_column": null,
            "grid_gap": null,
            "grid_row": null,
            "grid_template_areas": null,
            "grid_template_columns": null,
            "grid_template_rows": null,
            "height": null,
            "justify_content": null,
            "justify_items": null,
            "left": null,
            "margin": null,
            "max_height": null,
            "max_width": null,
            "min_height": null,
            "min_width": null,
            "object_fit": null,
            "object_position": null,
            "order": null,
            "overflow": null,
            "overflow_x": null,
            "overflow_y": null,
            "padding": null,
            "right": null,
            "top": null,
            "visibility": null,
            "width": null
          }
        },
        "248ab2aa748d411dbb9be1cec946eb67": {
          "model_module": "@jupyter-widgets/controls",
          "model_name": "DescriptionStyleModel",
          "model_module_version": "1.5.0",
          "state": {
            "_model_module": "@jupyter-widgets/controls",
            "_model_module_version": "1.5.0",
            "_model_name": "DescriptionStyleModel",
            "_view_count": null,
            "_view_module": "@jupyter-widgets/base",
            "_view_module_version": "1.2.0",
            "_view_name": "StyleView",
            "description_width": ""
          }
        },
        "a8901c5af4664ef587908f1cdfa2016a": {
          "model_module": "@jupyter-widgets/controls",
          "model_name": "HBoxModel",
          "model_module_version": "1.5.0",
          "state": {
            "_dom_classes": [],
            "_model_module": "@jupyter-widgets/controls",
            "_model_module_version": "1.5.0",
            "_model_name": "HBoxModel",
            "_view_count": null,
            "_view_module": "@jupyter-widgets/controls",
            "_view_module_version": "1.5.0",
            "_view_name": "HBoxView",
            "box_style": "",
            "children": [
              "IPY_MODEL_a6030f797d294f3ab1376869e2b7d1c5",
              "IPY_MODEL_6f1e73b65dda45bd9c9f1dddbfa713c6",
              "IPY_MODEL_fbfd67c540d54b9aa7573a46303c9136"
            ],
            "layout": "IPY_MODEL_9a01f3e5a1e8444a8e5b561c7278fddb"
          }
        },
        "a6030f797d294f3ab1376869e2b7d1c5": {
          "model_module": "@jupyter-widgets/controls",
          "model_name": "HTMLModel",
          "model_module_version": "1.5.0",
          "state": {
            "_dom_classes": [],
            "_model_module": "@jupyter-widgets/controls",
            "_model_module_version": "1.5.0",
            "_model_name": "HTMLModel",
            "_view_count": null,
            "_view_module": "@jupyter-widgets/controls",
            "_view_module_version": "1.5.0",
            "_view_name": "HTMLView",
            "description": "",
            "description_tooltip": null,
            "layout": "IPY_MODEL_72e76610a9b14439a962e7f2df1e9bba",
            "placeholder": "​",
            "style": "IPY_MODEL_1103aead3de8449da8fcb469b6818973",
            "value": "README.md: "
          }
        },
        "6f1e73b65dda45bd9c9f1dddbfa713c6": {
          "model_module": "@jupyter-widgets/controls",
          "model_name": "FloatProgressModel",
          "model_module_version": "1.5.0",
          "state": {
            "_dom_classes": [],
            "_model_module": "@jupyter-widgets/controls",
            "_model_module_version": "1.5.0",
            "_model_name": "FloatProgressModel",
            "_view_count": null,
            "_view_module": "@jupyter-widgets/controls",
            "_view_module_version": "1.5.0",
            "_view_name": "ProgressView",
            "bar_style": "success",
            "description": "",
            "description_tooltip": null,
            "layout": "IPY_MODEL_299698468bd74f8f95a3fade4eb6b6a4",
            "max": 1,
            "min": 0,
            "orientation": "horizontal",
            "style": "IPY_MODEL_59d5f72006434038ba9a8a42e686c097",
            "value": 1
          }
        },
        "fbfd67c540d54b9aa7573a46303c9136": {
          "model_module": "@jupyter-widgets/controls",
          "model_name": "HTMLModel",
          "model_module_version": "1.5.0",
          "state": {
            "_dom_classes": [],
            "_model_module": "@jupyter-widgets/controls",
            "_model_module_version": "1.5.0",
            "_model_name": "HTMLModel",
            "_view_count": null,
            "_view_module": "@jupyter-widgets/controls",
            "_view_module_version": "1.5.0",
            "_view_name": "HTMLView",
            "description": "",
            "description_tooltip": null,
            "layout": "IPY_MODEL_523b5fb2d0184f28883da24108e2ef9d",
            "placeholder": "​",
            "style": "IPY_MODEL_95ecc7104d7749d79d0dfe8ab80847da",
            "value": " 10.4k/? [00:00&lt;00:00, 774kB/s]"
          }
        },
        "9a01f3e5a1e8444a8e5b561c7278fddb": {
          "model_module": "@jupyter-widgets/base",
          "model_name": "LayoutModel",
          "model_module_version": "1.2.0",
          "state": {
            "_model_module": "@jupyter-widgets/base",
            "_model_module_version": "1.2.0",
            "_model_name": "LayoutModel",
            "_view_count": null,
            "_view_module": "@jupyter-widgets/base",
            "_view_module_version": "1.2.0",
            "_view_name": "LayoutView",
            "align_content": null,
            "align_items": null,
            "align_self": null,
            "border": null,
            "bottom": null,
            "display": null,
            "flex": null,
            "flex_flow": null,
            "grid_area": null,
            "grid_auto_columns": null,
            "grid_auto_flow": null,
            "grid_auto_rows": null,
            "grid_column": null,
            "grid_gap": null,
            "grid_row": null,
            "grid_template_areas": null,
            "grid_template_columns": null,
            "grid_template_rows": null,
            "height": null,
            "justify_content": null,
            "justify_items": null,
            "left": null,
            "margin": null,
            "max_height": null,
            "max_width": null,
            "min_height": null,
            "min_width": null,
            "object_fit": null,
            "object_position": null,
            "order": null,
            "overflow": null,
            "overflow_x": null,
            "overflow_y": null,
            "padding": null,
            "right": null,
            "top": null,
            "visibility": null,
            "width": null
          }
        },
        "72e76610a9b14439a962e7f2df1e9bba": {
          "model_module": "@jupyter-widgets/base",
          "model_name": "LayoutModel",
          "model_module_version": "1.2.0",
          "state": {
            "_model_module": "@jupyter-widgets/base",
            "_model_module_version": "1.2.0",
            "_model_name": "LayoutModel",
            "_view_count": null,
            "_view_module": "@jupyter-widgets/base",
            "_view_module_version": "1.2.0",
            "_view_name": "LayoutView",
            "align_content": null,
            "align_items": null,
            "align_self": null,
            "border": null,
            "bottom": null,
            "display": null,
            "flex": null,
            "flex_flow": null,
            "grid_area": null,
            "grid_auto_columns": null,
            "grid_auto_flow": null,
            "grid_auto_rows": null,
            "grid_column": null,
            "grid_gap": null,
            "grid_row": null,
            "grid_template_areas": null,
            "grid_template_columns": null,
            "grid_template_rows": null,
            "height": null,
            "justify_content": null,
            "justify_items": null,
            "left": null,
            "margin": null,
            "max_height": null,
            "max_width": null,
            "min_height": null,
            "min_width": null,
            "object_fit": null,
            "object_position": null,
            "order": null,
            "overflow": null,
            "overflow_x": null,
            "overflow_y": null,
            "padding": null,
            "right": null,
            "top": null,
            "visibility": null,
            "width": null
          }
        },
        "1103aead3de8449da8fcb469b6818973": {
          "model_module": "@jupyter-widgets/controls",
          "model_name": "DescriptionStyleModel",
          "model_module_version": "1.5.0",
          "state": {
            "_model_module": "@jupyter-widgets/controls",
            "_model_module_version": "1.5.0",
            "_model_name": "DescriptionStyleModel",
            "_view_count": null,
            "_view_module": "@jupyter-widgets/base",
            "_view_module_version": "1.2.0",
            "_view_name": "StyleView",
            "description_width": ""
          }
        },
        "299698468bd74f8f95a3fade4eb6b6a4": {
          "model_module": "@jupyter-widgets/base",
          "model_name": "LayoutModel",
          "model_module_version": "1.2.0",
          "state": {
            "_model_module": "@jupyter-widgets/base",
            "_model_module_version": "1.2.0",
            "_model_name": "LayoutModel",
            "_view_count": null,
            "_view_module": "@jupyter-widgets/base",
            "_view_module_version": "1.2.0",
            "_view_name": "LayoutView",
            "align_content": null,
            "align_items": null,
            "align_self": null,
            "border": null,
            "bottom": null,
            "display": null,
            "flex": null,
            "flex_flow": null,
            "grid_area": null,
            "grid_auto_columns": null,
            "grid_auto_flow": null,
            "grid_auto_rows": null,
            "grid_column": null,
            "grid_gap": null,
            "grid_row": null,
            "grid_template_areas": null,
            "grid_template_columns": null,
            "grid_template_rows": null,
            "height": null,
            "justify_content": null,
            "justify_items": null,
            "left": null,
            "margin": null,
            "max_height": null,
            "max_width": null,
            "min_height": null,
            "min_width": null,
            "object_fit": null,
            "object_position": null,
            "order": null,
            "overflow": null,
            "overflow_x": null,
            "overflow_y": null,
            "padding": null,
            "right": null,
            "top": null,
            "visibility": null,
            "width": "20px"
          }
        },
        "59d5f72006434038ba9a8a42e686c097": {
          "model_module": "@jupyter-widgets/controls",
          "model_name": "ProgressStyleModel",
          "model_module_version": "1.5.0",
          "state": {
            "_model_module": "@jupyter-widgets/controls",
            "_model_module_version": "1.5.0",
            "_model_name": "ProgressStyleModel",
            "_view_count": null,
            "_view_module": "@jupyter-widgets/base",
            "_view_module_version": "1.2.0",
            "_view_name": "StyleView",
            "bar_color": null,
            "description_width": ""
          }
        },
        "523b5fb2d0184f28883da24108e2ef9d": {
          "model_module": "@jupyter-widgets/base",
          "model_name": "LayoutModel",
          "model_module_version": "1.2.0",
          "state": {
            "_model_module": "@jupyter-widgets/base",
            "_model_module_version": "1.2.0",
            "_model_name": "LayoutModel",
            "_view_count": null,
            "_view_module": "@jupyter-widgets/base",
            "_view_module_version": "1.2.0",
            "_view_name": "LayoutView",
            "align_content": null,
            "align_items": null,
            "align_self": null,
            "border": null,
            "bottom": null,
            "display": null,
            "flex": null,
            "flex_flow": null,
            "grid_area": null,
            "grid_auto_columns": null,
            "grid_auto_flow": null,
            "grid_auto_rows": null,
            "grid_column": null,
            "grid_gap": null,
            "grid_row": null,
            "grid_template_areas": null,
            "grid_template_columns": null,
            "grid_template_rows": null,
            "height": null,
            "justify_content": null,
            "justify_items": null,
            "left": null,
            "margin": null,
            "max_height": null,
            "max_width": null,
            "min_height": null,
            "min_width": null,
            "object_fit": null,
            "object_position": null,
            "order": null,
            "overflow": null,
            "overflow_x": null,
            "overflow_y": null,
            "padding": null,
            "right": null,
            "top": null,
            "visibility": null,
            "width": null
          }
        },
        "95ecc7104d7749d79d0dfe8ab80847da": {
          "model_module": "@jupyter-widgets/controls",
          "model_name": "DescriptionStyleModel",
          "model_module_version": "1.5.0",
          "state": {
            "_model_module": "@jupyter-widgets/controls",
            "_model_module_version": "1.5.0",
            "_model_name": "DescriptionStyleModel",
            "_view_count": null,
            "_view_module": "@jupyter-widgets/base",
            "_view_module_version": "1.2.0",
            "_view_name": "StyleView",
            "description_width": ""
          }
        },
        "66afbc1671d54423b14211f077478618": {
          "model_module": "@jupyter-widgets/controls",
          "model_name": "HBoxModel",
          "model_module_version": "1.5.0",
          "state": {
            "_dom_classes": [],
            "_model_module": "@jupyter-widgets/controls",
            "_model_module_version": "1.5.0",
            "_model_name": "HBoxModel",
            "_view_count": null,
            "_view_module": "@jupyter-widgets/controls",
            "_view_module_version": "1.5.0",
            "_view_name": "HBoxView",
            "box_style": "",
            "children": [
              "IPY_MODEL_9f21d3d0346f44dd83e54e6ea3acc9c3",
              "IPY_MODEL_4dfb4bafc653414e840b5a993add99c5",
              "IPY_MODEL_6c981a34b441445a9cab940f9e44ad07"
            ],
            "layout": "IPY_MODEL_7d20045f10f54dfba3e62706fae5bd5f"
          }
        },
        "9f21d3d0346f44dd83e54e6ea3acc9c3": {
          "model_module": "@jupyter-widgets/controls",
          "model_name": "HTMLModel",
          "model_module_version": "1.5.0",
          "state": {
            "_dom_classes": [],
            "_model_module": "@jupyter-widgets/controls",
            "_model_module_version": "1.5.0",
            "_model_name": "HTMLModel",
            "_view_count": null,
            "_view_module": "@jupyter-widgets/controls",
            "_view_module_version": "1.5.0",
            "_view_name": "HTMLView",
            "description": "",
            "description_tooltip": null,
            "layout": "IPY_MODEL_234e2c422b6944729e636f735f51c571",
            "placeholder": "​",
            "style": "IPY_MODEL_a2898f9f77dd420a9df141a43046f2ce",
            "value": "sentence_bert_config.json: 100%"
          }
        },
        "4dfb4bafc653414e840b5a993add99c5": {
          "model_module": "@jupyter-widgets/controls",
          "model_name": "FloatProgressModel",
          "model_module_version": "1.5.0",
          "state": {
            "_dom_classes": [],
            "_model_module": "@jupyter-widgets/controls",
            "_model_module_version": "1.5.0",
            "_model_name": "FloatProgressModel",
            "_view_count": null,
            "_view_module": "@jupyter-widgets/controls",
            "_view_module_version": "1.5.0",
            "_view_name": "ProgressView",
            "bar_style": "success",
            "description": "",
            "description_tooltip": null,
            "layout": "IPY_MODEL_e11d27ed53504bd5b43d3751b3d7fb2d",
            "max": 53,
            "min": 0,
            "orientation": "horizontal",
            "style": "IPY_MODEL_3c50bb0e40d9462eb39e616d874b8e77",
            "value": 53
          }
        },
        "6c981a34b441445a9cab940f9e44ad07": {
          "model_module": "@jupyter-widgets/controls",
          "model_name": "HTMLModel",
          "model_module_version": "1.5.0",
          "state": {
            "_dom_classes": [],
            "_model_module": "@jupyter-widgets/controls",
            "_model_module_version": "1.5.0",
            "_model_name": "HTMLModel",
            "_view_count": null,
            "_view_module": "@jupyter-widgets/controls",
            "_view_module_version": "1.5.0",
            "_view_name": "HTMLView",
            "description": "",
            "description_tooltip": null,
            "layout": "IPY_MODEL_9455c5fded36441d83e869d57a3ca5f0",
            "placeholder": "​",
            "style": "IPY_MODEL_517679e674f849c2ade07fb0b9fcddbc",
            "value": " 53.0/53.0 [00:00&lt;00:00, 3.03kB/s]"
          }
        },
        "7d20045f10f54dfba3e62706fae5bd5f": {
          "model_module": "@jupyter-widgets/base",
          "model_name": "LayoutModel",
          "model_module_version": "1.2.0",
          "state": {
            "_model_module": "@jupyter-widgets/base",
            "_model_module_version": "1.2.0",
            "_model_name": "LayoutModel",
            "_view_count": null,
            "_view_module": "@jupyter-widgets/base",
            "_view_module_version": "1.2.0",
            "_view_name": "LayoutView",
            "align_content": null,
            "align_items": null,
            "align_self": null,
            "border": null,
            "bottom": null,
            "display": null,
            "flex": null,
            "flex_flow": null,
            "grid_area": null,
            "grid_auto_columns": null,
            "grid_auto_flow": null,
            "grid_auto_rows": null,
            "grid_column": null,
            "grid_gap": null,
            "grid_row": null,
            "grid_template_areas": null,
            "grid_template_columns": null,
            "grid_template_rows": null,
            "height": null,
            "justify_content": null,
            "justify_items": null,
            "left": null,
            "margin": null,
            "max_height": null,
            "max_width": null,
            "min_height": null,
            "min_width": null,
            "object_fit": null,
            "object_position": null,
            "order": null,
            "overflow": null,
            "overflow_x": null,
            "overflow_y": null,
            "padding": null,
            "right": null,
            "top": null,
            "visibility": null,
            "width": null
          }
        },
        "234e2c422b6944729e636f735f51c571": {
          "model_module": "@jupyter-widgets/base",
          "model_name": "LayoutModel",
          "model_module_version": "1.2.0",
          "state": {
            "_model_module": "@jupyter-widgets/base",
            "_model_module_version": "1.2.0",
            "_model_name": "LayoutModel",
            "_view_count": null,
            "_view_module": "@jupyter-widgets/base",
            "_view_module_version": "1.2.0",
            "_view_name": "LayoutView",
            "align_content": null,
            "align_items": null,
            "align_self": null,
            "border": null,
            "bottom": null,
            "display": null,
            "flex": null,
            "flex_flow": null,
            "grid_area": null,
            "grid_auto_columns": null,
            "grid_auto_flow": null,
            "grid_auto_rows": null,
            "grid_column": null,
            "grid_gap": null,
            "grid_row": null,
            "grid_template_areas": null,
            "grid_template_columns": null,
            "grid_template_rows": null,
            "height": null,
            "justify_content": null,
            "justify_items": null,
            "left": null,
            "margin": null,
            "max_height": null,
            "max_width": null,
            "min_height": null,
            "min_width": null,
            "object_fit": null,
            "object_position": null,
            "order": null,
            "overflow": null,
            "overflow_x": null,
            "overflow_y": null,
            "padding": null,
            "right": null,
            "top": null,
            "visibility": null,
            "width": null
          }
        },
        "a2898f9f77dd420a9df141a43046f2ce": {
          "model_module": "@jupyter-widgets/controls",
          "model_name": "DescriptionStyleModel",
          "model_module_version": "1.5.0",
          "state": {
            "_model_module": "@jupyter-widgets/controls",
            "_model_module_version": "1.5.0",
            "_model_name": "DescriptionStyleModel",
            "_view_count": null,
            "_view_module": "@jupyter-widgets/base",
            "_view_module_version": "1.2.0",
            "_view_name": "StyleView",
            "description_width": ""
          }
        },
        "e11d27ed53504bd5b43d3751b3d7fb2d": {
          "model_module": "@jupyter-widgets/base",
          "model_name": "LayoutModel",
          "model_module_version": "1.2.0",
          "state": {
            "_model_module": "@jupyter-widgets/base",
            "_model_module_version": "1.2.0",
            "_model_name": "LayoutModel",
            "_view_count": null,
            "_view_module": "@jupyter-widgets/base",
            "_view_module_version": "1.2.0",
            "_view_name": "LayoutView",
            "align_content": null,
            "align_items": null,
            "align_self": null,
            "border": null,
            "bottom": null,
            "display": null,
            "flex": null,
            "flex_flow": null,
            "grid_area": null,
            "grid_auto_columns": null,
            "grid_auto_flow": null,
            "grid_auto_rows": null,
            "grid_column": null,
            "grid_gap": null,
            "grid_row": null,
            "grid_template_areas": null,
            "grid_template_columns": null,
            "grid_template_rows": null,
            "height": null,
            "justify_content": null,
            "justify_items": null,
            "left": null,
            "margin": null,
            "max_height": null,
            "max_width": null,
            "min_height": null,
            "min_width": null,
            "object_fit": null,
            "object_position": null,
            "order": null,
            "overflow": null,
            "overflow_x": null,
            "overflow_y": null,
            "padding": null,
            "right": null,
            "top": null,
            "visibility": null,
            "width": null
          }
        },
        "3c50bb0e40d9462eb39e616d874b8e77": {
          "model_module": "@jupyter-widgets/controls",
          "model_name": "ProgressStyleModel",
          "model_module_version": "1.5.0",
          "state": {
            "_model_module": "@jupyter-widgets/controls",
            "_model_module_version": "1.5.0",
            "_model_name": "ProgressStyleModel",
            "_view_count": null,
            "_view_module": "@jupyter-widgets/base",
            "_view_module_version": "1.2.0",
            "_view_name": "StyleView",
            "bar_color": null,
            "description_width": ""
          }
        },
        "9455c5fded36441d83e869d57a3ca5f0": {
          "model_module": "@jupyter-widgets/base",
          "model_name": "LayoutModel",
          "model_module_version": "1.2.0",
          "state": {
            "_model_module": "@jupyter-widgets/base",
            "_model_module_version": "1.2.0",
            "_model_name": "LayoutModel",
            "_view_count": null,
            "_view_module": "@jupyter-widgets/base",
            "_view_module_version": "1.2.0",
            "_view_name": "LayoutView",
            "align_content": null,
            "align_items": null,
            "align_self": null,
            "border": null,
            "bottom": null,
            "display": null,
            "flex": null,
            "flex_flow": null,
            "grid_area": null,
            "grid_auto_columns": null,
            "grid_auto_flow": null,
            "grid_auto_rows": null,
            "grid_column": null,
            "grid_gap": null,
            "grid_row": null,
            "grid_template_areas": null,
            "grid_template_columns": null,
            "grid_template_rows": null,
            "height": null,
            "justify_content": null,
            "justify_items": null,
            "left": null,
            "margin": null,
            "max_height": null,
            "max_width": null,
            "min_height": null,
            "min_width": null,
            "object_fit": null,
            "object_position": null,
            "order": null,
            "overflow": null,
            "overflow_x": null,
            "overflow_y": null,
            "padding": null,
            "right": null,
            "top": null,
            "visibility": null,
            "width": null
          }
        },
        "517679e674f849c2ade07fb0b9fcddbc": {
          "model_module": "@jupyter-widgets/controls",
          "model_name": "DescriptionStyleModel",
          "model_module_version": "1.5.0",
          "state": {
            "_model_module": "@jupyter-widgets/controls",
            "_model_module_version": "1.5.0",
            "_model_name": "DescriptionStyleModel",
            "_view_count": null,
            "_view_module": "@jupyter-widgets/base",
            "_view_module_version": "1.2.0",
            "_view_name": "StyleView",
            "description_width": ""
          }
        },
        "293708b77ef243a99f298130bd0abb1b": {
          "model_module": "@jupyter-widgets/controls",
          "model_name": "HBoxModel",
          "model_module_version": "1.5.0",
          "state": {
            "_dom_classes": [],
            "_model_module": "@jupyter-widgets/controls",
            "_model_module_version": "1.5.0",
            "_model_name": "HBoxModel",
            "_view_count": null,
            "_view_module": "@jupyter-widgets/controls",
            "_view_module_version": "1.5.0",
            "_view_name": "HBoxView",
            "box_style": "",
            "children": [
              "IPY_MODEL_2f826d3221a24055aae16d40ba29ea7c",
              "IPY_MODEL_42af3fef4d854b6fb73a46b0988e5e98",
              "IPY_MODEL_b8109affa38e40ba811b7685469c253b"
            ],
            "layout": "IPY_MODEL_5f33333b264a4b1fb3a687c48c56ee15"
          }
        },
        "2f826d3221a24055aae16d40ba29ea7c": {
          "model_module": "@jupyter-widgets/controls",
          "model_name": "HTMLModel",
          "model_module_version": "1.5.0",
          "state": {
            "_dom_classes": [],
            "_model_module": "@jupyter-widgets/controls",
            "_model_module_version": "1.5.0",
            "_model_name": "HTMLModel",
            "_view_count": null,
            "_view_module": "@jupyter-widgets/controls",
            "_view_module_version": "1.5.0",
            "_view_name": "HTMLView",
            "description": "",
            "description_tooltip": null,
            "layout": "IPY_MODEL_a1771b39600c4133bfcb87f710518cb2",
            "placeholder": "​",
            "style": "IPY_MODEL_f95cd3ffb20041b9b7b7a185664bccc6",
            "value": "config.json: 100%"
          }
        },
        "42af3fef4d854b6fb73a46b0988e5e98": {
          "model_module": "@jupyter-widgets/controls",
          "model_name": "FloatProgressModel",
          "model_module_version": "1.5.0",
          "state": {
            "_dom_classes": [],
            "_model_module": "@jupyter-widgets/controls",
            "_model_module_version": "1.5.0",
            "_model_name": "FloatProgressModel",
            "_view_count": null,
            "_view_module": "@jupyter-widgets/controls",
            "_view_module_version": "1.5.0",
            "_view_name": "ProgressView",
            "bar_style": "success",
            "description": "",
            "description_tooltip": null,
            "layout": "IPY_MODEL_0f52839df68f4749afe13f3e96112f3d",
            "max": 571,
            "min": 0,
            "orientation": "horizontal",
            "style": "IPY_MODEL_969ec9b6561e4cecbfca68352e518d94",
            "value": 571
          }
        },
        "b8109affa38e40ba811b7685469c253b": {
          "model_module": "@jupyter-widgets/controls",
          "model_name": "HTMLModel",
          "model_module_version": "1.5.0",
          "state": {
            "_dom_classes": [],
            "_model_module": "@jupyter-widgets/controls",
            "_model_module_version": "1.5.0",
            "_model_name": "HTMLModel",
            "_view_count": null,
            "_view_module": "@jupyter-widgets/controls",
            "_view_module_version": "1.5.0",
            "_view_name": "HTMLView",
            "description": "",
            "description_tooltip": null,
            "layout": "IPY_MODEL_d39fbee07e0e4780bca851d19dd3f583",
            "placeholder": "​",
            "style": "IPY_MODEL_ac3cbe5c6f024d0dbb4b2246080c470e",
            "value": " 571/571 [00:00&lt;00:00, 50.2kB/s]"
          }
        },
        "5f33333b264a4b1fb3a687c48c56ee15": {
          "model_module": "@jupyter-widgets/base",
          "model_name": "LayoutModel",
          "model_module_version": "1.2.0",
          "state": {
            "_model_module": "@jupyter-widgets/base",
            "_model_module_version": "1.2.0",
            "_model_name": "LayoutModel",
            "_view_count": null,
            "_view_module": "@jupyter-widgets/base",
            "_view_module_version": "1.2.0",
            "_view_name": "LayoutView",
            "align_content": null,
            "align_items": null,
            "align_self": null,
            "border": null,
            "bottom": null,
            "display": null,
            "flex": null,
            "flex_flow": null,
            "grid_area": null,
            "grid_auto_columns": null,
            "grid_auto_flow": null,
            "grid_auto_rows": null,
            "grid_column": null,
            "grid_gap": null,
            "grid_row": null,
            "grid_template_areas": null,
            "grid_template_columns": null,
            "grid_template_rows": null,
            "height": null,
            "justify_content": null,
            "justify_items": null,
            "left": null,
            "margin": null,
            "max_height": null,
            "max_width": null,
            "min_height": null,
            "min_width": null,
            "object_fit": null,
            "object_position": null,
            "order": null,
            "overflow": null,
            "overflow_x": null,
            "overflow_y": null,
            "padding": null,
            "right": null,
            "top": null,
            "visibility": null,
            "width": null
          }
        },
        "a1771b39600c4133bfcb87f710518cb2": {
          "model_module": "@jupyter-widgets/base",
          "model_name": "LayoutModel",
          "model_module_version": "1.2.0",
          "state": {
            "_model_module": "@jupyter-widgets/base",
            "_model_module_version": "1.2.0",
            "_model_name": "LayoutModel",
            "_view_count": null,
            "_view_module": "@jupyter-widgets/base",
            "_view_module_version": "1.2.0",
            "_view_name": "LayoutView",
            "align_content": null,
            "align_items": null,
            "align_self": null,
            "border": null,
            "bottom": null,
            "display": null,
            "flex": null,
            "flex_flow": null,
            "grid_area": null,
            "grid_auto_columns": null,
            "grid_auto_flow": null,
            "grid_auto_rows": null,
            "grid_column": null,
            "grid_gap": null,
            "grid_row": null,
            "grid_template_areas": null,
            "grid_template_columns": null,
            "grid_template_rows": null,
            "height": null,
            "justify_content": null,
            "justify_items": null,
            "left": null,
            "margin": null,
            "max_height": null,
            "max_width": null,
            "min_height": null,
            "min_width": null,
            "object_fit": null,
            "object_position": null,
            "order": null,
            "overflow": null,
            "overflow_x": null,
            "overflow_y": null,
            "padding": null,
            "right": null,
            "top": null,
            "visibility": null,
            "width": null
          }
        },
        "f95cd3ffb20041b9b7b7a185664bccc6": {
          "model_module": "@jupyter-widgets/controls",
          "model_name": "DescriptionStyleModel",
          "model_module_version": "1.5.0",
          "state": {
            "_model_module": "@jupyter-widgets/controls",
            "_model_module_version": "1.5.0",
            "_model_name": "DescriptionStyleModel",
            "_view_count": null,
            "_view_module": "@jupyter-widgets/base",
            "_view_module_version": "1.2.0",
            "_view_name": "StyleView",
            "description_width": ""
          }
        },
        "0f52839df68f4749afe13f3e96112f3d": {
          "model_module": "@jupyter-widgets/base",
          "model_name": "LayoutModel",
          "model_module_version": "1.2.0",
          "state": {
            "_model_module": "@jupyter-widgets/base",
            "_model_module_version": "1.2.0",
            "_model_name": "LayoutModel",
            "_view_count": null,
            "_view_module": "@jupyter-widgets/base",
            "_view_module_version": "1.2.0",
            "_view_name": "LayoutView",
            "align_content": null,
            "align_items": null,
            "align_self": null,
            "border": null,
            "bottom": null,
            "display": null,
            "flex": null,
            "flex_flow": null,
            "grid_area": null,
            "grid_auto_columns": null,
            "grid_auto_flow": null,
            "grid_auto_rows": null,
            "grid_column": null,
            "grid_gap": null,
            "grid_row": null,
            "grid_template_areas": null,
            "grid_template_columns": null,
            "grid_template_rows": null,
            "height": null,
            "justify_content": null,
            "justify_items": null,
            "left": null,
            "margin": null,
            "max_height": null,
            "max_width": null,
            "min_height": null,
            "min_width": null,
            "object_fit": null,
            "object_position": null,
            "order": null,
            "overflow": null,
            "overflow_x": null,
            "overflow_y": null,
            "padding": null,
            "right": null,
            "top": null,
            "visibility": null,
            "width": null
          }
        },
        "969ec9b6561e4cecbfca68352e518d94": {
          "model_module": "@jupyter-widgets/controls",
          "model_name": "ProgressStyleModel",
          "model_module_version": "1.5.0",
          "state": {
            "_model_module": "@jupyter-widgets/controls",
            "_model_module_version": "1.5.0",
            "_model_name": "ProgressStyleModel",
            "_view_count": null,
            "_view_module": "@jupyter-widgets/base",
            "_view_module_version": "1.2.0",
            "_view_name": "StyleView",
            "bar_color": null,
            "description_width": ""
          }
        },
        "d39fbee07e0e4780bca851d19dd3f583": {
          "model_module": "@jupyter-widgets/base",
          "model_name": "LayoutModel",
          "model_module_version": "1.2.0",
          "state": {
            "_model_module": "@jupyter-widgets/base",
            "_model_module_version": "1.2.0",
            "_model_name": "LayoutModel",
            "_view_count": null,
            "_view_module": "@jupyter-widgets/base",
            "_view_module_version": "1.2.0",
            "_view_name": "LayoutView",
            "align_content": null,
            "align_items": null,
            "align_self": null,
            "border": null,
            "bottom": null,
            "display": null,
            "flex": null,
            "flex_flow": null,
            "grid_area": null,
            "grid_auto_columns": null,
            "grid_auto_flow": null,
            "grid_auto_rows": null,
            "grid_column": null,
            "grid_gap": null,
            "grid_row": null,
            "grid_template_areas": null,
            "grid_template_columns": null,
            "grid_template_rows": null,
            "height": null,
            "justify_content": null,
            "justify_items": null,
            "left": null,
            "margin": null,
            "max_height": null,
            "max_width": null,
            "min_height": null,
            "min_width": null,
            "object_fit": null,
            "object_position": null,
            "order": null,
            "overflow": null,
            "overflow_x": null,
            "overflow_y": null,
            "padding": null,
            "right": null,
            "top": null,
            "visibility": null,
            "width": null
          }
        },
        "ac3cbe5c6f024d0dbb4b2246080c470e": {
          "model_module": "@jupyter-widgets/controls",
          "model_name": "DescriptionStyleModel",
          "model_module_version": "1.5.0",
          "state": {
            "_model_module": "@jupyter-widgets/controls",
            "_model_module_version": "1.5.0",
            "_model_name": "DescriptionStyleModel",
            "_view_count": null,
            "_view_module": "@jupyter-widgets/base",
            "_view_module_version": "1.2.0",
            "_view_name": "StyleView",
            "description_width": ""
          }
        },
        "326af36f056844479407e93b99cb03d8": {
          "model_module": "@jupyter-widgets/controls",
          "model_name": "HBoxModel",
          "model_module_version": "1.5.0",
          "state": {
            "_dom_classes": [],
            "_model_module": "@jupyter-widgets/controls",
            "_model_module_version": "1.5.0",
            "_model_name": "HBoxModel",
            "_view_count": null,
            "_view_module": "@jupyter-widgets/controls",
            "_view_module_version": "1.5.0",
            "_view_name": "HBoxView",
            "box_style": "",
            "children": [
              "IPY_MODEL_201de2d660964e5fb2f830a0af06332a",
              "IPY_MODEL_d0f1dd5b50464d7bb8364596639434cf",
              "IPY_MODEL_93f2ab5bad08425fbf4851b205fc39d1"
            ],
            "layout": "IPY_MODEL_25fd3bef7e0644f7a5215a286216dbf1"
          }
        },
        "201de2d660964e5fb2f830a0af06332a": {
          "model_module": "@jupyter-widgets/controls",
          "model_name": "HTMLModel",
          "model_module_version": "1.5.0",
          "state": {
            "_dom_classes": [],
            "_model_module": "@jupyter-widgets/controls",
            "_model_module_version": "1.5.0",
            "_model_name": "HTMLModel",
            "_view_count": null,
            "_view_module": "@jupyter-widgets/controls",
            "_view_module_version": "1.5.0",
            "_view_name": "HTMLView",
            "description": "",
            "description_tooltip": null,
            "layout": "IPY_MODEL_9e39f0cea3514a71a63af3fe1563a3a5",
            "placeholder": "​",
            "style": "IPY_MODEL_2baef7bf8048425fb2d6168753227c9a",
            "value": "model.safetensors: 100%"
          }
        },
        "d0f1dd5b50464d7bb8364596639434cf": {
          "model_module": "@jupyter-widgets/controls",
          "model_name": "FloatProgressModel",
          "model_module_version": "1.5.0",
          "state": {
            "_dom_classes": [],
            "_model_module": "@jupyter-widgets/controls",
            "_model_module_version": "1.5.0",
            "_model_name": "FloatProgressModel",
            "_view_count": null,
            "_view_module": "@jupyter-widgets/controls",
            "_view_module_version": "1.5.0",
            "_view_name": "ProgressView",
            "bar_style": "success",
            "description": "",
            "description_tooltip": null,
            "layout": "IPY_MODEL_c0c6ebd4e52d4788992f42d50489b2e1",
            "max": 437971872,
            "min": 0,
            "orientation": "horizontal",
            "style": "IPY_MODEL_0dce6ee05f604caaa4f42464326f649e",
            "value": 437971872
          }
        },
        "93f2ab5bad08425fbf4851b205fc39d1": {
          "model_module": "@jupyter-widgets/controls",
          "model_name": "HTMLModel",
          "model_module_version": "1.5.0",
          "state": {
            "_dom_classes": [],
            "_model_module": "@jupyter-widgets/controls",
            "_model_module_version": "1.5.0",
            "_model_name": "HTMLModel",
            "_view_count": null,
            "_view_module": "@jupyter-widgets/controls",
            "_view_module_version": "1.5.0",
            "_view_name": "HTMLView",
            "description": "",
            "description_tooltip": null,
            "layout": "IPY_MODEL_930c420cd39c4aebab9b42a29c19e156",
            "placeholder": "​",
            "style": "IPY_MODEL_b012bc98bce94b27b42192d5e1dc9ec8",
            "value": " 438M/438M [00:09&lt;00:00, 64.7MB/s]"
          }
        },
        "25fd3bef7e0644f7a5215a286216dbf1": {
          "model_module": "@jupyter-widgets/base",
          "model_name": "LayoutModel",
          "model_module_version": "1.2.0",
          "state": {
            "_model_module": "@jupyter-widgets/base",
            "_model_module_version": "1.2.0",
            "_model_name": "LayoutModel",
            "_view_count": null,
            "_view_module": "@jupyter-widgets/base",
            "_view_module_version": "1.2.0",
            "_view_name": "LayoutView",
            "align_content": null,
            "align_items": null,
            "align_self": null,
            "border": null,
            "bottom": null,
            "display": null,
            "flex": null,
            "flex_flow": null,
            "grid_area": null,
            "grid_auto_columns": null,
            "grid_auto_flow": null,
            "grid_auto_rows": null,
            "grid_column": null,
            "grid_gap": null,
            "grid_row": null,
            "grid_template_areas": null,
            "grid_template_columns": null,
            "grid_template_rows": null,
            "height": null,
            "justify_content": null,
            "justify_items": null,
            "left": null,
            "margin": null,
            "max_height": null,
            "max_width": null,
            "min_height": null,
            "min_width": null,
            "object_fit": null,
            "object_position": null,
            "order": null,
            "overflow": null,
            "overflow_x": null,
            "overflow_y": null,
            "padding": null,
            "right": null,
            "top": null,
            "visibility": null,
            "width": null
          }
        },
        "9e39f0cea3514a71a63af3fe1563a3a5": {
          "model_module": "@jupyter-widgets/base",
          "model_name": "LayoutModel",
          "model_module_version": "1.2.0",
          "state": {
            "_model_module": "@jupyter-widgets/base",
            "_model_module_version": "1.2.0",
            "_model_name": "LayoutModel",
            "_view_count": null,
            "_view_module": "@jupyter-widgets/base",
            "_view_module_version": "1.2.0",
            "_view_name": "LayoutView",
            "align_content": null,
            "align_items": null,
            "align_self": null,
            "border": null,
            "bottom": null,
            "display": null,
            "flex": null,
            "flex_flow": null,
            "grid_area": null,
            "grid_auto_columns": null,
            "grid_auto_flow": null,
            "grid_auto_rows": null,
            "grid_column": null,
            "grid_gap": null,
            "grid_row": null,
            "grid_template_areas": null,
            "grid_template_columns": null,
            "grid_template_rows": null,
            "height": null,
            "justify_content": null,
            "justify_items": null,
            "left": null,
            "margin": null,
            "max_height": null,
            "max_width": null,
            "min_height": null,
            "min_width": null,
            "object_fit": null,
            "object_position": null,
            "order": null,
            "overflow": null,
            "overflow_x": null,
            "overflow_y": null,
            "padding": null,
            "right": null,
            "top": null,
            "visibility": null,
            "width": null
          }
        },
        "2baef7bf8048425fb2d6168753227c9a": {
          "model_module": "@jupyter-widgets/controls",
          "model_name": "DescriptionStyleModel",
          "model_module_version": "1.5.0",
          "state": {
            "_model_module": "@jupyter-widgets/controls",
            "_model_module_version": "1.5.0",
            "_model_name": "DescriptionStyleModel",
            "_view_count": null,
            "_view_module": "@jupyter-widgets/base",
            "_view_module_version": "1.2.0",
            "_view_name": "StyleView",
            "description_width": ""
          }
        },
        "c0c6ebd4e52d4788992f42d50489b2e1": {
          "model_module": "@jupyter-widgets/base",
          "model_name": "LayoutModel",
          "model_module_version": "1.2.0",
          "state": {
            "_model_module": "@jupyter-widgets/base",
            "_model_module_version": "1.2.0",
            "_model_name": "LayoutModel",
            "_view_count": null,
            "_view_module": "@jupyter-widgets/base",
            "_view_module_version": "1.2.0",
            "_view_name": "LayoutView",
            "align_content": null,
            "align_items": null,
            "align_self": null,
            "border": null,
            "bottom": null,
            "display": null,
            "flex": null,
            "flex_flow": null,
            "grid_area": null,
            "grid_auto_columns": null,
            "grid_auto_flow": null,
            "grid_auto_rows": null,
            "grid_column": null,
            "grid_gap": null,
            "grid_row": null,
            "grid_template_areas": null,
            "grid_template_columns": null,
            "grid_template_rows": null,
            "height": null,
            "justify_content": null,
            "justify_items": null,
            "left": null,
            "margin": null,
            "max_height": null,
            "max_width": null,
            "min_height": null,
            "min_width": null,
            "object_fit": null,
            "object_position": null,
            "order": null,
            "overflow": null,
            "overflow_x": null,
            "overflow_y": null,
            "padding": null,
            "right": null,
            "top": null,
            "visibility": null,
            "width": null
          }
        },
        "0dce6ee05f604caaa4f42464326f649e": {
          "model_module": "@jupyter-widgets/controls",
          "model_name": "ProgressStyleModel",
          "model_module_version": "1.5.0",
          "state": {
            "_model_module": "@jupyter-widgets/controls",
            "_model_module_version": "1.5.0",
            "_model_name": "ProgressStyleModel",
            "_view_count": null,
            "_view_module": "@jupyter-widgets/base",
            "_view_module_version": "1.2.0",
            "_view_name": "StyleView",
            "bar_color": null,
            "description_width": ""
          }
        },
        "930c420cd39c4aebab9b42a29c19e156": {
          "model_module": "@jupyter-widgets/base",
          "model_name": "LayoutModel",
          "model_module_version": "1.2.0",
          "state": {
            "_model_module": "@jupyter-widgets/base",
            "_model_module_version": "1.2.0",
            "_model_name": "LayoutModel",
            "_view_count": null,
            "_view_module": "@jupyter-widgets/base",
            "_view_module_version": "1.2.0",
            "_view_name": "LayoutView",
            "align_content": null,
            "align_items": null,
            "align_self": null,
            "border": null,
            "bottom": null,
            "display": null,
            "flex": null,
            "flex_flow": null,
            "grid_area": null,
            "grid_auto_columns": null,
            "grid_auto_flow": null,
            "grid_auto_rows": null,
            "grid_column": null,
            "grid_gap": null,
            "grid_row": null,
            "grid_template_areas": null,
            "grid_template_columns": null,
            "grid_template_rows": null,
            "height": null,
            "justify_content": null,
            "justify_items": null,
            "left": null,
            "margin": null,
            "max_height": null,
            "max_width": null,
            "min_height": null,
            "min_width": null,
            "object_fit": null,
            "object_position": null,
            "order": null,
            "overflow": null,
            "overflow_x": null,
            "overflow_y": null,
            "padding": null,
            "right": null,
            "top": null,
            "visibility": null,
            "width": null
          }
        },
        "b012bc98bce94b27b42192d5e1dc9ec8": {
          "model_module": "@jupyter-widgets/controls",
          "model_name": "DescriptionStyleModel",
          "model_module_version": "1.5.0",
          "state": {
            "_model_module": "@jupyter-widgets/controls",
            "_model_module_version": "1.5.0",
            "_model_name": "DescriptionStyleModel",
            "_view_count": null,
            "_view_module": "@jupyter-widgets/base",
            "_view_module_version": "1.2.0",
            "_view_name": "StyleView",
            "description_width": ""
          }
        },
        "981875442fa94419858beaf4d7f6d610": {
          "model_module": "@jupyter-widgets/controls",
          "model_name": "HBoxModel",
          "model_module_version": "1.5.0",
          "state": {
            "_dom_classes": [],
            "_model_module": "@jupyter-widgets/controls",
            "_model_module_version": "1.5.0",
            "_model_name": "HBoxModel",
            "_view_count": null,
            "_view_module": "@jupyter-widgets/controls",
            "_view_module_version": "1.5.0",
            "_view_name": "HBoxView",
            "box_style": "",
            "children": [
              "IPY_MODEL_a35aadabb85145acb84c4793ebb2d5f1",
              "IPY_MODEL_41bca52d34604768aa7ec21d8db1c6fb",
              "IPY_MODEL_3b1366b3c76d414cae9fe7efe19e88b8"
            ],
            "layout": "IPY_MODEL_f9bc297e3d8f420a8a5b9edfd22d2c66"
          }
        },
        "a35aadabb85145acb84c4793ebb2d5f1": {
          "model_module": "@jupyter-widgets/controls",
          "model_name": "HTMLModel",
          "model_module_version": "1.5.0",
          "state": {
            "_dom_classes": [],
            "_model_module": "@jupyter-widgets/controls",
            "_model_module_version": "1.5.0",
            "_model_name": "HTMLModel",
            "_view_count": null,
            "_view_module": "@jupyter-widgets/controls",
            "_view_module_version": "1.5.0",
            "_view_name": "HTMLView",
            "description": "",
            "description_tooltip": null,
            "layout": "IPY_MODEL_9d4a75e29a754455a85fd71d1280a88f",
            "placeholder": "​",
            "style": "IPY_MODEL_fdd016cea07f47258658f28c19ff57c3",
            "value": "tokenizer_config.json: 100%"
          }
        },
        "41bca52d34604768aa7ec21d8db1c6fb": {
          "model_module": "@jupyter-widgets/controls",
          "model_name": "FloatProgressModel",
          "model_module_version": "1.5.0",
          "state": {
            "_dom_classes": [],
            "_model_module": "@jupyter-widgets/controls",
            "_model_module_version": "1.5.0",
            "_model_name": "FloatProgressModel",
            "_view_count": null,
            "_view_module": "@jupyter-widgets/controls",
            "_view_module_version": "1.5.0",
            "_view_name": "ProgressView",
            "bar_style": "success",
            "description": "",
            "description_tooltip": null,
            "layout": "IPY_MODEL_d893c556f34340d1976c28c2e0b21168",
            "max": 363,
            "min": 0,
            "orientation": "horizontal",
            "style": "IPY_MODEL_e144e0e57d854b578fd004598f42635a",
            "value": 363
          }
        },
        "3b1366b3c76d414cae9fe7efe19e88b8": {
          "model_module": "@jupyter-widgets/controls",
          "model_name": "HTMLModel",
          "model_module_version": "1.5.0",
          "state": {
            "_dom_classes": [],
            "_model_module": "@jupyter-widgets/controls",
            "_model_module_version": "1.5.0",
            "_model_name": "HTMLModel",
            "_view_count": null,
            "_view_module": "@jupyter-widgets/controls",
            "_view_module_version": "1.5.0",
            "_view_name": "HTMLView",
            "description": "",
            "description_tooltip": null,
            "layout": "IPY_MODEL_992b03ff13b94a80854428c905bddfa8",
            "placeholder": "​",
            "style": "IPY_MODEL_606e7f18b17f4e6e9a5d7d4b354d472c",
            "value": " 363/363 [00:00&lt;00:00, 25.2kB/s]"
          }
        },
        "f9bc297e3d8f420a8a5b9edfd22d2c66": {
          "model_module": "@jupyter-widgets/base",
          "model_name": "LayoutModel",
          "model_module_version": "1.2.0",
          "state": {
            "_model_module": "@jupyter-widgets/base",
            "_model_module_version": "1.2.0",
            "_model_name": "LayoutModel",
            "_view_count": null,
            "_view_module": "@jupyter-widgets/base",
            "_view_module_version": "1.2.0",
            "_view_name": "LayoutView",
            "align_content": null,
            "align_items": null,
            "align_self": null,
            "border": null,
            "bottom": null,
            "display": null,
            "flex": null,
            "flex_flow": null,
            "grid_area": null,
            "grid_auto_columns": null,
            "grid_auto_flow": null,
            "grid_auto_rows": null,
            "grid_column": null,
            "grid_gap": null,
            "grid_row": null,
            "grid_template_areas": null,
            "grid_template_columns": null,
            "grid_template_rows": null,
            "height": null,
            "justify_content": null,
            "justify_items": null,
            "left": null,
            "margin": null,
            "max_height": null,
            "max_width": null,
            "min_height": null,
            "min_width": null,
            "object_fit": null,
            "object_position": null,
            "order": null,
            "overflow": null,
            "overflow_x": null,
            "overflow_y": null,
            "padding": null,
            "right": null,
            "top": null,
            "visibility": null,
            "width": null
          }
        },
        "9d4a75e29a754455a85fd71d1280a88f": {
          "model_module": "@jupyter-widgets/base",
          "model_name": "LayoutModel",
          "model_module_version": "1.2.0",
          "state": {
            "_model_module": "@jupyter-widgets/base",
            "_model_module_version": "1.2.0",
            "_model_name": "LayoutModel",
            "_view_count": null,
            "_view_module": "@jupyter-widgets/base",
            "_view_module_version": "1.2.0",
            "_view_name": "LayoutView",
            "align_content": null,
            "align_items": null,
            "align_self": null,
            "border": null,
            "bottom": null,
            "display": null,
            "flex": null,
            "flex_flow": null,
            "grid_area": null,
            "grid_auto_columns": null,
            "grid_auto_flow": null,
            "grid_auto_rows": null,
            "grid_column": null,
            "grid_gap": null,
            "grid_row": null,
            "grid_template_areas": null,
            "grid_template_columns": null,
            "grid_template_rows": null,
            "height": null,
            "justify_content": null,
            "justify_items": null,
            "left": null,
            "margin": null,
            "max_height": null,
            "max_width": null,
            "min_height": null,
            "min_width": null,
            "object_fit": null,
            "object_position": null,
            "order": null,
            "overflow": null,
            "overflow_x": null,
            "overflow_y": null,
            "padding": null,
            "right": null,
            "top": null,
            "visibility": null,
            "width": null
          }
        },
        "fdd016cea07f47258658f28c19ff57c3": {
          "model_module": "@jupyter-widgets/controls",
          "model_name": "DescriptionStyleModel",
          "model_module_version": "1.5.0",
          "state": {
            "_model_module": "@jupyter-widgets/controls",
            "_model_module_version": "1.5.0",
            "_model_name": "DescriptionStyleModel",
            "_view_count": null,
            "_view_module": "@jupyter-widgets/base",
            "_view_module_version": "1.2.0",
            "_view_name": "StyleView",
            "description_width": ""
          }
        },
        "d893c556f34340d1976c28c2e0b21168": {
          "model_module": "@jupyter-widgets/base",
          "model_name": "LayoutModel",
          "model_module_version": "1.2.0",
          "state": {
            "_model_module": "@jupyter-widgets/base",
            "_model_module_version": "1.2.0",
            "_model_name": "LayoutModel",
            "_view_count": null,
            "_view_module": "@jupyter-widgets/base",
            "_view_module_version": "1.2.0",
            "_view_name": "LayoutView",
            "align_content": null,
            "align_items": null,
            "align_self": null,
            "border": null,
            "bottom": null,
            "display": null,
            "flex": null,
            "flex_flow": null,
            "grid_area": null,
            "grid_auto_columns": null,
            "grid_auto_flow": null,
            "grid_auto_rows": null,
            "grid_column": null,
            "grid_gap": null,
            "grid_row": null,
            "grid_template_areas": null,
            "grid_template_columns": null,
            "grid_template_rows": null,
            "height": null,
            "justify_content": null,
            "justify_items": null,
            "left": null,
            "margin": null,
            "max_height": null,
            "max_width": null,
            "min_height": null,
            "min_width": null,
            "object_fit": null,
            "object_position": null,
            "order": null,
            "overflow": null,
            "overflow_x": null,
            "overflow_y": null,
            "padding": null,
            "right": null,
            "top": null,
            "visibility": null,
            "width": null
          }
        },
        "e144e0e57d854b578fd004598f42635a": {
          "model_module": "@jupyter-widgets/controls",
          "model_name": "ProgressStyleModel",
          "model_module_version": "1.5.0",
          "state": {
            "_model_module": "@jupyter-widgets/controls",
            "_model_module_version": "1.5.0",
            "_model_name": "ProgressStyleModel",
            "_view_count": null,
            "_view_module": "@jupyter-widgets/base",
            "_view_module_version": "1.2.0",
            "_view_name": "StyleView",
            "bar_color": null,
            "description_width": ""
          }
        },
        "992b03ff13b94a80854428c905bddfa8": {
          "model_module": "@jupyter-widgets/base",
          "model_name": "LayoutModel",
          "model_module_version": "1.2.0",
          "state": {
            "_model_module": "@jupyter-widgets/base",
            "_model_module_version": "1.2.0",
            "_model_name": "LayoutModel",
            "_view_count": null,
            "_view_module": "@jupyter-widgets/base",
            "_view_module_version": "1.2.0",
            "_view_name": "LayoutView",
            "align_content": null,
            "align_items": null,
            "align_self": null,
            "border": null,
            "bottom": null,
            "display": null,
            "flex": null,
            "flex_flow": null,
            "grid_area": null,
            "grid_auto_columns": null,
            "grid_auto_flow": null,
            "grid_auto_rows": null,
            "grid_column": null,
            "grid_gap": null,
            "grid_row": null,
            "grid_template_areas": null,
            "grid_template_columns": null,
            "grid_template_rows": null,
            "height": null,
            "justify_content": null,
            "justify_items": null,
            "left": null,
            "margin": null,
            "max_height": null,
            "max_width": null,
            "min_height": null,
            "min_width": null,
            "object_fit": null,
            "object_position": null,
            "order": null,
            "overflow": null,
            "overflow_x": null,
            "overflow_y": null,
            "padding": null,
            "right": null,
            "top": null,
            "visibility": null,
            "width": null
          }
        },
        "606e7f18b17f4e6e9a5d7d4b354d472c": {
          "model_module": "@jupyter-widgets/controls",
          "model_name": "DescriptionStyleModel",
          "model_module_version": "1.5.0",
          "state": {
            "_model_module": "@jupyter-widgets/controls",
            "_model_module_version": "1.5.0",
            "_model_name": "DescriptionStyleModel",
            "_view_count": null,
            "_view_module": "@jupyter-widgets/base",
            "_view_module_version": "1.2.0",
            "_view_name": "StyleView",
            "description_width": ""
          }
        },
        "5f145766efca4b3880dade2478e2d9fe": {
          "model_module": "@jupyter-widgets/controls",
          "model_name": "HBoxModel",
          "model_module_version": "1.5.0",
          "state": {
            "_dom_classes": [],
            "_model_module": "@jupyter-widgets/controls",
            "_model_module_version": "1.5.0",
            "_model_name": "HBoxModel",
            "_view_count": null,
            "_view_module": "@jupyter-widgets/controls",
            "_view_module_version": "1.5.0",
            "_view_name": "HBoxView",
            "box_style": "",
            "children": [
              "IPY_MODEL_6270ee2f7e154ffaa4a8e31ec98d2be0",
              "IPY_MODEL_9eb44d34943b42a3b4256df96d33fe55",
              "IPY_MODEL_3435651246ae48a1b3b6ee351623d0c8"
            ],
            "layout": "IPY_MODEL_3fcda6cd38f24db8991a0d7e6f073659"
          }
        },
        "6270ee2f7e154ffaa4a8e31ec98d2be0": {
          "model_module": "@jupyter-widgets/controls",
          "model_name": "HTMLModel",
          "model_module_version": "1.5.0",
          "state": {
            "_dom_classes": [],
            "_model_module": "@jupyter-widgets/controls",
            "_model_module_version": "1.5.0",
            "_model_name": "HTMLModel",
            "_view_count": null,
            "_view_module": "@jupyter-widgets/controls",
            "_view_module_version": "1.5.0",
            "_view_name": "HTMLView",
            "description": "",
            "description_tooltip": null,
            "layout": "IPY_MODEL_bad7f9d62f2744989e388c927799b8c9",
            "placeholder": "​",
            "style": "IPY_MODEL_36677e56a2304198b8ff3ecc2c7cfde0",
            "value": "vocab.txt: "
          }
        },
        "9eb44d34943b42a3b4256df96d33fe55": {
          "model_module": "@jupyter-widgets/controls",
          "model_name": "FloatProgressModel",
          "model_module_version": "1.5.0",
          "state": {
            "_dom_classes": [],
            "_model_module": "@jupyter-widgets/controls",
            "_model_module_version": "1.5.0",
            "_model_name": "FloatProgressModel",
            "_view_count": null,
            "_view_module": "@jupyter-widgets/controls",
            "_view_module_version": "1.5.0",
            "_view_name": "ProgressView",
            "bar_style": "success",
            "description": "",
            "description_tooltip": null,
            "layout": "IPY_MODEL_586a69c661b7494c87256042e7b982d7",
            "max": 1,
            "min": 0,
            "orientation": "horizontal",
            "style": "IPY_MODEL_eefcca028f1c4d918e763e3fec097e51",
            "value": 1
          }
        },
        "3435651246ae48a1b3b6ee351623d0c8": {
          "model_module": "@jupyter-widgets/controls",
          "model_name": "HTMLModel",
          "model_module_version": "1.5.0",
          "state": {
            "_dom_classes": [],
            "_model_module": "@jupyter-widgets/controls",
            "_model_module_version": "1.5.0",
            "_model_name": "HTMLModel",
            "_view_count": null,
            "_view_module": "@jupyter-widgets/controls",
            "_view_module_version": "1.5.0",
            "_view_name": "HTMLView",
            "description": "",
            "description_tooltip": null,
            "layout": "IPY_MODEL_edb1b804658b497a934852e95e5fc17f",
            "placeholder": "​",
            "style": "IPY_MODEL_18ec392e0c9c4fe088676f8a34a9a7e8",
            "value": " 232k/? [00:00&lt;00:00, 9.18MB/s]"
          }
        },
        "3fcda6cd38f24db8991a0d7e6f073659": {
          "model_module": "@jupyter-widgets/base",
          "model_name": "LayoutModel",
          "model_module_version": "1.2.0",
          "state": {
            "_model_module": "@jupyter-widgets/base",
            "_model_module_version": "1.2.0",
            "_model_name": "LayoutModel",
            "_view_count": null,
            "_view_module": "@jupyter-widgets/base",
            "_view_module_version": "1.2.0",
            "_view_name": "LayoutView",
            "align_content": null,
            "align_items": null,
            "align_self": null,
            "border": null,
            "bottom": null,
            "display": null,
            "flex": null,
            "flex_flow": null,
            "grid_area": null,
            "grid_auto_columns": null,
            "grid_auto_flow": null,
            "grid_auto_rows": null,
            "grid_column": null,
            "grid_gap": null,
            "grid_row": null,
            "grid_template_areas": null,
            "grid_template_columns": null,
            "grid_template_rows": null,
            "height": null,
            "justify_content": null,
            "justify_items": null,
            "left": null,
            "margin": null,
            "max_height": null,
            "max_width": null,
            "min_height": null,
            "min_width": null,
            "object_fit": null,
            "object_position": null,
            "order": null,
            "overflow": null,
            "overflow_x": null,
            "overflow_y": null,
            "padding": null,
            "right": null,
            "top": null,
            "visibility": null,
            "width": null
          }
        },
        "bad7f9d62f2744989e388c927799b8c9": {
          "model_module": "@jupyter-widgets/base",
          "model_name": "LayoutModel",
          "model_module_version": "1.2.0",
          "state": {
            "_model_module": "@jupyter-widgets/base",
            "_model_module_version": "1.2.0",
            "_model_name": "LayoutModel",
            "_view_count": null,
            "_view_module": "@jupyter-widgets/base",
            "_view_module_version": "1.2.0",
            "_view_name": "LayoutView",
            "align_content": null,
            "align_items": null,
            "align_self": null,
            "border": null,
            "bottom": null,
            "display": null,
            "flex": null,
            "flex_flow": null,
            "grid_area": null,
            "grid_auto_columns": null,
            "grid_auto_flow": null,
            "grid_auto_rows": null,
            "grid_column": null,
            "grid_gap": null,
            "grid_row": null,
            "grid_template_areas": null,
            "grid_template_columns": null,
            "grid_template_rows": null,
            "height": null,
            "justify_content": null,
            "justify_items": null,
            "left": null,
            "margin": null,
            "max_height": null,
            "max_width": null,
            "min_height": null,
            "min_width": null,
            "object_fit": null,
            "object_position": null,
            "order": null,
            "overflow": null,
            "overflow_x": null,
            "overflow_y": null,
            "padding": null,
            "right": null,
            "top": null,
            "visibility": null,
            "width": null
          }
        },
        "36677e56a2304198b8ff3ecc2c7cfde0": {
          "model_module": "@jupyter-widgets/controls",
          "model_name": "DescriptionStyleModel",
          "model_module_version": "1.5.0",
          "state": {
            "_model_module": "@jupyter-widgets/controls",
            "_model_module_version": "1.5.0",
            "_model_name": "DescriptionStyleModel",
            "_view_count": null,
            "_view_module": "@jupyter-widgets/base",
            "_view_module_version": "1.2.0",
            "_view_name": "StyleView",
            "description_width": ""
          }
        },
        "586a69c661b7494c87256042e7b982d7": {
          "model_module": "@jupyter-widgets/base",
          "model_name": "LayoutModel",
          "model_module_version": "1.2.0",
          "state": {
            "_model_module": "@jupyter-widgets/base",
            "_model_module_version": "1.2.0",
            "_model_name": "LayoutModel",
            "_view_count": null,
            "_view_module": "@jupyter-widgets/base",
            "_view_module_version": "1.2.0",
            "_view_name": "LayoutView",
            "align_content": null,
            "align_items": null,
            "align_self": null,
            "border": null,
            "bottom": null,
            "display": null,
            "flex": null,
            "flex_flow": null,
            "grid_area": null,
            "grid_auto_columns": null,
            "grid_auto_flow": null,
            "grid_auto_rows": null,
            "grid_column": null,
            "grid_gap": null,
            "grid_row": null,
            "grid_template_areas": null,
            "grid_template_columns": null,
            "grid_template_rows": null,
            "height": null,
            "justify_content": null,
            "justify_items": null,
            "left": null,
            "margin": null,
            "max_height": null,
            "max_width": null,
            "min_height": null,
            "min_width": null,
            "object_fit": null,
            "object_position": null,
            "order": null,
            "overflow": null,
            "overflow_x": null,
            "overflow_y": null,
            "padding": null,
            "right": null,
            "top": null,
            "visibility": null,
            "width": "20px"
          }
        },
        "eefcca028f1c4d918e763e3fec097e51": {
          "model_module": "@jupyter-widgets/controls",
          "model_name": "ProgressStyleModel",
          "model_module_version": "1.5.0",
          "state": {
            "_model_module": "@jupyter-widgets/controls",
            "_model_module_version": "1.5.0",
            "_model_name": "ProgressStyleModel",
            "_view_count": null,
            "_view_module": "@jupyter-widgets/base",
            "_view_module_version": "1.2.0",
            "_view_name": "StyleView",
            "bar_color": null,
            "description_width": ""
          }
        },
        "edb1b804658b497a934852e95e5fc17f": {
          "model_module": "@jupyter-widgets/base",
          "model_name": "LayoutModel",
          "model_module_version": "1.2.0",
          "state": {
            "_model_module": "@jupyter-widgets/base",
            "_model_module_version": "1.2.0",
            "_model_name": "LayoutModel",
            "_view_count": null,
            "_view_module": "@jupyter-widgets/base",
            "_view_module_version": "1.2.0",
            "_view_name": "LayoutView",
            "align_content": null,
            "align_items": null,
            "align_self": null,
            "border": null,
            "bottom": null,
            "display": null,
            "flex": null,
            "flex_flow": null,
            "grid_area": null,
            "grid_auto_columns": null,
            "grid_auto_flow": null,
            "grid_auto_rows": null,
            "grid_column": null,
            "grid_gap": null,
            "grid_row": null,
            "grid_template_areas": null,
            "grid_template_columns": null,
            "grid_template_rows": null,
            "height": null,
            "justify_content": null,
            "justify_items": null,
            "left": null,
            "margin": null,
            "max_height": null,
            "max_width": null,
            "min_height": null,
            "min_width": null,
            "object_fit": null,
            "object_position": null,
            "order": null,
            "overflow": null,
            "overflow_x": null,
            "overflow_y": null,
            "padding": null,
            "right": null,
            "top": null,
            "visibility": null,
            "width": null
          }
        },
        "18ec392e0c9c4fe088676f8a34a9a7e8": {
          "model_module": "@jupyter-widgets/controls",
          "model_name": "DescriptionStyleModel",
          "model_module_version": "1.5.0",
          "state": {
            "_model_module": "@jupyter-widgets/controls",
            "_model_module_version": "1.5.0",
            "_model_name": "DescriptionStyleModel",
            "_view_count": null,
            "_view_module": "@jupyter-widgets/base",
            "_view_module_version": "1.2.0",
            "_view_name": "StyleView",
            "description_width": ""
          }
        },
        "2d9232ff1a9d47eeb2dc2835f00bcb25": {
          "model_module": "@jupyter-widgets/controls",
          "model_name": "HBoxModel",
          "model_module_version": "1.5.0",
          "state": {
            "_dom_classes": [],
            "_model_module": "@jupyter-widgets/controls",
            "_model_module_version": "1.5.0",
            "_model_name": "HBoxModel",
            "_view_count": null,
            "_view_module": "@jupyter-widgets/controls",
            "_view_module_version": "1.5.0",
            "_view_name": "HBoxView",
            "box_style": "",
            "children": [
              "IPY_MODEL_650aeac81fa049c981e7ad186d99c492",
              "IPY_MODEL_a04792224a6f4abd9a64a86f973a77cf",
              "IPY_MODEL_eb45e0b3452e41a38dcf5c668e33f478"
            ],
            "layout": "IPY_MODEL_2d59c82232274bce90a195939aae46ac"
          }
        },
        "650aeac81fa049c981e7ad186d99c492": {
          "model_module": "@jupyter-widgets/controls",
          "model_name": "HTMLModel",
          "model_module_version": "1.5.0",
          "state": {
            "_dom_classes": [],
            "_model_module": "@jupyter-widgets/controls",
            "_model_module_version": "1.5.0",
            "_model_name": "HTMLModel",
            "_view_count": null,
            "_view_module": "@jupyter-widgets/controls",
            "_view_module_version": "1.5.0",
            "_view_name": "HTMLView",
            "description": "",
            "description_tooltip": null,
            "layout": "IPY_MODEL_6e7802e748f941d6bde3671541d25f06",
            "placeholder": "​",
            "style": "IPY_MODEL_ada546d9c4814b888d0ba3c743e6e185",
            "value": "tokenizer.json: "
          }
        },
        "a04792224a6f4abd9a64a86f973a77cf": {
          "model_module": "@jupyter-widgets/controls",
          "model_name": "FloatProgressModel",
          "model_module_version": "1.5.0",
          "state": {
            "_dom_classes": [],
            "_model_module": "@jupyter-widgets/controls",
            "_model_module_version": "1.5.0",
            "_model_name": "FloatProgressModel",
            "_view_count": null,
            "_view_module": "@jupyter-widgets/controls",
            "_view_module_version": "1.5.0",
            "_view_name": "ProgressView",
            "bar_style": "success",
            "description": "",
            "description_tooltip": null,
            "layout": "IPY_MODEL_fb9b5843e692435fbfbab4dc57dfdb02",
            "max": 1,
            "min": 0,
            "orientation": "horizontal",
            "style": "IPY_MODEL_534e813a9e58428f8ad80797664df9b9",
            "value": 1
          }
        },
        "eb45e0b3452e41a38dcf5c668e33f478": {
          "model_module": "@jupyter-widgets/controls",
          "model_name": "HTMLModel",
          "model_module_version": "1.5.0",
          "state": {
            "_dom_classes": [],
            "_model_module": "@jupyter-widgets/controls",
            "_model_module_version": "1.5.0",
            "_model_name": "HTMLModel",
            "_view_count": null,
            "_view_module": "@jupyter-widgets/controls",
            "_view_module_version": "1.5.0",
            "_view_name": "HTMLView",
            "description": "",
            "description_tooltip": null,
            "layout": "IPY_MODEL_8a9c48172ffe42cc819dbcf3f519c42e",
            "placeholder": "​",
            "style": "IPY_MODEL_0d5890eaae7d48b387c93dc635e3dfab",
            "value": " 466k/? [00:00&lt;00:00, 14.9MB/s]"
          }
        },
        "2d59c82232274bce90a195939aae46ac": {
          "model_module": "@jupyter-widgets/base",
          "model_name": "LayoutModel",
          "model_module_version": "1.2.0",
          "state": {
            "_model_module": "@jupyter-widgets/base",
            "_model_module_version": "1.2.0",
            "_model_name": "LayoutModel",
            "_view_count": null,
            "_view_module": "@jupyter-widgets/base",
            "_view_module_version": "1.2.0",
            "_view_name": "LayoutView",
            "align_content": null,
            "align_items": null,
            "align_self": null,
            "border": null,
            "bottom": null,
            "display": null,
            "flex": null,
            "flex_flow": null,
            "grid_area": null,
            "grid_auto_columns": null,
            "grid_auto_flow": null,
            "grid_auto_rows": null,
            "grid_column": null,
            "grid_gap": null,
            "grid_row": null,
            "grid_template_areas": null,
            "grid_template_columns": null,
            "grid_template_rows": null,
            "height": null,
            "justify_content": null,
            "justify_items": null,
            "left": null,
            "margin": null,
            "max_height": null,
            "max_width": null,
            "min_height": null,
            "min_width": null,
            "object_fit": null,
            "object_position": null,
            "order": null,
            "overflow": null,
            "overflow_x": null,
            "overflow_y": null,
            "padding": null,
            "right": null,
            "top": null,
            "visibility": null,
            "width": null
          }
        },
        "6e7802e748f941d6bde3671541d25f06": {
          "model_module": "@jupyter-widgets/base",
          "model_name": "LayoutModel",
          "model_module_version": "1.2.0",
          "state": {
            "_model_module": "@jupyter-widgets/base",
            "_model_module_version": "1.2.0",
            "_model_name": "LayoutModel",
            "_view_count": null,
            "_view_module": "@jupyter-widgets/base",
            "_view_module_version": "1.2.0",
            "_view_name": "LayoutView",
            "align_content": null,
            "align_items": null,
            "align_self": null,
            "border": null,
            "bottom": null,
            "display": null,
            "flex": null,
            "flex_flow": null,
            "grid_area": null,
            "grid_auto_columns": null,
            "grid_auto_flow": null,
            "grid_auto_rows": null,
            "grid_column": null,
            "grid_gap": null,
            "grid_row": null,
            "grid_template_areas": null,
            "grid_template_columns": null,
            "grid_template_rows": null,
            "height": null,
            "justify_content": null,
            "justify_items": null,
            "left": null,
            "margin": null,
            "max_height": null,
            "max_width": null,
            "min_height": null,
            "min_width": null,
            "object_fit": null,
            "object_position": null,
            "order": null,
            "overflow": null,
            "overflow_x": null,
            "overflow_y": null,
            "padding": null,
            "right": null,
            "top": null,
            "visibility": null,
            "width": null
          }
        },
        "ada546d9c4814b888d0ba3c743e6e185": {
          "model_module": "@jupyter-widgets/controls",
          "model_name": "DescriptionStyleModel",
          "model_module_version": "1.5.0",
          "state": {
            "_model_module": "@jupyter-widgets/controls",
            "_model_module_version": "1.5.0",
            "_model_name": "DescriptionStyleModel",
            "_view_count": null,
            "_view_module": "@jupyter-widgets/base",
            "_view_module_version": "1.2.0",
            "_view_name": "StyleView",
            "description_width": ""
          }
        },
        "fb9b5843e692435fbfbab4dc57dfdb02": {
          "model_module": "@jupyter-widgets/base",
          "model_name": "LayoutModel",
          "model_module_version": "1.2.0",
          "state": {
            "_model_module": "@jupyter-widgets/base",
            "_model_module_version": "1.2.0",
            "_model_name": "LayoutModel",
            "_view_count": null,
            "_view_module": "@jupyter-widgets/base",
            "_view_module_version": "1.2.0",
            "_view_name": "LayoutView",
            "align_content": null,
            "align_items": null,
            "align_self": null,
            "border": null,
            "bottom": null,
            "display": null,
            "flex": null,
            "flex_flow": null,
            "grid_area": null,
            "grid_auto_columns": null,
            "grid_auto_flow": null,
            "grid_auto_rows": null,
            "grid_column": null,
            "grid_gap": null,
            "grid_row": null,
            "grid_template_areas": null,
            "grid_template_columns": null,
            "grid_template_rows": null,
            "height": null,
            "justify_content": null,
            "justify_items": null,
            "left": null,
            "margin": null,
            "max_height": null,
            "max_width": null,
            "min_height": null,
            "min_width": null,
            "object_fit": null,
            "object_position": null,
            "order": null,
            "overflow": null,
            "overflow_x": null,
            "overflow_y": null,
            "padding": null,
            "right": null,
            "top": null,
            "visibility": null,
            "width": "20px"
          }
        },
        "534e813a9e58428f8ad80797664df9b9": {
          "model_module": "@jupyter-widgets/controls",
          "model_name": "ProgressStyleModel",
          "model_module_version": "1.5.0",
          "state": {
            "_model_module": "@jupyter-widgets/controls",
            "_model_module_version": "1.5.0",
            "_model_name": "ProgressStyleModel",
            "_view_count": null,
            "_view_module": "@jupyter-widgets/base",
            "_view_module_version": "1.2.0",
            "_view_name": "StyleView",
            "bar_color": null,
            "description_width": ""
          }
        },
        "8a9c48172ffe42cc819dbcf3f519c42e": {
          "model_module": "@jupyter-widgets/base",
          "model_name": "LayoutModel",
          "model_module_version": "1.2.0",
          "state": {
            "_model_module": "@jupyter-widgets/base",
            "_model_module_version": "1.2.0",
            "_model_name": "LayoutModel",
            "_view_count": null,
            "_view_module": "@jupyter-widgets/base",
            "_view_module_version": "1.2.0",
            "_view_name": "LayoutView",
            "align_content": null,
            "align_items": null,
            "align_self": null,
            "border": null,
            "bottom": null,
            "display": null,
            "flex": null,
            "flex_flow": null,
            "grid_area": null,
            "grid_auto_columns": null,
            "grid_auto_flow": null,
            "grid_auto_rows": null,
            "grid_column": null,
            "grid_gap": null,
            "grid_row": null,
            "grid_template_areas": null,
            "grid_template_columns": null,
            "grid_template_rows": null,
            "height": null,
            "justify_content": null,
            "justify_items": null,
            "left": null,
            "margin": null,
            "max_height": null,
            "max_width": null,
            "min_height": null,
            "min_width": null,
            "object_fit": null,
            "object_position": null,
            "order": null,
            "overflow": null,
            "overflow_x": null,
            "overflow_y": null,
            "padding": null,
            "right": null,
            "top": null,
            "visibility": null,
            "width": null
          }
        },
        "0d5890eaae7d48b387c93dc635e3dfab": {
          "model_module": "@jupyter-widgets/controls",
          "model_name": "DescriptionStyleModel",
          "model_module_version": "1.5.0",
          "state": {
            "_model_module": "@jupyter-widgets/controls",
            "_model_module_version": "1.5.0",
            "_model_name": "DescriptionStyleModel",
            "_view_count": null,
            "_view_module": "@jupyter-widgets/base",
            "_view_module_version": "1.2.0",
            "_view_name": "StyleView",
            "description_width": ""
          }
        },
        "ff9de64e725a43bc9ff8b9fd9299f00c": {
          "model_module": "@jupyter-widgets/controls",
          "model_name": "HBoxModel",
          "model_module_version": "1.5.0",
          "state": {
            "_dom_classes": [],
            "_model_module": "@jupyter-widgets/controls",
            "_model_module_version": "1.5.0",
            "_model_name": "HBoxModel",
            "_view_count": null,
            "_view_module": "@jupyter-widgets/controls",
            "_view_module_version": "1.5.0",
            "_view_name": "HBoxView",
            "box_style": "",
            "children": [
              "IPY_MODEL_90b0cb2063364f07a3c261710921d3a5",
              "IPY_MODEL_78b6770fc15f4a059e92d9f16ac1074f",
              "IPY_MODEL_434240be3266461e812a8b2faef6b174"
            ],
            "layout": "IPY_MODEL_0066c3189f69469cb3e07924a8cbf3b6"
          }
        },
        "90b0cb2063364f07a3c261710921d3a5": {
          "model_module": "@jupyter-widgets/controls",
          "model_name": "HTMLModel",
          "model_module_version": "1.5.0",
          "state": {
            "_dom_classes": [],
            "_model_module": "@jupyter-widgets/controls",
            "_model_module_version": "1.5.0",
            "_model_name": "HTMLModel",
            "_view_count": null,
            "_view_module": "@jupyter-widgets/controls",
            "_view_module_version": "1.5.0",
            "_view_name": "HTMLView",
            "description": "",
            "description_tooltip": null,
            "layout": "IPY_MODEL_0d544f623f0542fd8922496fee8d3c32",
            "placeholder": "​",
            "style": "IPY_MODEL_4811d0bfb2694b8b81f4d272f32709c1",
            "value": "special_tokens_map.json: 100%"
          }
        },
        "78b6770fc15f4a059e92d9f16ac1074f": {
          "model_module": "@jupyter-widgets/controls",
          "model_name": "FloatProgressModel",
          "model_module_version": "1.5.0",
          "state": {
            "_dom_classes": [],
            "_model_module": "@jupyter-widgets/controls",
            "_model_module_version": "1.5.0",
            "_model_name": "FloatProgressModel",
            "_view_count": null,
            "_view_module": "@jupyter-widgets/controls",
            "_view_module_version": "1.5.0",
            "_view_name": "ProgressView",
            "bar_style": "success",
            "description": "",
            "description_tooltip": null,
            "layout": "IPY_MODEL_3bf7dccba96146a29c7b0043a56006d6",
            "max": 239,
            "min": 0,
            "orientation": "horizontal",
            "style": "IPY_MODEL_fb3d5f9daa59499ba818a995fa3252b4",
            "value": 239
          }
        },
        "434240be3266461e812a8b2faef6b174": {
          "model_module": "@jupyter-widgets/controls",
          "model_name": "HTMLModel",
          "model_module_version": "1.5.0",
          "state": {
            "_dom_classes": [],
            "_model_module": "@jupyter-widgets/controls",
            "_model_module_version": "1.5.0",
            "_model_name": "HTMLModel",
            "_view_count": null,
            "_view_module": "@jupyter-widgets/controls",
            "_view_module_version": "1.5.0",
            "_view_name": "HTMLView",
            "description": "",
            "description_tooltip": null,
            "layout": "IPY_MODEL_d81f7633c5cd453c85519720dda7778a",
            "placeholder": "​",
            "style": "IPY_MODEL_822d66d272bd4ef69ddaf62314d5fd7c",
            "value": " 239/239 [00:00&lt;00:00, 21.5kB/s]"
          }
        },
        "0066c3189f69469cb3e07924a8cbf3b6": {
          "model_module": "@jupyter-widgets/base",
          "model_name": "LayoutModel",
          "model_module_version": "1.2.0",
          "state": {
            "_model_module": "@jupyter-widgets/base",
            "_model_module_version": "1.2.0",
            "_model_name": "LayoutModel",
            "_view_count": null,
            "_view_module": "@jupyter-widgets/base",
            "_view_module_version": "1.2.0",
            "_view_name": "LayoutView",
            "align_content": null,
            "align_items": null,
            "align_self": null,
            "border": null,
            "bottom": null,
            "display": null,
            "flex": null,
            "flex_flow": null,
            "grid_area": null,
            "grid_auto_columns": null,
            "grid_auto_flow": null,
            "grid_auto_rows": null,
            "grid_column": null,
            "grid_gap": null,
            "grid_row": null,
            "grid_template_areas": null,
            "grid_template_columns": null,
            "grid_template_rows": null,
            "height": null,
            "justify_content": null,
            "justify_items": null,
            "left": null,
            "margin": null,
            "max_height": null,
            "max_width": null,
            "min_height": null,
            "min_width": null,
            "object_fit": null,
            "object_position": null,
            "order": null,
            "overflow": null,
            "overflow_x": null,
            "overflow_y": null,
            "padding": null,
            "right": null,
            "top": null,
            "visibility": null,
            "width": null
          }
        },
        "0d544f623f0542fd8922496fee8d3c32": {
          "model_module": "@jupyter-widgets/base",
          "model_name": "LayoutModel",
          "model_module_version": "1.2.0",
          "state": {
            "_model_module": "@jupyter-widgets/base",
            "_model_module_version": "1.2.0",
            "_model_name": "LayoutModel",
            "_view_count": null,
            "_view_module": "@jupyter-widgets/base",
            "_view_module_version": "1.2.0",
            "_view_name": "LayoutView",
            "align_content": null,
            "align_items": null,
            "align_self": null,
            "border": null,
            "bottom": null,
            "display": null,
            "flex": null,
            "flex_flow": null,
            "grid_area": null,
            "grid_auto_columns": null,
            "grid_auto_flow": null,
            "grid_auto_rows": null,
            "grid_column": null,
            "grid_gap": null,
            "grid_row": null,
            "grid_template_areas": null,
            "grid_template_columns": null,
            "grid_template_rows": null,
            "height": null,
            "justify_content": null,
            "justify_items": null,
            "left": null,
            "margin": null,
            "max_height": null,
            "max_width": null,
            "min_height": null,
            "min_width": null,
            "object_fit": null,
            "object_position": null,
            "order": null,
            "overflow": null,
            "overflow_x": null,
            "overflow_y": null,
            "padding": null,
            "right": null,
            "top": null,
            "visibility": null,
            "width": null
          }
        },
        "4811d0bfb2694b8b81f4d272f32709c1": {
          "model_module": "@jupyter-widgets/controls",
          "model_name": "DescriptionStyleModel",
          "model_module_version": "1.5.0",
          "state": {
            "_model_module": "@jupyter-widgets/controls",
            "_model_module_version": "1.5.0",
            "_model_name": "DescriptionStyleModel",
            "_view_count": null,
            "_view_module": "@jupyter-widgets/base",
            "_view_module_version": "1.2.0",
            "_view_name": "StyleView",
            "description_width": ""
          }
        },
        "3bf7dccba96146a29c7b0043a56006d6": {
          "model_module": "@jupyter-widgets/base",
          "model_name": "LayoutModel",
          "model_module_version": "1.2.0",
          "state": {
            "_model_module": "@jupyter-widgets/base",
            "_model_module_version": "1.2.0",
            "_model_name": "LayoutModel",
            "_view_count": null,
            "_view_module": "@jupyter-widgets/base",
            "_view_module_version": "1.2.0",
            "_view_name": "LayoutView",
            "align_content": null,
            "align_items": null,
            "align_self": null,
            "border": null,
            "bottom": null,
            "display": null,
            "flex": null,
            "flex_flow": null,
            "grid_area": null,
            "grid_auto_columns": null,
            "grid_auto_flow": null,
            "grid_auto_rows": null,
            "grid_column": null,
            "grid_gap": null,
            "grid_row": null,
            "grid_template_areas": null,
            "grid_template_columns": null,
            "grid_template_rows": null,
            "height": null,
            "justify_content": null,
            "justify_items": null,
            "left": null,
            "margin": null,
            "max_height": null,
            "max_width": null,
            "min_height": null,
            "min_width": null,
            "object_fit": null,
            "object_position": null,
            "order": null,
            "overflow": null,
            "overflow_x": null,
            "overflow_y": null,
            "padding": null,
            "right": null,
            "top": null,
            "visibility": null,
            "width": null
          }
        },
        "fb3d5f9daa59499ba818a995fa3252b4": {
          "model_module": "@jupyter-widgets/controls",
          "model_name": "ProgressStyleModel",
          "model_module_version": "1.5.0",
          "state": {
            "_model_module": "@jupyter-widgets/controls",
            "_model_module_version": "1.5.0",
            "_model_name": "ProgressStyleModel",
            "_view_count": null,
            "_view_module": "@jupyter-widgets/base",
            "_view_module_version": "1.2.0",
            "_view_name": "StyleView",
            "bar_color": null,
            "description_width": ""
          }
        },
        "d81f7633c5cd453c85519720dda7778a": {
          "model_module": "@jupyter-widgets/base",
          "model_name": "LayoutModel",
          "model_module_version": "1.2.0",
          "state": {
            "_model_module": "@jupyter-widgets/base",
            "_model_module_version": "1.2.0",
            "_model_name": "LayoutModel",
            "_view_count": null,
            "_view_module": "@jupyter-widgets/base",
            "_view_module_version": "1.2.0",
            "_view_name": "LayoutView",
            "align_content": null,
            "align_items": null,
            "align_self": null,
            "border": null,
            "bottom": null,
            "display": null,
            "flex": null,
            "flex_flow": null,
            "grid_area": null,
            "grid_auto_columns": null,
            "grid_auto_flow": null,
            "grid_auto_rows": null,
            "grid_column": null,
            "grid_gap": null,
            "grid_row": null,
            "grid_template_areas": null,
            "grid_template_columns": null,
            "grid_template_rows": null,
            "height": null,
            "justify_content": null,
            "justify_items": null,
            "left": null,
            "margin": null,
            "max_height": null,
            "max_width": null,
            "min_height": null,
            "min_width": null,
            "object_fit": null,
            "object_position": null,
            "order": null,
            "overflow": null,
            "overflow_x": null,
            "overflow_y": null,
            "padding": null,
            "right": null,
            "top": null,
            "visibility": null,
            "width": null
          }
        },
        "822d66d272bd4ef69ddaf62314d5fd7c": {
          "model_module": "@jupyter-widgets/controls",
          "model_name": "DescriptionStyleModel",
          "model_module_version": "1.5.0",
          "state": {
            "_model_module": "@jupyter-widgets/controls",
            "_model_module_version": "1.5.0",
            "_model_name": "DescriptionStyleModel",
            "_view_count": null,
            "_view_module": "@jupyter-widgets/base",
            "_view_module_version": "1.2.0",
            "_view_name": "StyleView",
            "description_width": ""
          }
        },
        "6b83dfc8ff004548b9bb2b6b7cf6e858": {
          "model_module": "@jupyter-widgets/controls",
          "model_name": "HBoxModel",
          "model_module_version": "1.5.0",
          "state": {
            "_dom_classes": [],
            "_model_module": "@jupyter-widgets/controls",
            "_model_module_version": "1.5.0",
            "_model_name": "HBoxModel",
            "_view_count": null,
            "_view_module": "@jupyter-widgets/controls",
            "_view_module_version": "1.5.0",
            "_view_name": "HBoxView",
            "box_style": "",
            "children": [
              "IPY_MODEL_dae6c6ef6e0245a6b5480721f46dcab1",
              "IPY_MODEL_744ed4bbb1e24cdaa9609823907ccb73",
              "IPY_MODEL_bd3021f1efc54baeaf24ce7e48726922"
            ],
            "layout": "IPY_MODEL_115992d4ebb84025b342bc3f2a6ad1f3"
          }
        },
        "dae6c6ef6e0245a6b5480721f46dcab1": {
          "model_module": "@jupyter-widgets/controls",
          "model_name": "HTMLModel",
          "model_module_version": "1.5.0",
          "state": {
            "_dom_classes": [],
            "_model_module": "@jupyter-widgets/controls",
            "_model_module_version": "1.5.0",
            "_model_name": "HTMLModel",
            "_view_count": null,
            "_view_module": "@jupyter-widgets/controls",
            "_view_module_version": "1.5.0",
            "_view_name": "HTMLView",
            "description": "",
            "description_tooltip": null,
            "layout": "IPY_MODEL_c51c0c50ff6743e68a0b2dd2439be4ae",
            "placeholder": "​",
            "style": "IPY_MODEL_c77ddd8dea8b48d596388fc7077d0b87",
            "value": "config.json: 100%"
          }
        },
        "744ed4bbb1e24cdaa9609823907ccb73": {
          "model_module": "@jupyter-widgets/controls",
          "model_name": "FloatProgressModel",
          "model_module_version": "1.5.0",
          "state": {
            "_dom_classes": [],
            "_model_module": "@jupyter-widgets/controls",
            "_model_module_version": "1.5.0",
            "_model_name": "FloatProgressModel",
            "_view_count": null,
            "_view_module": "@jupyter-widgets/controls",
            "_view_module_version": "1.5.0",
            "_view_name": "ProgressView",
            "bar_style": "success",
            "description": "",
            "description_tooltip": null,
            "layout": "IPY_MODEL_06318635f0394915ae688650515e3ac5",
            "max": 190,
            "min": 0,
            "orientation": "horizontal",
            "style": "IPY_MODEL_993b2f7eb7f74310bc63a3ad4984ea23",
            "value": 190
          }
        },
        "bd3021f1efc54baeaf24ce7e48726922": {
          "model_module": "@jupyter-widgets/controls",
          "model_name": "HTMLModel",
          "model_module_version": "1.5.0",
          "state": {
            "_dom_classes": [],
            "_model_module": "@jupyter-widgets/controls",
            "_model_module_version": "1.5.0",
            "_model_name": "HTMLModel",
            "_view_count": null,
            "_view_module": "@jupyter-widgets/controls",
            "_view_module_version": "1.5.0",
            "_view_name": "HTMLView",
            "description": "",
            "description_tooltip": null,
            "layout": "IPY_MODEL_264d123f37124edd92cb940efee6cea0",
            "placeholder": "​",
            "style": "IPY_MODEL_0cc939a49b544ee58d750ee518a0d587",
            "value": " 190/190 [00:00&lt;00:00, 13.2kB/s]"
          }
        },
        "115992d4ebb84025b342bc3f2a6ad1f3": {
          "model_module": "@jupyter-widgets/base",
          "model_name": "LayoutModel",
          "model_module_version": "1.2.0",
          "state": {
            "_model_module": "@jupyter-widgets/base",
            "_model_module_version": "1.2.0",
            "_model_name": "LayoutModel",
            "_view_count": null,
            "_view_module": "@jupyter-widgets/base",
            "_view_module_version": "1.2.0",
            "_view_name": "LayoutView",
            "align_content": null,
            "align_items": null,
            "align_self": null,
            "border": null,
            "bottom": null,
            "display": null,
            "flex": null,
            "flex_flow": null,
            "grid_area": null,
            "grid_auto_columns": null,
            "grid_auto_flow": null,
            "grid_auto_rows": null,
            "grid_column": null,
            "grid_gap": null,
            "grid_row": null,
            "grid_template_areas": null,
            "grid_template_columns": null,
            "grid_template_rows": null,
            "height": null,
            "justify_content": null,
            "justify_items": null,
            "left": null,
            "margin": null,
            "max_height": null,
            "max_width": null,
            "min_height": null,
            "min_width": null,
            "object_fit": null,
            "object_position": null,
            "order": null,
            "overflow": null,
            "overflow_x": null,
            "overflow_y": null,
            "padding": null,
            "right": null,
            "top": null,
            "visibility": null,
            "width": null
          }
        },
        "c51c0c50ff6743e68a0b2dd2439be4ae": {
          "model_module": "@jupyter-widgets/base",
          "model_name": "LayoutModel",
          "model_module_version": "1.2.0",
          "state": {
            "_model_module": "@jupyter-widgets/base",
            "_model_module_version": "1.2.0",
            "_model_name": "LayoutModel",
            "_view_count": null,
            "_view_module": "@jupyter-widgets/base",
            "_view_module_version": "1.2.0",
            "_view_name": "LayoutView",
            "align_content": null,
            "align_items": null,
            "align_self": null,
            "border": null,
            "bottom": null,
            "display": null,
            "flex": null,
            "flex_flow": null,
            "grid_area": null,
            "grid_auto_columns": null,
            "grid_auto_flow": null,
            "grid_auto_rows": null,
            "grid_column": null,
            "grid_gap": null,
            "grid_row": null,
            "grid_template_areas": null,
            "grid_template_columns": null,
            "grid_template_rows": null,
            "height": null,
            "justify_content": null,
            "justify_items": null,
            "left": null,
            "margin": null,
            "max_height": null,
            "max_width": null,
            "min_height": null,
            "min_width": null,
            "object_fit": null,
            "object_position": null,
            "order": null,
            "overflow": null,
            "overflow_x": null,
            "overflow_y": null,
            "padding": null,
            "right": null,
            "top": null,
            "visibility": null,
            "width": null
          }
        },
        "c77ddd8dea8b48d596388fc7077d0b87": {
          "model_module": "@jupyter-widgets/controls",
          "model_name": "DescriptionStyleModel",
          "model_module_version": "1.5.0",
          "state": {
            "_model_module": "@jupyter-widgets/controls",
            "_model_module_version": "1.5.0",
            "_model_name": "DescriptionStyleModel",
            "_view_count": null,
            "_view_module": "@jupyter-widgets/base",
            "_view_module_version": "1.2.0",
            "_view_name": "StyleView",
            "description_width": ""
          }
        },
        "06318635f0394915ae688650515e3ac5": {
          "model_module": "@jupyter-widgets/base",
          "model_name": "LayoutModel",
          "model_module_version": "1.2.0",
          "state": {
            "_model_module": "@jupyter-widgets/base",
            "_model_module_version": "1.2.0",
            "_model_name": "LayoutModel",
            "_view_count": null,
            "_view_module": "@jupyter-widgets/base",
            "_view_module_version": "1.2.0",
            "_view_name": "LayoutView",
            "align_content": null,
            "align_items": null,
            "align_self": null,
            "border": null,
            "bottom": null,
            "display": null,
            "flex": null,
            "flex_flow": null,
            "grid_area": null,
            "grid_auto_columns": null,
            "grid_auto_flow": null,
            "grid_auto_rows": null,
            "grid_column": null,
            "grid_gap": null,
            "grid_row": null,
            "grid_template_areas": null,
            "grid_template_columns": null,
            "grid_template_rows": null,
            "height": null,
            "justify_content": null,
            "justify_items": null,
            "left": null,
            "margin": null,
            "max_height": null,
            "max_width": null,
            "min_height": null,
            "min_width": null,
            "object_fit": null,
            "object_position": null,
            "order": null,
            "overflow": null,
            "overflow_x": null,
            "overflow_y": null,
            "padding": null,
            "right": null,
            "top": null,
            "visibility": null,
            "width": null
          }
        },
        "993b2f7eb7f74310bc63a3ad4984ea23": {
          "model_module": "@jupyter-widgets/controls",
          "model_name": "ProgressStyleModel",
          "model_module_version": "1.5.0",
          "state": {
            "_model_module": "@jupyter-widgets/controls",
            "_model_module_version": "1.5.0",
            "_model_name": "ProgressStyleModel",
            "_view_count": null,
            "_view_module": "@jupyter-widgets/base",
            "_view_module_version": "1.2.0",
            "_view_name": "StyleView",
            "bar_color": null,
            "description_width": ""
          }
        },
        "264d123f37124edd92cb940efee6cea0": {
          "model_module": "@jupyter-widgets/base",
          "model_name": "LayoutModel",
          "model_module_version": "1.2.0",
          "state": {
            "_model_module": "@jupyter-widgets/base",
            "_model_module_version": "1.2.0",
            "_model_name": "LayoutModel",
            "_view_count": null,
            "_view_module": "@jupyter-widgets/base",
            "_view_module_version": "1.2.0",
            "_view_name": "LayoutView",
            "align_content": null,
            "align_items": null,
            "align_self": null,
            "border": null,
            "bottom": null,
            "display": null,
            "flex": null,
            "flex_flow": null,
            "grid_area": null,
            "grid_auto_columns": null,
            "grid_auto_flow": null,
            "grid_auto_rows": null,
            "grid_column": null,
            "grid_gap": null,
            "grid_row": null,
            "grid_template_areas": null,
            "grid_template_columns": null,
            "grid_template_rows": null,
            "height": null,
            "justify_content": null,
            "justify_items": null,
            "left": null,
            "margin": null,
            "max_height": null,
            "max_width": null,
            "min_height": null,
            "min_width": null,
            "object_fit": null,
            "object_position": null,
            "order": null,
            "overflow": null,
            "overflow_x": null,
            "overflow_y": null,
            "padding": null,
            "right": null,
            "top": null,
            "visibility": null,
            "width": null
          }
        },
        "0cc939a49b544ee58d750ee518a0d587": {
          "model_module": "@jupyter-widgets/controls",
          "model_name": "DescriptionStyleModel",
          "model_module_version": "1.5.0",
          "state": {
            "_model_module": "@jupyter-widgets/controls",
            "_model_module_version": "1.5.0",
            "_model_name": "DescriptionStyleModel",
            "_view_count": null,
            "_view_module": "@jupyter-widgets/base",
            "_view_module_version": "1.2.0",
            "_view_name": "StyleView",
            "description_width": ""
          }
        }
      }
    }
  },
  "nbformat": 4,
  "nbformat_minor": 0
}